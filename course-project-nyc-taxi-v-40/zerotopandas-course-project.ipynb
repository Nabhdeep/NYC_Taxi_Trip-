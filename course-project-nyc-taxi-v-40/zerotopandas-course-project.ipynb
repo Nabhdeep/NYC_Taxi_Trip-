{
 "cells": [
  {
   "cell_type": "markdown",
   "metadata": {
    "id": "X9CBpVPulzSY"
   },
   "source": [
    "# Project Title - NYC Taxi Trip Data\n",
    "\n",
    "This is the Dataset about the Taxi Trip in NYC. We will analyse the this data to know various Info from it using Numpy,Pandas and then visualize it using Mathplotlib and Seaborn. This is also a final project for Data Analysis with Python: Zero to Pandas from JovianAI. "
   ]
  },
  {
   "cell_type": "markdown",
   "metadata": {
    "id": "THNAD2tMlzSa"
   },
   "source": [
    "## Downloading the Dataset\n",
    "\n",
    "Here we will download the Dataset form kaggle to Google Colab and then we'll proceed with basic data cleaning and prepration."
   ]
  },
  {
   "cell_type": "code",
   "execution_count": 4,
   "metadata": {
    "executionInfo": {
     "elapsed": 3353,
     "status": "ok",
     "timestamp": 1654431934128,
     "user": {
      "displayName": "Nabhdeep Choudhary",
      "userId": "10453203815156583225"
     },
     "user_tz": -330
    },
    "id": "JRyLX74HlzSc"
   },
   "outputs": [],
   "source": [
    "!pip install jovian opendatasets --upgrade --quiet"
   ]
  },
  {
   "cell_type": "markdown",
   "metadata": {
    "id": "PD1RIYj3lzSd"
   },
   "source": [
    "Let's begin by downloading the data, and listing the files within the dataset."
   ]
  },
  {
   "cell_type": "code",
   "execution_count": 5,
   "metadata": {
    "executionInfo": {
     "elapsed": 36,
     "status": "ok",
     "timestamp": 1654431934129,
     "user": {
      "displayName": "Nabhdeep Choudhary",
      "userId": "10453203815156583225"
     },
     "user_tz": -330
    },
    "id": "wFYgHwEblzSe"
   },
   "outputs": [],
   "source": [
    "dataset_url = 'https://www.kaggle.com/datasets/neilclack/nyc-taxi-trip-data-google-public-data?select=taxi_trip_data.csv' "
   ]
  },
  {
   "cell_type": "code",
   "execution_count": 6,
   "metadata": {
    "colab": {
     "base_uri": "https://localhost:8080/"
    },
    "executionInfo": {
     "elapsed": 53831,
     "status": "ok",
     "timestamp": 1654431987925,
     "user": {
      "displayName": "Nabhdeep Choudhary",
      "userId": "10453203815156583225"
     },
     "user_tz": -330
    },
    "id": "U5-9iQ1slzSf",
    "outputId": "e1bed4dc-ee94-40a4-c830-3c79d05d7a50"
   },
   "outputs": [
    {
     "name": "stdout",
     "output_type": "stream",
     "text": [
      "Please provide your Kaggle credentials to download this dataset. Learn more: http://bit.ly/kaggle-creds\n",
      "Your Kaggle username: casimirknight\n",
      "Your Kaggle Key: ··········\n",
      "Downloading nyc-taxi-trip-data-google-public-data.zip to ./nyc-taxi-trip-data-google-public-data\n"
     ]
    },
    {
     "name": "stderr",
     "output_type": "stream",
     "text": [
      "100%|██████████| 422M/422M [00:18<00:00, 23.5MB/s]\n"
     ]
    },
    {
     "name": "stdout",
     "output_type": "stream",
     "text": [
      "\n"
     ]
    }
   ],
   "source": [
    "import opendatasets as od\n",
    "od.download(dataset_url)"
   ]
  },
  {
   "cell_type": "markdown",
   "metadata": {
    "id": "LW0OIst-lzSh"
   },
   "source": [
    "The dataset has been downloaded and extracted."
   ]
  },
  {
   "cell_type": "code",
   "execution_count": 7,
   "metadata": {
    "executionInfo": {
     "elapsed": 14,
     "status": "ok",
     "timestamp": 1654431987926,
     "user": {
      "displayName": "Nabhdeep Choudhary",
      "userId": "10453203815156583225"
     },
     "user_tz": -330
    },
    "id": "6GXoQRCflzSh"
   },
   "outputs": [],
   "source": [
    "data_file = './nyc-taxi-trip-data-google-public-data/taxi_trip_data.csv'"
   ]
  },
  {
   "cell_type": "code",
   "execution_count": 8,
   "metadata": {
    "executionInfo": {
     "elapsed": 12,
     "status": "ok",
     "timestamp": 1654431987926,
     "user": {
      "displayName": "Nabhdeep Choudhary",
      "userId": "10453203815156583225"
     },
     "user_tz": -330
    },
    "id": "zqev0XsPrmub"
   },
   "outputs": [],
   "source": [
    "data_geo = './nyc-taxi-trip-data-google-public-data/taxi_zone_geo.csv'"
   ]
  },
  {
   "cell_type": "markdown",
   "metadata": {
    "id": "0gJ0qckxlzSj"
   },
   "source": [
    "Let us save and upload our work to Jovian before continuing."
   ]
  },
  {
   "cell_type": "code",
   "execution_count": 9,
   "metadata": {
    "executionInfo": {
     "elapsed": 13,
     "status": "ok",
     "timestamp": 1654431987927,
     "user": {
      "displayName": "Nabhdeep Choudhary",
      "userId": "10453203815156583225"
     },
     "user_tz": -330
    },
    "id": "YfZClSrTlzSj"
   },
   "outputs": [],
   "source": [
    "project_name = \"course-project-nyc-taxi\" # change this (use lowercase letters and hyphens only)"
   ]
  },
  {
   "cell_type": "code",
   "execution_count": 10,
   "metadata": {
    "executionInfo": {
     "elapsed": 3352,
     "status": "ok",
     "timestamp": 1654431991267,
     "user": {
      "displayName": "Nabhdeep Choudhary",
      "userId": "10453203815156583225"
     },
     "user_tz": -330
    },
    "id": "Nb9s4gvSlzSk"
   },
   "outputs": [],
   "source": [
    "!pip install jovian --upgrade -q"
   ]
  },
  {
   "cell_type": "code",
   "execution_count": 11,
   "metadata": {
    "executionInfo": {
     "elapsed": 55,
     "status": "ok",
     "timestamp": 1654431991268,
     "user": {
      "displayName": "Nabhdeep Choudhary",
      "userId": "10453203815156583225"
     },
     "user_tz": -330
    },
    "id": "kMznQ4mWlzSl"
   },
   "outputs": [],
   "source": [
    "import jovian"
   ]
  },
  {
   "cell_type": "code",
   "execution_count": 12,
   "metadata": {
    "colab": {
     "base_uri": "https://localhost:8080/",
     "height": 122
    },
    "executionInfo": {
     "elapsed": 12436,
     "status": "ok",
     "timestamp": 1654432003649,
     "user": {
      "displayName": "Nabhdeep Choudhary",
      "userId": "10453203815156583225"
     },
     "user_tz": -330
    },
    "id": "67vLi-99lzSl",
    "outputId": "64c09fb6-a13e-40a7-ab0e-01ec70e66cbb"
   },
   "outputs": [
    {
     "name": "stdout",
     "output_type": "stream",
     "text": [
      "[jovian] Detected Colab notebook...\u001b[0m\n",
      "[jovian] Please enter your API key ( from https://jovian.ai/ ):\u001b[0m\n",
      "API KEY: ··········\n",
      "[jovian] Uploading colab notebook to Jovian...\u001b[0m\n",
      "Committed successfully! https://jovian.ai/deep3700/course-project-nyc-taxi\n"
     ]
    },
    {
     "data": {
      "application/vnd.google.colaboratory.intrinsic+json": {
       "type": "string"
      },
      "text/plain": [
       "'https://jovian.ai/deep3700/course-project-nyc-taxi'"
      ]
     },
     "execution_count": 12,
     "metadata": {},
     "output_type": "execute_result"
    }
   ],
   "source": [
    "jovian.commit(project=project_name)"
   ]
  },
  {
   "cell_type": "markdown",
   "metadata": {
    "id": "asuZRQuSlzSm"
   },
   "source": [
    "## Data Preparation and Cleaning\n",
    "\n",
    "\n",
    "\n"
   ]
  },
  {
   "cell_type": "code",
   "execution_count": 13,
   "metadata": {
    "executionInfo": {
     "elapsed": 1046,
     "status": "ok",
     "timestamp": 1654432005459,
     "user": {
      "displayName": "Nabhdeep Choudhary",
      "userId": "10453203815156583225"
     },
     "user_tz": -330
    },
    "id": "0R5pJscblzSn"
   },
   "outputs": [],
   "source": [
    "import numpy as np\n",
    "import pandas as pd"
   ]
  },
  {
   "cell_type": "code",
   "execution_count": 14,
   "metadata": {
    "executionInfo": {
     "elapsed": 33574,
     "status": "ok",
     "timestamp": 1654432039992,
     "user": {
      "displayName": "Nabhdeep Choudhary",
      "userId": "10453203815156583225"
     },
     "user_tz": -330
    },
    "id": "E9gUQlGhlzSn"
   },
   "outputs": [],
   "source": [
    "df  = pd.read_csv(data_file)"
   ]
  },
  {
   "cell_type": "code",
   "execution_count": 15,
   "metadata": {
    "executionInfo": {
     "elapsed": 34,
     "status": "ok",
     "timestamp": 1654432039993,
     "user": {
      "displayName": "Nabhdeep Choudhary",
      "userId": "10453203815156583225"
     },
     "user_tz": -330
    },
    "id": "vQCFndeTr0sB"
   },
   "outputs": [],
   "source": [
    "df_geo = pd.read_csv(data_geo)"
   ]
  },
  {
   "cell_type": "code",
   "execution_count": 16,
   "metadata": {
    "colab": {
     "base_uri": "https://localhost:8080/"
    },
    "executionInfo": {
     "elapsed": 31,
     "status": "ok",
     "timestamp": 1654432039993,
     "user": {
      "displayName": "Nabhdeep Choudhary",
      "userId": "10453203815156583225"
     },
     "user_tz": -330
    },
    "id": "f82W14yGlzSn",
    "outputId": "c451cbfe-d018-4d18-fc2f-1ccdcd7091d0"
   },
   "outputs": [
    {
     "name": "stdout",
     "output_type": "stream",
     "text": [
      "<class 'pandas.core.frame.DataFrame'>\n",
      "RangeIndex: 10000000 entries, 0 to 9999999\n",
      "Data columns (total 17 columns):\n",
      " #   Column               Dtype  \n",
      "---  ------               -----  \n",
      " 0   vendor_id            int64  \n",
      " 1   pickup_datetime      object \n",
      " 2   dropoff_datetime     object \n",
      " 3   passenger_count      int64  \n",
      " 4   trip_distance        float64\n",
      " 5   rate_code            int64  \n",
      " 6   store_and_fwd_flag   object \n",
      " 7   payment_type         int64  \n",
      " 8   fare_amount          float64\n",
      " 9   extra                float64\n",
      " 10  mta_tax              float64\n",
      " 11  tip_amount           float64\n",
      " 12  tolls_amount         float64\n",
      " 13  imp_surcharge        float64\n",
      " 14  total_amount         float64\n",
      " 15  pickup_location_id   int64  \n",
      " 16  dropoff_location_id  int64  \n",
      "dtypes: float64(8), int64(6), object(3)\n",
      "memory usage: 1.3+ GB\n"
     ]
    }
   ],
   "source": [
    "df.info()"
   ]
  },
  {
   "cell_type": "markdown",
   "metadata": {
    "id": "0uqSPlttIKKD"
   },
   "source": [
    "As datetime are datatype obejct. We'll have to covert them into datetime datatype"
   ]
  },
  {
   "cell_type": "code",
   "execution_count": 17,
   "metadata": {
    "executionInfo": {
     "elapsed": 550,
     "status": "ok",
     "timestamp": 1654432042109,
     "user": {
      "displayName": "Nabhdeep Choudhary",
      "userId": "10453203815156583225"
     },
     "user_tz": -330
    },
    "id": "hiwgo2g9k5CH"
   },
   "outputs": [],
   "source": [
    "df['pickup_datetime'] = pd.to_datetime(df.pickup_datetime)"
   ]
  },
  {
   "cell_type": "code",
   "execution_count": 18,
   "metadata": {
    "executionInfo": {
     "elapsed": 12,
     "status": "ok",
     "timestamp": 1654432044017,
     "user": {
      "displayName": "Nabhdeep Choudhary",
      "userId": "10453203815156583225"
     },
     "user_tz": -330
    },
    "id": "wjIN6guHlMNW"
   },
   "outputs": [],
   "source": [
    "df['dropoff_datetime'] = pd.to_datetime(df.dropoff_datetime )"
   ]
  },
  {
   "cell_type": "code",
   "execution_count": 19,
   "metadata": {
    "colab": {
     "base_uri": "https://localhost:8080/"
    },
    "executionInfo": {
     "elapsed": 9,
     "status": "ok",
     "timestamp": 1654432044017,
     "user": {
      "displayName": "Nabhdeep Choudhary",
      "userId": "10453203815156583225"
     },
     "user_tz": -330
    },
    "id": "WTa_T0sBl4lt",
    "outputId": "3a2173e6-3d42-478b-a6f5-a540df7cfcee"
   },
   "outputs": [
    {
     "name": "stdout",
     "output_type": "stream",
     "text": [
      "<class 'pandas.core.frame.DataFrame'>\n",
      "RangeIndex: 10000000 entries, 0 to 9999999\n",
      "Data columns (total 17 columns):\n",
      " #   Column               Dtype         \n",
      "---  ------               -----         \n",
      " 0   vendor_id            int64         \n",
      " 1   pickup_datetime      datetime64[ns]\n",
      " 2   dropoff_datetime     datetime64[ns]\n",
      " 3   passenger_count      int64         \n",
      " 4   trip_distance        float64       \n",
      " 5   rate_code            int64         \n",
      " 6   store_and_fwd_flag   object        \n",
      " 7   payment_type         int64         \n",
      " 8   fare_amount          float64       \n",
      " 9   extra                float64       \n",
      " 10  mta_tax              float64       \n",
      " 11  tip_amount           float64       \n",
      " 12  tolls_amount         float64       \n",
      " 13  imp_surcharge        float64       \n",
      " 14  total_amount         float64       \n",
      " 15  pickup_location_id   int64         \n",
      " 16  dropoff_location_id  int64         \n",
      "dtypes: datetime64[ns](2), float64(8), int64(6), object(1)\n",
      "memory usage: 1.3+ GB\n"
     ]
    }
   ],
   "source": [
    "df.info()"
   ]
  },
  {
   "cell_type": "markdown",
   "metadata": {
    "id": "ZEOhcR97KeKX"
   },
   "source": [
    "As we have converted the  datetime in datetime datatype we can get the day of the week or even hour from that time"
   ]
  },
  {
   "cell_type": "code",
   "execution_count": 36,
   "metadata": {
    "executionInfo": {
     "elapsed": 1608,
     "status": "ok",
     "timestamp": 1654434309663,
     "user": {
      "displayName": "Nabhdeep Choudhary",
      "userId": "10453203815156583225"
     },
     "user_tz": -330
    },
    "id": "9XF7UYM29y4O"
   },
   "outputs": [],
   "source": [
    "df['pickup_hour'] = df.pickup_datetime.dt.hour"
   ]
  },
  {
   "cell_type": "code",
   "execution_count": 37,
   "metadata": {
    "executionInfo": {
     "elapsed": 591,
     "status": "ok",
     "timestamp": 1654434396009,
     "user": {
      "displayName": "Nabhdeep Choudhary",
      "userId": "10453203815156583225"
     },
     "user_tz": -330
    },
    "id": "8odDhx6BlzSv"
   },
   "outputs": [],
   "source": [
    "def time_day(x):\n",
    "  if x in range(6,12):\n",
    "    return 'Morning'\n",
    "  elif x in range(12,16):\n",
    "    return 'Afternoon'\n",
    "  elif x in range(16,22):\n",
    "    return 'Evening'\n",
    "  else:\n",
    "    return 'Late Night'\n"
   ]
  },
  {
   "cell_type": "code",
   "execution_count": 38,
   "metadata": {
    "executionInfo": {
     "elapsed": 17263,
     "status": "ok",
     "timestamp": 1654434416415,
     "user": {
      "displayName": "Nabhdeep Choudhary",
      "userId": "10453203815156583225"
     },
     "user_tz": -330
    },
    "id": "vJnWiTI4lzSv"
   },
   "outputs": [],
   "source": [
    "df['pickup_time_of_day']= df.pickup_datetime.dt.hour.apply(time_day)\n",
    "df['dropoff_time_of_day']= df.dropoff_datetime.dt.hour.apply(time_day)\n"
   ]
  },
  {
   "cell_type": "markdown",
   "metadata": {
    "id": "ygzwnx2cK-oa"
   },
   "source": [
    "Now we have just take the hour out of the datetime and gave that hour to our function which will return what time of the day it is like if the hour is between 6AM to 12PM then it will return 'morning' and respectively."
   ]
  },
  {
   "cell_type": "code",
   "execution_count": 69,
   "metadata": {
    "colab": {
     "base_uri": "https://localhost:8080/",
     "height": 874
    },
    "executionInfo": {
     "elapsed": 1104,
     "status": "ok",
     "timestamp": 1654437029424,
     "user": {
      "displayName": "Nabhdeep Choudhary",
      "userId": "10453203815156583225"
     },
     "user_tz": -330
    },
    "id": "_-_thIQ4lzSo",
    "outputId": "d3714cb1-db50-4691-cf37-eb0ec7565203"
   },
   "outputs": [
    {
     "data": {
      "text/html": [
       "\n",
       "  <div id=\"df-76bcdc3e-770e-4034-84ca-b296f1303d2d\">\n",
       "    <div class=\"colab-df-container\">\n",
       "      <div>\n",
       "<style scoped>\n",
       "    .dataframe tbody tr th:only-of-type {\n",
       "        vertical-align: middle;\n",
       "    }\n",
       "\n",
       "    .dataframe tbody tr th {\n",
       "        vertical-align: top;\n",
       "    }\n",
       "\n",
       "    .dataframe thead th {\n",
       "        text-align: right;\n",
       "    }\n",
       "</style>\n",
       "<table border=\"1\" class=\"dataframe\">\n",
       "  <thead>\n",
       "    <tr style=\"text-align: right;\">\n",
       "      <th></th>\n",
       "      <th>vendor_id</th>\n",
       "      <th>pickup_datetime</th>\n",
       "      <th>dropoff_datetime</th>\n",
       "      <th>passenger_count</th>\n",
       "      <th>trip_distance</th>\n",
       "      <th>rate_code</th>\n",
       "      <th>store_and_fwd_flag</th>\n",
       "      <th>payment_type</th>\n",
       "      <th>fare_amount</th>\n",
       "      <th>extra</th>\n",
       "      <th>...</th>\n",
       "      <th>pickup_location_id</th>\n",
       "      <th>dropoff_location_id</th>\n",
       "      <th>pickup_area_name</th>\n",
       "      <th>dropoff_area_name</th>\n",
       "      <th>trip_duration</th>\n",
       "      <th>pickup_hour</th>\n",
       "      <th>pickup_time_of_day</th>\n",
       "      <th>dropoff_time_of_day</th>\n",
       "      <th>pickup_days</th>\n",
       "      <th>Dropoff_days</th>\n",
       "    </tr>\n",
       "  </thead>\n",
       "  <tbody>\n",
       "    <tr>\n",
       "      <th>579069</th>\n",
       "      <td>1</td>\n",
       "      <td>2018-03-06 13:20:05</td>\n",
       "      <td>2018-03-06 13:37:24</td>\n",
       "      <td>1</td>\n",
       "      <td>7.10</td>\n",
       "      <td>1</td>\n",
       "      <td>N</td>\n",
       "      <td>1</td>\n",
       "      <td>21.5</td>\n",
       "      <td>0.0</td>\n",
       "      <td>...</td>\n",
       "      <td>264</td>\n",
       "      <td>264</td>\n",
       "      <td>NaN</td>\n",
       "      <td>NaN</td>\n",
       "      <td>17.0</td>\n",
       "      <td>13</td>\n",
       "      <td>Afternoon</td>\n",
       "      <td>Afternoon</td>\n",
       "      <td>Tuesday</td>\n",
       "      <td>Tuesday</td>\n",
       "    </tr>\n",
       "    <tr>\n",
       "      <th>8132967</th>\n",
       "      <td>2</td>\n",
       "      <td>2018-11-12 09:42:09</td>\n",
       "      <td>2018-11-12 10:32:57</td>\n",
       "      <td>1</td>\n",
       "      <td>11.69</td>\n",
       "      <td>1</td>\n",
       "      <td>N</td>\n",
       "      <td>1</td>\n",
       "      <td>44.5</td>\n",
       "      <td>0.0</td>\n",
       "      <td>...</td>\n",
       "      <td>138</td>\n",
       "      <td>68</td>\n",
       "      <td>LaGuardia Airport</td>\n",
       "      <td>East Chelsea</td>\n",
       "      <td>50.0</td>\n",
       "      <td>9</td>\n",
       "      <td>Morning</td>\n",
       "      <td>Morning</td>\n",
       "      <td>Monday</td>\n",
       "      <td>Monday</td>\n",
       "    </tr>\n",
       "    <tr>\n",
       "      <th>8360340</th>\n",
       "      <td>2</td>\n",
       "      <td>2018-03-22 20:19:29</td>\n",
       "      <td>2018-03-22 20:52:53</td>\n",
       "      <td>1</td>\n",
       "      <td>18.11</td>\n",
       "      <td>1</td>\n",
       "      <td>N</td>\n",
       "      <td>1</td>\n",
       "      <td>49.0</td>\n",
       "      <td>0.5</td>\n",
       "      <td>...</td>\n",
       "      <td>132</td>\n",
       "      <td>183</td>\n",
       "      <td>JFK Airport</td>\n",
       "      <td>Pelham Bay</td>\n",
       "      <td>33.0</td>\n",
       "      <td>20</td>\n",
       "      <td>Evening</td>\n",
       "      <td>Evening</td>\n",
       "      <td>Thursday</td>\n",
       "      <td>Thursday</td>\n",
       "    </tr>\n",
       "    <tr>\n",
       "      <th>6468885</th>\n",
       "      <td>2</td>\n",
       "      <td>2018-02-24 02:43:21</td>\n",
       "      <td>2018-02-24 03:15:48</td>\n",
       "      <td>2</td>\n",
       "      <td>9.41</td>\n",
       "      <td>1</td>\n",
       "      <td>N</td>\n",
       "      <td>1</td>\n",
       "      <td>32.5</td>\n",
       "      <td>0.5</td>\n",
       "      <td>...</td>\n",
       "      <td>255</td>\n",
       "      <td>228</td>\n",
       "      <td>Williamsburg (North Side)</td>\n",
       "      <td>Sunset Park West</td>\n",
       "      <td>32.0</td>\n",
       "      <td>2</td>\n",
       "      <td>Late Night</td>\n",
       "      <td>Late Night</td>\n",
       "      <td>Saturday</td>\n",
       "      <td>Saturday</td>\n",
       "    </tr>\n",
       "    <tr>\n",
       "      <th>9961044</th>\n",
       "      <td>1</td>\n",
       "      <td>2018-02-12 22:30:00</td>\n",
       "      <td>2018-02-12 22:46:26</td>\n",
       "      <td>1</td>\n",
       "      <td>7.30</td>\n",
       "      <td>1</td>\n",
       "      <td>N</td>\n",
       "      <td>1</td>\n",
       "      <td>22.5</td>\n",
       "      <td>0.5</td>\n",
       "      <td>...</td>\n",
       "      <td>163</td>\n",
       "      <td>88</td>\n",
       "      <td>Midtown North</td>\n",
       "      <td>Financial District South</td>\n",
       "      <td>16.0</td>\n",
       "      <td>22</td>\n",
       "      <td>Late Night</td>\n",
       "      <td>Late Night</td>\n",
       "      <td>Monday</td>\n",
       "      <td>Monday</td>\n",
       "    </tr>\n",
       "    <tr>\n",
       "      <th>5326606</th>\n",
       "      <td>1</td>\n",
       "      <td>2018-05-29 07:19:13</td>\n",
       "      <td>2018-05-29 07:42:00</td>\n",
       "      <td>1</td>\n",
       "      <td>7.30</td>\n",
       "      <td>1</td>\n",
       "      <td>N</td>\n",
       "      <td>2</td>\n",
       "      <td>23.5</td>\n",
       "      <td>0.0</td>\n",
       "      <td>...</td>\n",
       "      <td>33</td>\n",
       "      <td>161</td>\n",
       "      <td>Brooklyn Heights</td>\n",
       "      <td>Midtown Center</td>\n",
       "      <td>22.0</td>\n",
       "      <td>7</td>\n",
       "      <td>Morning</td>\n",
       "      <td>Morning</td>\n",
       "      <td>Tuesday</td>\n",
       "      <td>Tuesday</td>\n",
       "    </tr>\n",
       "    <tr>\n",
       "      <th>7713832</th>\n",
       "      <td>1</td>\n",
       "      <td>2018-01-20 08:37:17</td>\n",
       "      <td>2018-01-20 08:54:29</td>\n",
       "      <td>1</td>\n",
       "      <td>7.60</td>\n",
       "      <td>1</td>\n",
       "      <td>N</td>\n",
       "      <td>1</td>\n",
       "      <td>23.0</td>\n",
       "      <td>0.0</td>\n",
       "      <td>...</td>\n",
       "      <td>263</td>\n",
       "      <td>223</td>\n",
       "      <td>Yorkville West</td>\n",
       "      <td>Steinway</td>\n",
       "      <td>17.0</td>\n",
       "      <td>8</td>\n",
       "      <td>Morning</td>\n",
       "      <td>Morning</td>\n",
       "      <td>Saturday</td>\n",
       "      <td>Saturday</td>\n",
       "    </tr>\n",
       "    <tr>\n",
       "      <th>2310166</th>\n",
       "      <td>1</td>\n",
       "      <td>2018-01-09 14:04:42</td>\n",
       "      <td>2018-01-09 14:39:47</td>\n",
       "      <td>1</td>\n",
       "      <td>5.80</td>\n",
       "      <td>1</td>\n",
       "      <td>N</td>\n",
       "      <td>1</td>\n",
       "      <td>27.0</td>\n",
       "      <td>0.0</td>\n",
       "      <td>...</td>\n",
       "      <td>13</td>\n",
       "      <td>239</td>\n",
       "      <td>Battery Park City</td>\n",
       "      <td>Upper West Side South</td>\n",
       "      <td>35.0</td>\n",
       "      <td>14</td>\n",
       "      <td>Afternoon</td>\n",
       "      <td>Afternoon</td>\n",
       "      <td>Tuesday</td>\n",
       "      <td>Tuesday</td>\n",
       "    </tr>\n",
       "    <tr>\n",
       "      <th>9444131</th>\n",
       "      <td>2</td>\n",
       "      <td>2018-03-14 01:45:24</td>\n",
       "      <td>2018-03-14 01:59:32</td>\n",
       "      <td>1</td>\n",
       "      <td>7.97</td>\n",
       "      <td>1</td>\n",
       "      <td>N</td>\n",
       "      <td>1</td>\n",
       "      <td>23.5</td>\n",
       "      <td>0.5</td>\n",
       "      <td>...</td>\n",
       "      <td>87</td>\n",
       "      <td>262</td>\n",
       "      <td>Financial District North</td>\n",
       "      <td>Yorkville East</td>\n",
       "      <td>14.0</td>\n",
       "      <td>1</td>\n",
       "      <td>Late Night</td>\n",
       "      <td>Late Night</td>\n",
       "      <td>Wednesday</td>\n",
       "      <td>Wednesday</td>\n",
       "    </tr>\n",
       "    <tr>\n",
       "      <th>2313976</th>\n",
       "      <td>1</td>\n",
       "      <td>2018-04-19 05:28:09</td>\n",
       "      <td>2018-04-19 05:53:20</td>\n",
       "      <td>1</td>\n",
       "      <td>7.00</td>\n",
       "      <td>1</td>\n",
       "      <td>N</td>\n",
       "      <td>2</td>\n",
       "      <td>25.0</td>\n",
       "      <td>0.5</td>\n",
       "      <td>...</td>\n",
       "      <td>249</td>\n",
       "      <td>89</td>\n",
       "      <td>West Village</td>\n",
       "      <td>Flatbush/Ditmas Park</td>\n",
       "      <td>25.0</td>\n",
       "      <td>5</td>\n",
       "      <td>Late Night</td>\n",
       "      <td>Late Night</td>\n",
       "      <td>Thursday</td>\n",
       "      <td>Thursday</td>\n",
       "    </tr>\n",
       "    <tr>\n",
       "      <th>8020637</th>\n",
       "      <td>2</td>\n",
       "      <td>2018-12-07 10:44:42</td>\n",
       "      <td>2018-12-07 11:20:11</td>\n",
       "      <td>1</td>\n",
       "      <td>3.16</td>\n",
       "      <td>1</td>\n",
       "      <td>N</td>\n",
       "      <td>1</td>\n",
       "      <td>22.0</td>\n",
       "      <td>0.0</td>\n",
       "      <td>...</td>\n",
       "      <td>264</td>\n",
       "      <td>264</td>\n",
       "      <td>NaN</td>\n",
       "      <td>NaN</td>\n",
       "      <td>35.0</td>\n",
       "      <td>10</td>\n",
       "      <td>Morning</td>\n",
       "      <td>Morning</td>\n",
       "      <td>Friday</td>\n",
       "      <td>Friday</td>\n",
       "    </tr>\n",
       "    <tr>\n",
       "      <th>2021918</th>\n",
       "      <td>2</td>\n",
       "      <td>2018-04-27 18:02:22</td>\n",
       "      <td>2018-04-27 18:53:48</td>\n",
       "      <td>2</td>\n",
       "      <td>18.50</td>\n",
       "      <td>1</td>\n",
       "      <td>N</td>\n",
       "      <td>1</td>\n",
       "      <td>57.5</td>\n",
       "      <td>1.0</td>\n",
       "      <td>...</td>\n",
       "      <td>87</td>\n",
       "      <td>118</td>\n",
       "      <td>Financial District North</td>\n",
       "      <td>Heartland Village/Todt Hill</td>\n",
       "      <td>51.0</td>\n",
       "      <td>18</td>\n",
       "      <td>Evening</td>\n",
       "      <td>Evening</td>\n",
       "      <td>Friday</td>\n",
       "      <td>Friday</td>\n",
       "    </tr>\n",
       "    <tr>\n",
       "      <th>5541907</th>\n",
       "      <td>1</td>\n",
       "      <td>2018-09-16 20:38:09</td>\n",
       "      <td>2018-09-16 21:05:21</td>\n",
       "      <td>1</td>\n",
       "      <td>6.10</td>\n",
       "      <td>1</td>\n",
       "      <td>N</td>\n",
       "      <td>1</td>\n",
       "      <td>23.0</td>\n",
       "      <td>0.5</td>\n",
       "      <td>...</td>\n",
       "      <td>43</td>\n",
       "      <td>88</td>\n",
       "      <td>Central Park</td>\n",
       "      <td>Financial District South</td>\n",
       "      <td>27.0</td>\n",
       "      <td>20</td>\n",
       "      <td>Evening</td>\n",
       "      <td>Evening</td>\n",
       "      <td>Sunday</td>\n",
       "      <td>Sunday</td>\n",
       "    </tr>\n",
       "    <tr>\n",
       "      <th>4761571</th>\n",
       "      <td>1</td>\n",
       "      <td>2018-11-22 06:00:32</td>\n",
       "      <td>2018-11-22 06:53:43</td>\n",
       "      <td>1</td>\n",
       "      <td>22.20</td>\n",
       "      <td>2</td>\n",
       "      <td>N</td>\n",
       "      <td>2</td>\n",
       "      <td>52.0</td>\n",
       "      <td>0.0</td>\n",
       "      <td>...</td>\n",
       "      <td>132</td>\n",
       "      <td>142</td>\n",
       "      <td>JFK Airport</td>\n",
       "      <td>Lincoln Square East</td>\n",
       "      <td>53.0</td>\n",
       "      <td>6</td>\n",
       "      <td>Morning</td>\n",
       "      <td>Morning</td>\n",
       "      <td>Thursday</td>\n",
       "      <td>Thursday</td>\n",
       "    </tr>\n",
       "    <tr>\n",
       "      <th>1065882</th>\n",
       "      <td>1</td>\n",
       "      <td>2018-03-16 22:53:39</td>\n",
       "      <td>2018-03-16 23:27:54</td>\n",
       "      <td>1</td>\n",
       "      <td>4.30</td>\n",
       "      <td>1</td>\n",
       "      <td>N</td>\n",
       "      <td>1</td>\n",
       "      <td>22.5</td>\n",
       "      <td>0.5</td>\n",
       "      <td>...</td>\n",
       "      <td>162</td>\n",
       "      <td>231</td>\n",
       "      <td>Midtown East</td>\n",
       "      <td>TriBeCa/Civic Center</td>\n",
       "      <td>34.0</td>\n",
       "      <td>22</td>\n",
       "      <td>Late Night</td>\n",
       "      <td>Late Night</td>\n",
       "      <td>Friday</td>\n",
       "      <td>Friday</td>\n",
       "    </tr>\n",
       "  </tbody>\n",
       "</table>\n",
       "<p>15 rows × 25 columns</p>\n",
       "</div>\n",
       "      <button class=\"colab-df-convert\" onclick=\"convertToInteractive('df-76bcdc3e-770e-4034-84ca-b296f1303d2d')\"\n",
       "              title=\"Convert this dataframe to an interactive table.\"\n",
       "              style=\"display:none;\">\n",
       "        \n",
       "  <svg xmlns=\"http://www.w3.org/2000/svg\" height=\"24px\"viewBox=\"0 0 24 24\"\n",
       "       width=\"24px\">\n",
       "    <path d=\"M0 0h24v24H0V0z\" fill=\"none\"/>\n",
       "    <path d=\"M18.56 5.44l.94 2.06.94-2.06 2.06-.94-2.06-.94-.94-2.06-.94 2.06-2.06.94zm-11 1L8.5 8.5l.94-2.06 2.06-.94-2.06-.94L8.5 2.5l-.94 2.06-2.06.94zm10 10l.94 2.06.94-2.06 2.06-.94-2.06-.94-.94-2.06-.94 2.06-2.06.94z\"/><path d=\"M17.41 7.96l-1.37-1.37c-.4-.4-.92-.59-1.43-.59-.52 0-1.04.2-1.43.59L10.3 9.45l-7.72 7.72c-.78.78-.78 2.05 0 2.83L4 21.41c.39.39.9.59 1.41.59.51 0 1.02-.2 1.41-.59l7.78-7.78 2.81-2.81c.8-.78.8-2.07 0-2.86zM5.41 20L4 18.59l7.72-7.72 1.47 1.35L5.41 20z\"/>\n",
       "  </svg>\n",
       "      </button>\n",
       "      \n",
       "  <style>\n",
       "    .colab-df-container {\n",
       "      display:flex;\n",
       "      flex-wrap:wrap;\n",
       "      gap: 12px;\n",
       "    }\n",
       "\n",
       "    .colab-df-convert {\n",
       "      background-color: #E8F0FE;\n",
       "      border: none;\n",
       "      border-radius: 50%;\n",
       "      cursor: pointer;\n",
       "      display: none;\n",
       "      fill: #1967D2;\n",
       "      height: 32px;\n",
       "      padding: 0 0 0 0;\n",
       "      width: 32px;\n",
       "    }\n",
       "\n",
       "    .colab-df-convert:hover {\n",
       "      background-color: #E2EBFA;\n",
       "      box-shadow: 0px 1px 2px rgba(60, 64, 67, 0.3), 0px 1px 3px 1px rgba(60, 64, 67, 0.15);\n",
       "      fill: #174EA6;\n",
       "    }\n",
       "\n",
       "    [theme=dark] .colab-df-convert {\n",
       "      background-color: #3B4455;\n",
       "      fill: #D2E3FC;\n",
       "    }\n",
       "\n",
       "    [theme=dark] .colab-df-convert:hover {\n",
       "      background-color: #434B5C;\n",
       "      box-shadow: 0px 1px 3px 1px rgba(0, 0, 0, 0.15);\n",
       "      filter: drop-shadow(0px 1px 2px rgba(0, 0, 0, 0.3));\n",
       "      fill: #FFFFFF;\n",
       "    }\n",
       "  </style>\n",
       "\n",
       "      <script>\n",
       "        const buttonEl =\n",
       "          document.querySelector('#df-76bcdc3e-770e-4034-84ca-b296f1303d2d button.colab-df-convert');\n",
       "        buttonEl.style.display =\n",
       "          google.colab.kernel.accessAllowed ? 'block' : 'none';\n",
       "\n",
       "        async function convertToInteractive(key) {\n",
       "          const element = document.querySelector('#df-76bcdc3e-770e-4034-84ca-b296f1303d2d');\n",
       "          const dataTable =\n",
       "            await google.colab.kernel.invokeFunction('convertToInteractive',\n",
       "                                                     [key], {});\n",
       "          if (!dataTable) return;\n",
       "\n",
       "          const docLinkHtml = 'Like what you see? Visit the ' +\n",
       "            '<a target=\"_blank\" href=https://colab.research.google.com/notebooks/data_table.ipynb>data table notebook</a>'\n",
       "            + ' to learn more about interactive tables.';\n",
       "          element.innerHTML = '';\n",
       "          dataTable['output_type'] = 'display_data';\n",
       "          await google.colab.output.renderOutput(dataTable, element);\n",
       "          const docLink = document.createElement('div');\n",
       "          docLink.innerHTML = docLinkHtml;\n",
       "          element.appendChild(docLink);\n",
       "        }\n",
       "      </script>\n",
       "    </div>\n",
       "  </div>\n",
       "  "
      ],
      "text/plain": [
       "         vendor_id     pickup_datetime    dropoff_datetime  passenger_count  \\\n",
       "579069           1 2018-03-06 13:20:05 2018-03-06 13:37:24                1   \n",
       "8132967          2 2018-11-12 09:42:09 2018-11-12 10:32:57                1   \n",
       "8360340          2 2018-03-22 20:19:29 2018-03-22 20:52:53                1   \n",
       "6468885          2 2018-02-24 02:43:21 2018-02-24 03:15:48                2   \n",
       "9961044          1 2018-02-12 22:30:00 2018-02-12 22:46:26                1   \n",
       "5326606          1 2018-05-29 07:19:13 2018-05-29 07:42:00                1   \n",
       "7713832          1 2018-01-20 08:37:17 2018-01-20 08:54:29                1   \n",
       "2310166          1 2018-01-09 14:04:42 2018-01-09 14:39:47                1   \n",
       "9444131          2 2018-03-14 01:45:24 2018-03-14 01:59:32                1   \n",
       "2313976          1 2018-04-19 05:28:09 2018-04-19 05:53:20                1   \n",
       "8020637          2 2018-12-07 10:44:42 2018-12-07 11:20:11                1   \n",
       "2021918          2 2018-04-27 18:02:22 2018-04-27 18:53:48                2   \n",
       "5541907          1 2018-09-16 20:38:09 2018-09-16 21:05:21                1   \n",
       "4761571          1 2018-11-22 06:00:32 2018-11-22 06:53:43                1   \n",
       "1065882          1 2018-03-16 22:53:39 2018-03-16 23:27:54                1   \n",
       "\n",
       "         trip_distance  rate_code store_and_fwd_flag  payment_type  \\\n",
       "579069            7.10          1                  N             1   \n",
       "8132967          11.69          1                  N             1   \n",
       "8360340          18.11          1                  N             1   \n",
       "6468885           9.41          1                  N             1   \n",
       "9961044           7.30          1                  N             1   \n",
       "5326606           7.30          1                  N             2   \n",
       "7713832           7.60          1                  N             1   \n",
       "2310166           5.80          1                  N             1   \n",
       "9444131           7.97          1                  N             1   \n",
       "2313976           7.00          1                  N             2   \n",
       "8020637           3.16          1                  N             1   \n",
       "2021918          18.50          1                  N             1   \n",
       "5541907           6.10          1                  N             1   \n",
       "4761571          22.20          2                  N             2   \n",
       "1065882           4.30          1                  N             1   \n",
       "\n",
       "         fare_amount  extra  ...  pickup_location_id  dropoff_location_id  \\\n",
       "579069          21.5    0.0  ...                 264                  264   \n",
       "8132967         44.5    0.0  ...                 138                   68   \n",
       "8360340         49.0    0.5  ...                 132                  183   \n",
       "6468885         32.5    0.5  ...                 255                  228   \n",
       "9961044         22.5    0.5  ...                 163                   88   \n",
       "5326606         23.5    0.0  ...                  33                  161   \n",
       "7713832         23.0    0.0  ...                 263                  223   \n",
       "2310166         27.0    0.0  ...                  13                  239   \n",
       "9444131         23.5    0.5  ...                  87                  262   \n",
       "2313976         25.0    0.5  ...                 249                   89   \n",
       "8020637         22.0    0.0  ...                 264                  264   \n",
       "2021918         57.5    1.0  ...                  87                  118   \n",
       "5541907         23.0    0.5  ...                  43                   88   \n",
       "4761571         52.0    0.0  ...                 132                  142   \n",
       "1065882         22.5    0.5  ...                 162                  231   \n",
       "\n",
       "                  pickup_area_name            dropoff_area_name  \\\n",
       "579069                         NaN                          NaN   \n",
       "8132967          LaGuardia Airport                 East Chelsea   \n",
       "8360340                JFK Airport                   Pelham Bay   \n",
       "6468885  Williamsburg (North Side)             Sunset Park West   \n",
       "9961044              Midtown North     Financial District South   \n",
       "5326606           Brooklyn Heights               Midtown Center   \n",
       "7713832             Yorkville West                     Steinway   \n",
       "2310166          Battery Park City        Upper West Side South   \n",
       "9444131   Financial District North               Yorkville East   \n",
       "2313976               West Village         Flatbush/Ditmas Park   \n",
       "8020637                        NaN                          NaN   \n",
       "2021918   Financial District North  Heartland Village/Todt Hill   \n",
       "5541907               Central Park     Financial District South   \n",
       "4761571                JFK Airport          Lincoln Square East   \n",
       "1065882               Midtown East         TriBeCa/Civic Center   \n",
       "\n",
       "         trip_duration  pickup_hour  pickup_time_of_day dropoff_time_of_day  \\\n",
       "579069            17.0           13           Afternoon           Afternoon   \n",
       "8132967           50.0            9             Morning             Morning   \n",
       "8360340           33.0           20             Evening             Evening   \n",
       "6468885           32.0            2          Late Night          Late Night   \n",
       "9961044           16.0           22          Late Night          Late Night   \n",
       "5326606           22.0            7             Morning             Morning   \n",
       "7713832           17.0            8             Morning             Morning   \n",
       "2310166           35.0           14           Afternoon           Afternoon   \n",
       "9444131           14.0            1          Late Night          Late Night   \n",
       "2313976           25.0            5          Late Night          Late Night   \n",
       "8020637           35.0           10             Morning             Morning   \n",
       "2021918           51.0           18             Evening             Evening   \n",
       "5541907           27.0           20             Evening             Evening   \n",
       "4761571           53.0            6             Morning             Morning   \n",
       "1065882           34.0           22          Late Night          Late Night   \n",
       "\n",
       "        pickup_days  Dropoff_days  \n",
       "579069      Tuesday       Tuesday  \n",
       "8132967      Monday        Monday  \n",
       "8360340    Thursday      Thursday  \n",
       "6468885    Saturday      Saturday  \n",
       "9961044      Monday        Monday  \n",
       "5326606     Tuesday       Tuesday  \n",
       "7713832    Saturday      Saturday  \n",
       "2310166     Tuesday       Tuesday  \n",
       "9444131   Wednesday     Wednesday  \n",
       "2313976    Thursday      Thursday  \n",
       "8020637      Friday        Friday  \n",
       "2021918      Friday        Friday  \n",
       "5541907      Sunday        Sunday  \n",
       "4761571    Thursday      Thursday  \n",
       "1065882      Friday        Friday  \n",
       "\n",
       "[15 rows x 25 columns]"
      ]
     },
     "execution_count": 69,
     "metadata": {},
     "output_type": "execute_result"
    }
   ],
   "source": [
    "df.sample(15)"
   ]
  },
  {
   "cell_type": "code",
   "execution_count": 70,
   "metadata": {
    "colab": {
     "base_uri": "https://localhost:8080/",
     "height": 382
    },
    "executionInfo": {
     "elapsed": 4594,
     "status": "ok",
     "timestamp": 1654437074923,
     "user": {
      "displayName": "Nabhdeep Choudhary",
      "userId": "10453203815156583225"
     },
     "user_tz": -330
    },
    "id": "eDMi57vjxeYB",
    "outputId": "c69b1513-ac8a-4b41-bf53-6611aa8a88f5"
   },
   "outputs": [
    {
     "data": {
      "text/html": [
       "\n",
       "  <div id=\"df-7fddfd16-1d61-4d6e-9288-28823276feca\">\n",
       "    <div class=\"colab-df-container\">\n",
       "      <div>\n",
       "<style scoped>\n",
       "    .dataframe tbody tr th:only-of-type {\n",
       "        vertical-align: middle;\n",
       "    }\n",
       "\n",
       "    .dataframe tbody tr th {\n",
       "        vertical-align: top;\n",
       "    }\n",
       "\n",
       "    .dataframe thead th {\n",
       "        text-align: right;\n",
       "    }\n",
       "</style>\n",
       "<table border=\"1\" class=\"dataframe\">\n",
       "  <thead>\n",
       "    <tr style=\"text-align: right;\">\n",
       "      <th></th>\n",
       "      <th>vendor_id</th>\n",
       "      <th>passenger_count</th>\n",
       "      <th>trip_distance</th>\n",
       "      <th>rate_code</th>\n",
       "      <th>payment_type</th>\n",
       "      <th>fare_amount</th>\n",
       "      <th>extra</th>\n",
       "      <th>mta_tax</th>\n",
       "      <th>tip_amount</th>\n",
       "      <th>tolls_amount</th>\n",
       "      <th>imp_surcharge</th>\n",
       "      <th>total_amount</th>\n",
       "      <th>pickup_location_id</th>\n",
       "      <th>dropoff_location_id</th>\n",
       "      <th>trip_duration</th>\n",
       "      <th>pickup_hour</th>\n",
       "    </tr>\n",
       "  </thead>\n",
       "  <tbody>\n",
       "    <tr>\n",
       "      <th>count</th>\n",
       "      <td>1.000000e+07</td>\n",
       "      <td>1.000000e+07</td>\n",
       "      <td>1.000000e+07</td>\n",
       "      <td>1.000000e+07</td>\n",
       "      <td>1.000000e+07</td>\n",
       "      <td>1.000000e+07</td>\n",
       "      <td>1.000000e+07</td>\n",
       "      <td>1.000000e+07</td>\n",
       "      <td>1.000000e+07</td>\n",
       "      <td>1.000000e+07</td>\n",
       "      <td>1.000000e+07</td>\n",
       "      <td>1.000000e+07</td>\n",
       "      <td>1.000000e+07</td>\n",
       "      <td>1.000000e+07</td>\n",
       "      <td>1.000000e+07</td>\n",
       "      <td>1.000000e+07</td>\n",
       "    </tr>\n",
       "    <tr>\n",
       "      <th>mean</th>\n",
       "      <td>1.614328e+00</td>\n",
       "      <td>1.602949e+00</td>\n",
       "      <td>8.849280e+00</td>\n",
       "      <td>1.201239e+00</td>\n",
       "      <td>1.189299e+00</td>\n",
       "      <td>3.165255e+01</td>\n",
       "      <td>3.383781e-01</td>\n",
       "      <td>4.819289e-01</td>\n",
       "      <td>5.598527e+00</td>\n",
       "      <td>2.137918e+00</td>\n",
       "      <td>2.978831e-01</td>\n",
       "      <td>4.051607e+01</td>\n",
       "      <td>1.535632e+02</td>\n",
       "      <td>1.481428e+02</td>\n",
       "      <td>3.530166e+01</td>\n",
       "      <td>1.378813e+01</td>\n",
       "    </tr>\n",
       "    <tr>\n",
       "      <th>std</th>\n",
       "      <td>5.146576e-01</td>\n",
       "      <td>1.245782e+00</td>\n",
       "      <td>5.882028e+00</td>\n",
       "      <td>1.250733e+00</td>\n",
       "      <td>4.339876e-01</td>\n",
       "      <td>1.606011e+02</td>\n",
       "      <td>5.512911e-01</td>\n",
       "      <td>1.207282e-01</td>\n",
       "      <td>4.840596e+00</td>\n",
       "      <td>3.750309e+00</td>\n",
       "      <td>3.406027e-02</td>\n",
       "      <td>1.611634e+02</td>\n",
       "      <td>6.076456e+01</td>\n",
       "      <td>7.574853e+01</td>\n",
       "      <td>8.385578e+01</td>\n",
       "      <td>6.253211e+00</td>\n",
       "    </tr>\n",
       "    <tr>\n",
       "      <th>min</th>\n",
       "      <td>1.000000e+00</td>\n",
       "      <td>0.000000e+00</td>\n",
       "      <td>0.000000e+00</td>\n",
       "      <td>1.000000e+00</td>\n",
       "      <td>1.000000e+00</td>\n",
       "      <td>-8.000000e+02</td>\n",
       "      <td>-8.000000e+01</td>\n",
       "      <td>-5.000000e-01</td>\n",
       "      <td>-3.224200e+02</td>\n",
       "      <td>-5.250000e+01</td>\n",
       "      <td>-3.000000e-01</td>\n",
       "      <td>-8.003000e+02</td>\n",
       "      <td>1.000000e+00</td>\n",
       "      <td>1.000000e+00</td>\n",
       "      <td>-7.044600e+04</td>\n",
       "      <td>0.000000e+00</td>\n",
       "    </tr>\n",
       "    <tr>\n",
       "      <th>25%</th>\n",
       "      <td>1.000000e+00</td>\n",
       "      <td>1.000000e+00</td>\n",
       "      <td>5.820000e+00</td>\n",
       "      <td>1.000000e+00</td>\n",
       "      <td>1.000000e+00</td>\n",
       "      <td>2.350000e+01</td>\n",
       "      <td>0.000000e+00</td>\n",
       "      <td>5.000000e-01</td>\n",
       "      <td>2.000000e+00</td>\n",
       "      <td>0.000000e+00</td>\n",
       "      <td>3.000000e-01</td>\n",
       "      <td>2.906000e+01</td>\n",
       "      <td>1.320000e+02</td>\n",
       "      <td>8.800000e+01</td>\n",
       "      <td>2.200000e+01</td>\n",
       "      <td>1.000000e+01</td>\n",
       "    </tr>\n",
       "    <tr>\n",
       "      <th>50%</th>\n",
       "      <td>2.000000e+00</td>\n",
       "      <td>1.000000e+00</td>\n",
       "      <td>8.480000e+00</td>\n",
       "      <td>1.000000e+00</td>\n",
       "      <td>1.000000e+00</td>\n",
       "      <td>2.850000e+01</td>\n",
       "      <td>0.000000e+00</td>\n",
       "      <td>5.000000e-01</td>\n",
       "      <td>5.560000e+00</td>\n",
       "      <td>0.000000e+00</td>\n",
       "      <td>3.000000e-01</td>\n",
       "      <td>3.730000e+01</td>\n",
       "      <td>1.380000e+02</td>\n",
       "      <td>1.420000e+02</td>\n",
       "      <td>3.000000e+01</td>\n",
       "      <td>1.400000e+01</td>\n",
       "    </tr>\n",
       "    <tr>\n",
       "      <th>75%</th>\n",
       "      <td>2.000000e+00</td>\n",
       "      <td>2.000000e+00</td>\n",
       "      <td>1.110000e+01</td>\n",
       "      <td>1.000000e+00</td>\n",
       "      <td>1.000000e+00</td>\n",
       "      <td>3.700000e+01</td>\n",
       "      <td>5.000000e-01</td>\n",
       "      <td>5.000000e-01</td>\n",
       "      <td>7.960000e+00</td>\n",
       "      <td>5.760000e+00</td>\n",
       "      <td>3.000000e-01</td>\n",
       "      <td>4.906000e+01</td>\n",
       "      <td>1.860000e+02</td>\n",
       "      <td>2.290000e+02</td>\n",
       "      <td>3.800000e+01</td>\n",
       "      <td>1.900000e+01</td>\n",
       "    </tr>\n",
       "    <tr>\n",
       "      <th>max</th>\n",
       "      <td>4.000000e+00</td>\n",
       "      <td>9.000000e+00</td>\n",
       "      <td>7.655760e+03</td>\n",
       "      <td>9.900000e+01</td>\n",
       "      <td>5.000000e+00</td>\n",
       "      <td>3.984600e+05</td>\n",
       "      <td>8.400000e+01</td>\n",
       "      <td>1.500000e+02</td>\n",
       "      <td>4.960000e+02</td>\n",
       "      <td>9.182500e+02</td>\n",
       "      <td>1.000000e+00</td>\n",
       "      <td>3.985220e+05</td>\n",
       "      <td>2.650000e+02</td>\n",
       "      <td>2.650000e+02</td>\n",
       "      <td>9.730000e+03</td>\n",
       "      <td>2.300000e+01</td>\n",
       "    </tr>\n",
       "  </tbody>\n",
       "</table>\n",
       "</div>\n",
       "      <button class=\"colab-df-convert\" onclick=\"convertToInteractive('df-7fddfd16-1d61-4d6e-9288-28823276feca')\"\n",
       "              title=\"Convert this dataframe to an interactive table.\"\n",
       "              style=\"display:none;\">\n",
       "        \n",
       "  <svg xmlns=\"http://www.w3.org/2000/svg\" height=\"24px\"viewBox=\"0 0 24 24\"\n",
       "       width=\"24px\">\n",
       "    <path d=\"M0 0h24v24H0V0z\" fill=\"none\"/>\n",
       "    <path d=\"M18.56 5.44l.94 2.06.94-2.06 2.06-.94-2.06-.94-.94-2.06-.94 2.06-2.06.94zm-11 1L8.5 8.5l.94-2.06 2.06-.94-2.06-.94L8.5 2.5l-.94 2.06-2.06.94zm10 10l.94 2.06.94-2.06 2.06-.94-2.06-.94-.94-2.06-.94 2.06-2.06.94z\"/><path d=\"M17.41 7.96l-1.37-1.37c-.4-.4-.92-.59-1.43-.59-.52 0-1.04.2-1.43.59L10.3 9.45l-7.72 7.72c-.78.78-.78 2.05 0 2.83L4 21.41c.39.39.9.59 1.41.59.51 0 1.02-.2 1.41-.59l7.78-7.78 2.81-2.81c.8-.78.8-2.07 0-2.86zM5.41 20L4 18.59l7.72-7.72 1.47 1.35L5.41 20z\"/>\n",
       "  </svg>\n",
       "      </button>\n",
       "      \n",
       "  <style>\n",
       "    .colab-df-container {\n",
       "      display:flex;\n",
       "      flex-wrap:wrap;\n",
       "      gap: 12px;\n",
       "    }\n",
       "\n",
       "    .colab-df-convert {\n",
       "      background-color: #E8F0FE;\n",
       "      border: none;\n",
       "      border-radius: 50%;\n",
       "      cursor: pointer;\n",
       "      display: none;\n",
       "      fill: #1967D2;\n",
       "      height: 32px;\n",
       "      padding: 0 0 0 0;\n",
       "      width: 32px;\n",
       "    }\n",
       "\n",
       "    .colab-df-convert:hover {\n",
       "      background-color: #E2EBFA;\n",
       "      box-shadow: 0px 1px 2px rgba(60, 64, 67, 0.3), 0px 1px 3px 1px rgba(60, 64, 67, 0.15);\n",
       "      fill: #174EA6;\n",
       "    }\n",
       "\n",
       "    [theme=dark] .colab-df-convert {\n",
       "      background-color: #3B4455;\n",
       "      fill: #D2E3FC;\n",
       "    }\n",
       "\n",
       "    [theme=dark] .colab-df-convert:hover {\n",
       "      background-color: #434B5C;\n",
       "      box-shadow: 0px 1px 3px 1px rgba(0, 0, 0, 0.15);\n",
       "      filter: drop-shadow(0px 1px 2px rgba(0, 0, 0, 0.3));\n",
       "      fill: #FFFFFF;\n",
       "    }\n",
       "  </style>\n",
       "\n",
       "      <script>\n",
       "        const buttonEl =\n",
       "          document.querySelector('#df-7fddfd16-1d61-4d6e-9288-28823276feca button.colab-df-convert');\n",
       "        buttonEl.style.display =\n",
       "          google.colab.kernel.accessAllowed ? 'block' : 'none';\n",
       "\n",
       "        async function convertToInteractive(key) {\n",
       "          const element = document.querySelector('#df-7fddfd16-1d61-4d6e-9288-28823276feca');\n",
       "          const dataTable =\n",
       "            await google.colab.kernel.invokeFunction('convertToInteractive',\n",
       "                                                     [key], {});\n",
       "          if (!dataTable) return;\n",
       "\n",
       "          const docLinkHtml = 'Like what you see? Visit the ' +\n",
       "            '<a target=\"_blank\" href=https://colab.research.google.com/notebooks/data_table.ipynb>data table notebook</a>'\n",
       "            + ' to learn more about interactive tables.';\n",
       "          element.innerHTML = '';\n",
       "          dataTable['output_type'] = 'display_data';\n",
       "          await google.colab.output.renderOutput(dataTable, element);\n",
       "          const docLink = document.createElement('div');\n",
       "          docLink.innerHTML = docLinkHtml;\n",
       "          element.appendChild(docLink);\n",
       "        }\n",
       "      </script>\n",
       "    </div>\n",
       "  </div>\n",
       "  "
      ],
      "text/plain": [
       "          vendor_id  passenger_count  trip_distance     rate_code  \\\n",
       "count  1.000000e+07     1.000000e+07   1.000000e+07  1.000000e+07   \n",
       "mean   1.614328e+00     1.602949e+00   8.849280e+00  1.201239e+00   \n",
       "std    5.146576e-01     1.245782e+00   5.882028e+00  1.250733e+00   \n",
       "min    1.000000e+00     0.000000e+00   0.000000e+00  1.000000e+00   \n",
       "25%    1.000000e+00     1.000000e+00   5.820000e+00  1.000000e+00   \n",
       "50%    2.000000e+00     1.000000e+00   8.480000e+00  1.000000e+00   \n",
       "75%    2.000000e+00     2.000000e+00   1.110000e+01  1.000000e+00   \n",
       "max    4.000000e+00     9.000000e+00   7.655760e+03  9.900000e+01   \n",
       "\n",
       "       payment_type   fare_amount         extra       mta_tax    tip_amount  \\\n",
       "count  1.000000e+07  1.000000e+07  1.000000e+07  1.000000e+07  1.000000e+07   \n",
       "mean   1.189299e+00  3.165255e+01  3.383781e-01  4.819289e-01  5.598527e+00   \n",
       "std    4.339876e-01  1.606011e+02  5.512911e-01  1.207282e-01  4.840596e+00   \n",
       "min    1.000000e+00 -8.000000e+02 -8.000000e+01 -5.000000e-01 -3.224200e+02   \n",
       "25%    1.000000e+00  2.350000e+01  0.000000e+00  5.000000e-01  2.000000e+00   \n",
       "50%    1.000000e+00  2.850000e+01  0.000000e+00  5.000000e-01  5.560000e+00   \n",
       "75%    1.000000e+00  3.700000e+01  5.000000e-01  5.000000e-01  7.960000e+00   \n",
       "max    5.000000e+00  3.984600e+05  8.400000e+01  1.500000e+02  4.960000e+02   \n",
       "\n",
       "       tolls_amount  imp_surcharge  total_amount  pickup_location_id  \\\n",
       "count  1.000000e+07   1.000000e+07  1.000000e+07        1.000000e+07   \n",
       "mean   2.137918e+00   2.978831e-01  4.051607e+01        1.535632e+02   \n",
       "std    3.750309e+00   3.406027e-02  1.611634e+02        6.076456e+01   \n",
       "min   -5.250000e+01  -3.000000e-01 -8.003000e+02        1.000000e+00   \n",
       "25%    0.000000e+00   3.000000e-01  2.906000e+01        1.320000e+02   \n",
       "50%    0.000000e+00   3.000000e-01  3.730000e+01        1.380000e+02   \n",
       "75%    5.760000e+00   3.000000e-01  4.906000e+01        1.860000e+02   \n",
       "max    9.182500e+02   1.000000e+00  3.985220e+05        2.650000e+02   \n",
       "\n",
       "       dropoff_location_id  trip_duration   pickup_hour  \n",
       "count         1.000000e+07   1.000000e+07  1.000000e+07  \n",
       "mean          1.481428e+02   3.530166e+01  1.378813e+01  \n",
       "std           7.574853e+01   8.385578e+01  6.253211e+00  \n",
       "min           1.000000e+00  -7.044600e+04  0.000000e+00  \n",
       "25%           8.800000e+01   2.200000e+01  1.000000e+01  \n",
       "50%           1.420000e+02   3.000000e+01  1.400000e+01  \n",
       "75%           2.290000e+02   3.800000e+01  1.900000e+01  \n",
       "max           2.650000e+02   9.730000e+03  2.300000e+01  "
      ]
     },
     "execution_count": 70,
     "metadata": {},
     "output_type": "execute_result"
    }
   ],
   "source": [
    " df.describe()"
   ]
  },
  {
   "cell_type": "code",
   "execution_count": 71,
   "metadata": {
    "colab": {
     "base_uri": "https://localhost:8080/",
     "height": 268
    },
    "executionInfo": {
     "elapsed": 5019,
     "status": "ok",
     "timestamp": 1654437087378,
     "user": {
      "displayName": "Nabhdeep Choudhary",
      "userId": "10453203815156583225"
     },
     "user_tz": -330
    },
    "id": "XkMRtyiUuNVV",
    "outputId": "c3f2d3b8-06dc-408c-beb0-a2a2a4c0c54c"
   },
   "outputs": [
    {
     "data": {
      "text/html": [
       "\n",
       "  <div id=\"df-146208d7-a453-44c1-b4b4-8868aaa30009\">\n",
       "    <div class=\"colab-df-container\">\n",
       "      <div>\n",
       "<style scoped>\n",
       "    .dataframe tbody tr th:only-of-type {\n",
       "        vertical-align: middle;\n",
       "    }\n",
       "\n",
       "    .dataframe tbody tr th {\n",
       "        vertical-align: top;\n",
       "    }\n",
       "\n",
       "    .dataframe thead th {\n",
       "        text-align: right;\n",
       "    }\n",
       "</style>\n",
       "<table border=\"1\" class=\"dataframe\">\n",
       "  <thead>\n",
       "    <tr style=\"text-align: right;\">\n",
       "      <th></th>\n",
       "      <th>pickup_datetime</th>\n",
       "      <th>dropoff_datetime</th>\n",
       "      <th>passenger_count</th>\n",
       "      <th>trip_distance</th>\n",
       "      <th>rate_code</th>\n",
       "      <th>store_and_fwd_flag</th>\n",
       "      <th>payment_type</th>\n",
       "      <th>fare_amount</th>\n",
       "      <th>extra</th>\n",
       "      <th>mta_tax</th>\n",
       "      <th>...</th>\n",
       "      <th>pickup_location_id</th>\n",
       "      <th>dropoff_location_id</th>\n",
       "      <th>pickup_area_name</th>\n",
       "      <th>dropoff_area_name</th>\n",
       "      <th>trip_duration</th>\n",
       "      <th>pickup_hour</th>\n",
       "      <th>pickup_time_of_day</th>\n",
       "      <th>dropoff_time_of_day</th>\n",
       "      <th>pickup_days</th>\n",
       "      <th>Dropoff_days</th>\n",
       "    </tr>\n",
       "    <tr>\n",
       "      <th>vendor_id</th>\n",
       "      <th></th>\n",
       "      <th></th>\n",
       "      <th></th>\n",
       "      <th></th>\n",
       "      <th></th>\n",
       "      <th></th>\n",
       "      <th></th>\n",
       "      <th></th>\n",
       "      <th></th>\n",
       "      <th></th>\n",
       "      <th></th>\n",
       "      <th></th>\n",
       "      <th></th>\n",
       "      <th></th>\n",
       "      <th></th>\n",
       "      <th></th>\n",
       "      <th></th>\n",
       "      <th></th>\n",
       "      <th></th>\n",
       "      <th></th>\n",
       "      <th></th>\n",
       "    </tr>\n",
       "  </thead>\n",
       "  <tbody>\n",
       "    <tr>\n",
       "      <th>1</th>\n",
       "      <td>3949867</td>\n",
       "      <td>3949867</td>\n",
       "      <td>3949867</td>\n",
       "      <td>3949867</td>\n",
       "      <td>3949867</td>\n",
       "      <td>3949867</td>\n",
       "      <td>3949867</td>\n",
       "      <td>3949867</td>\n",
       "      <td>3949867</td>\n",
       "      <td>3949867</td>\n",
       "      <td>...</td>\n",
       "      <td>3949867</td>\n",
       "      <td>3949867</td>\n",
       "      <td>3837058</td>\n",
       "      <td>3785305</td>\n",
       "      <td>3949867</td>\n",
       "      <td>3949867</td>\n",
       "      <td>3949867</td>\n",
       "      <td>3949867</td>\n",
       "      <td>3949867</td>\n",
       "      <td>3949867</td>\n",
       "    </tr>\n",
       "    <tr>\n",
       "      <th>2</th>\n",
       "      <td>6003561</td>\n",
       "      <td>6003561</td>\n",
       "      <td>6003561</td>\n",
       "      <td>6003561</td>\n",
       "      <td>6003561</td>\n",
       "      <td>6003561</td>\n",
       "      <td>6003561</td>\n",
       "      <td>6003561</td>\n",
       "      <td>6003561</td>\n",
       "      <td>6003561</td>\n",
       "      <td>...</td>\n",
       "      <td>6003561</td>\n",
       "      <td>6003561</td>\n",
       "      <td>5899384</td>\n",
       "      <td>5858298</td>\n",
       "      <td>6003561</td>\n",
       "      <td>6003561</td>\n",
       "      <td>6003561</td>\n",
       "      <td>6003561</td>\n",
       "      <td>6003561</td>\n",
       "      <td>6003561</td>\n",
       "    </tr>\n",
       "    <tr>\n",
       "      <th>4</th>\n",
       "      <td>46572</td>\n",
       "      <td>46572</td>\n",
       "      <td>46572</td>\n",
       "      <td>46572</td>\n",
       "      <td>46572</td>\n",
       "      <td>46572</td>\n",
       "      <td>46572</td>\n",
       "      <td>46572</td>\n",
       "      <td>46572</td>\n",
       "      <td>46572</td>\n",
       "      <td>...</td>\n",
       "      <td>46572</td>\n",
       "      <td>46572</td>\n",
       "      <td>46472</td>\n",
       "      <td>45851</td>\n",
       "      <td>46572</td>\n",
       "      <td>46572</td>\n",
       "      <td>46572</td>\n",
       "      <td>46572</td>\n",
       "      <td>46572</td>\n",
       "      <td>46572</td>\n",
       "    </tr>\n",
       "  </tbody>\n",
       "</table>\n",
       "<p>3 rows × 24 columns</p>\n",
       "</div>\n",
       "      <button class=\"colab-df-convert\" onclick=\"convertToInteractive('df-146208d7-a453-44c1-b4b4-8868aaa30009')\"\n",
       "              title=\"Convert this dataframe to an interactive table.\"\n",
       "              style=\"display:none;\">\n",
       "        \n",
       "  <svg xmlns=\"http://www.w3.org/2000/svg\" height=\"24px\"viewBox=\"0 0 24 24\"\n",
       "       width=\"24px\">\n",
       "    <path d=\"M0 0h24v24H0V0z\" fill=\"none\"/>\n",
       "    <path d=\"M18.56 5.44l.94 2.06.94-2.06 2.06-.94-2.06-.94-.94-2.06-.94 2.06-2.06.94zm-11 1L8.5 8.5l.94-2.06 2.06-.94-2.06-.94L8.5 2.5l-.94 2.06-2.06.94zm10 10l.94 2.06.94-2.06 2.06-.94-2.06-.94-.94-2.06-.94 2.06-2.06.94z\"/><path d=\"M17.41 7.96l-1.37-1.37c-.4-.4-.92-.59-1.43-.59-.52 0-1.04.2-1.43.59L10.3 9.45l-7.72 7.72c-.78.78-.78 2.05 0 2.83L4 21.41c.39.39.9.59 1.41.59.51 0 1.02-.2 1.41-.59l7.78-7.78 2.81-2.81c.8-.78.8-2.07 0-2.86zM5.41 20L4 18.59l7.72-7.72 1.47 1.35L5.41 20z\"/>\n",
       "  </svg>\n",
       "      </button>\n",
       "      \n",
       "  <style>\n",
       "    .colab-df-container {\n",
       "      display:flex;\n",
       "      flex-wrap:wrap;\n",
       "      gap: 12px;\n",
       "    }\n",
       "\n",
       "    .colab-df-convert {\n",
       "      background-color: #E8F0FE;\n",
       "      border: none;\n",
       "      border-radius: 50%;\n",
       "      cursor: pointer;\n",
       "      display: none;\n",
       "      fill: #1967D2;\n",
       "      height: 32px;\n",
       "      padding: 0 0 0 0;\n",
       "      width: 32px;\n",
       "    }\n",
       "\n",
       "    .colab-df-convert:hover {\n",
       "      background-color: #E2EBFA;\n",
       "      box-shadow: 0px 1px 2px rgba(60, 64, 67, 0.3), 0px 1px 3px 1px rgba(60, 64, 67, 0.15);\n",
       "      fill: #174EA6;\n",
       "    }\n",
       "\n",
       "    [theme=dark] .colab-df-convert {\n",
       "      background-color: #3B4455;\n",
       "      fill: #D2E3FC;\n",
       "    }\n",
       "\n",
       "    [theme=dark] .colab-df-convert:hover {\n",
       "      background-color: #434B5C;\n",
       "      box-shadow: 0px 1px 3px 1px rgba(0, 0, 0, 0.15);\n",
       "      filter: drop-shadow(0px 1px 2px rgba(0, 0, 0, 0.3));\n",
       "      fill: #FFFFFF;\n",
       "    }\n",
       "  </style>\n",
       "\n",
       "      <script>\n",
       "        const buttonEl =\n",
       "          document.querySelector('#df-146208d7-a453-44c1-b4b4-8868aaa30009 button.colab-df-convert');\n",
       "        buttonEl.style.display =\n",
       "          google.colab.kernel.accessAllowed ? 'block' : 'none';\n",
       "\n",
       "        async function convertToInteractive(key) {\n",
       "          const element = document.querySelector('#df-146208d7-a453-44c1-b4b4-8868aaa30009');\n",
       "          const dataTable =\n",
       "            await google.colab.kernel.invokeFunction('convertToInteractive',\n",
       "                                                     [key], {});\n",
       "          if (!dataTable) return;\n",
       "\n",
       "          const docLinkHtml = 'Like what you see? Visit the ' +\n",
       "            '<a target=\"_blank\" href=https://colab.research.google.com/notebooks/data_table.ipynb>data table notebook</a>'\n",
       "            + ' to learn more about interactive tables.';\n",
       "          element.innerHTML = '';\n",
       "          dataTable['output_type'] = 'display_data';\n",
       "          await google.colab.output.renderOutput(dataTable, element);\n",
       "          const docLink = document.createElement('div');\n",
       "          docLink.innerHTML = docLinkHtml;\n",
       "          element.appendChild(docLink);\n",
       "        }\n",
       "      </script>\n",
       "    </div>\n",
       "  </div>\n",
       "  "
      ],
      "text/plain": [
       "           pickup_datetime  dropoff_datetime  passenger_count  trip_distance  \\\n",
       "vendor_id                                                                      \n",
       "1                  3949867           3949867          3949867        3949867   \n",
       "2                  6003561           6003561          6003561        6003561   \n",
       "4                    46572             46572            46572          46572   \n",
       "\n",
       "           rate_code  store_and_fwd_flag  payment_type  fare_amount    extra  \\\n",
       "vendor_id                                                                      \n",
       "1            3949867             3949867       3949867      3949867  3949867   \n",
       "2            6003561             6003561       6003561      6003561  6003561   \n",
       "4              46572               46572         46572        46572    46572   \n",
       "\n",
       "           mta_tax  ...  pickup_location_id  dropoff_location_id  \\\n",
       "vendor_id           ...                                            \n",
       "1          3949867  ...             3949867              3949867   \n",
       "2          6003561  ...             6003561              6003561   \n",
       "4            46572  ...               46572                46572   \n",
       "\n",
       "           pickup_area_name  dropoff_area_name  trip_duration  pickup_hour  \\\n",
       "vendor_id                                                                    \n",
       "1                   3837058            3785305        3949867      3949867   \n",
       "2                   5899384            5858298        6003561      6003561   \n",
       "4                     46472              45851          46572        46572   \n",
       "\n",
       "           pickup_time_of_day  dropoff_time_of_day  pickup_days  Dropoff_days  \n",
       "vendor_id                                                                      \n",
       "1                     3949867              3949867      3949867       3949867  \n",
       "2                     6003561              6003561      6003561       6003561  \n",
       "4                       46572                46572        46572         46572  \n",
       "\n",
       "[3 rows x 24 columns]"
      ]
     },
     "execution_count": 71,
     "metadata": {},
     "output_type": "execute_result"
    }
   ],
   "source": [
    "df.groupby('vendor_id').count()"
   ]
  },
  {
   "cell_type": "markdown",
   "metadata": {
    "id": "UR4-2toXE0f_"
   },
   "source": [
    "Checking missing values for the 'df' Datafame\n"
   ]
  },
  {
   "cell_type": "code",
   "execution_count": null,
   "metadata": {
    "colab": {
     "base_uri": "https://localhost:8080/",
     "height": 424
    },
    "executionInfo": {
     "elapsed": 35,
     "status": "ok",
     "timestamp": 1653920508104,
     "user": {
      "displayName": "Nabhdeep Choudhary",
      "userId": "10453203815156583225"
     },
     "user_tz": -330
    },
    "id": "HWYKAGb4qvy_",
    "outputId": "23899a57-d4a4-4cb2-e124-aebd7d89896f"
   },
   "outputs": [
    {
     "data": {
      "text/html": [
       "\n",
       "  <div id=\"df-4eb6dbbb-dc5c-4a27-9e04-46ae52fd527b\">\n",
       "    <div class=\"colab-df-container\">\n",
       "      <div>\n",
       "<style scoped>\n",
       "    .dataframe tbody tr th:only-of-type {\n",
       "        vertical-align: middle;\n",
       "    }\n",
       "\n",
       "    .dataframe tbody tr th {\n",
       "        vertical-align: top;\n",
       "    }\n",
       "\n",
       "    .dataframe thead th {\n",
       "        text-align: right;\n",
       "    }\n",
       "</style>\n",
       "<table border=\"1\" class=\"dataframe\">\n",
       "  <thead>\n",
       "    <tr style=\"text-align: right;\">\n",
       "      <th></th>\n",
       "      <th>zone_id</th>\n",
       "      <th>zone_name</th>\n",
       "      <th>borough</th>\n",
       "      <th>zone_geom</th>\n",
       "    </tr>\n",
       "  </thead>\n",
       "  <tbody>\n",
       "    <tr>\n",
       "      <th>0</th>\n",
       "      <td>1</td>\n",
       "      <td>Newark Airport</td>\n",
       "      <td>EWR</td>\n",
       "      <td>POLYGON((-74.1856319999999 40.6916479999999, -...</td>\n",
       "    </tr>\n",
       "    <tr>\n",
       "      <th>1</th>\n",
       "      <td>3</td>\n",
       "      <td>Allerton/Pelham Gardens</td>\n",
       "      <td>Bronx</td>\n",
       "      <td>POLYGON((-73.848596761 40.8716707849999, -73.8...</td>\n",
       "    </tr>\n",
       "    <tr>\n",
       "      <th>2</th>\n",
       "      <td>18</td>\n",
       "      <td>Bedford Park</td>\n",
       "      <td>Bronx</td>\n",
       "      <td>POLYGON((-73.8844286139999 40.8668003789999, -...</td>\n",
       "    </tr>\n",
       "    <tr>\n",
       "      <th>3</th>\n",
       "      <td>20</td>\n",
       "      <td>Belmont</td>\n",
       "      <td>Bronx</td>\n",
       "      <td>POLYGON((-73.8839239579998 40.8644177609999, -...</td>\n",
       "    </tr>\n",
       "    <tr>\n",
       "      <th>4</th>\n",
       "      <td>31</td>\n",
       "      <td>Bronx Park</td>\n",
       "      <td>Bronx</td>\n",
       "      <td>POLYGON((-73.8710017319999 40.8572767429999, -...</td>\n",
       "    </tr>\n",
       "    <tr>\n",
       "      <th>...</th>\n",
       "      <td>...</td>\n",
       "      <td>...</td>\n",
       "      <td>...</td>\n",
       "      <td>...</td>\n",
       "    </tr>\n",
       "    <tr>\n",
       "      <th>258</th>\n",
       "      <td>206</td>\n",
       "      <td>Saint George/New Brighton</td>\n",
       "      <td>Staten Island</td>\n",
       "      <td>POLYGON((-74.0825658580711 40.6483158193535, -...</td>\n",
       "    </tr>\n",
       "    <tr>\n",
       "      <th>259</th>\n",
       "      <td>214</td>\n",
       "      <td>South Beach/Dongan Hills</td>\n",
       "      <td>Staten Island</td>\n",
       "      <td>POLYGON((-74.085787808 40.5958840799999, -74.0...</td>\n",
       "    </tr>\n",
       "    <tr>\n",
       "      <th>260</th>\n",
       "      <td>221</td>\n",
       "      <td>Stapleton</td>\n",
       "      <td>Staten Island</td>\n",
       "      <td>POLYGON((-74.076017768 40.6377481049999, -74.0...</td>\n",
       "    </tr>\n",
       "    <tr>\n",
       "      <th>261</th>\n",
       "      <td>245</td>\n",
       "      <td>West Brighton</td>\n",
       "      <td>Staten Island</td>\n",
       "      <td>POLYGON((-74.0992883379999 40.640204723, -74.0...</td>\n",
       "    </tr>\n",
       "    <tr>\n",
       "      <th>262</th>\n",
       "      <td>251</td>\n",
       "      <td>Westerleigh</td>\n",
       "      <td>Staten Island</td>\n",
       "      <td>POLYGON((-74.1316183449999 40.6305836889999, -...</td>\n",
       "    </tr>\n",
       "  </tbody>\n",
       "</table>\n",
       "<p>263 rows × 4 columns</p>\n",
       "</div>\n",
       "      <button class=\"colab-df-convert\" onclick=\"convertToInteractive('df-4eb6dbbb-dc5c-4a27-9e04-46ae52fd527b')\"\n",
       "              title=\"Convert this dataframe to an interactive table.\"\n",
       "              style=\"display:none;\">\n",
       "        \n",
       "  <svg xmlns=\"http://www.w3.org/2000/svg\" height=\"24px\"viewBox=\"0 0 24 24\"\n",
       "       width=\"24px\">\n",
       "    <path d=\"M0 0h24v24H0V0z\" fill=\"none\"/>\n",
       "    <path d=\"M18.56 5.44l.94 2.06.94-2.06 2.06-.94-2.06-.94-.94-2.06-.94 2.06-2.06.94zm-11 1L8.5 8.5l.94-2.06 2.06-.94-2.06-.94L8.5 2.5l-.94 2.06-2.06.94zm10 10l.94 2.06.94-2.06 2.06-.94-2.06-.94-.94-2.06-.94 2.06-2.06.94z\"/><path d=\"M17.41 7.96l-1.37-1.37c-.4-.4-.92-.59-1.43-.59-.52 0-1.04.2-1.43.59L10.3 9.45l-7.72 7.72c-.78.78-.78 2.05 0 2.83L4 21.41c.39.39.9.59 1.41.59.51 0 1.02-.2 1.41-.59l7.78-7.78 2.81-2.81c.8-.78.8-2.07 0-2.86zM5.41 20L4 18.59l7.72-7.72 1.47 1.35L5.41 20z\"/>\n",
       "  </svg>\n",
       "      </button>\n",
       "      \n",
       "  <style>\n",
       "    .colab-df-container {\n",
       "      display:flex;\n",
       "      flex-wrap:wrap;\n",
       "      gap: 12px;\n",
       "    }\n",
       "\n",
       "    .colab-df-convert {\n",
       "      background-color: #E8F0FE;\n",
       "      border: none;\n",
       "      border-radius: 50%;\n",
       "      cursor: pointer;\n",
       "      display: none;\n",
       "      fill: #1967D2;\n",
       "      height: 32px;\n",
       "      padding: 0 0 0 0;\n",
       "      width: 32px;\n",
       "    }\n",
       "\n",
       "    .colab-df-convert:hover {\n",
       "      background-color: #E2EBFA;\n",
       "      box-shadow: 0px 1px 2px rgba(60, 64, 67, 0.3), 0px 1px 3px 1px rgba(60, 64, 67, 0.15);\n",
       "      fill: #174EA6;\n",
       "    }\n",
       "\n",
       "    [theme=dark] .colab-df-convert {\n",
       "      background-color: #3B4455;\n",
       "      fill: #D2E3FC;\n",
       "    }\n",
       "\n",
       "    [theme=dark] .colab-df-convert:hover {\n",
       "      background-color: #434B5C;\n",
       "      box-shadow: 0px 1px 3px 1px rgba(0, 0, 0, 0.15);\n",
       "      filter: drop-shadow(0px 1px 2px rgba(0, 0, 0, 0.3));\n",
       "      fill: #FFFFFF;\n",
       "    }\n",
       "  </style>\n",
       "\n",
       "      <script>\n",
       "        const buttonEl =\n",
       "          document.querySelector('#df-4eb6dbbb-dc5c-4a27-9e04-46ae52fd527b button.colab-df-convert');\n",
       "        buttonEl.style.display =\n",
       "          google.colab.kernel.accessAllowed ? 'block' : 'none';\n",
       "\n",
       "        async function convertToInteractive(key) {\n",
       "          const element = document.querySelector('#df-4eb6dbbb-dc5c-4a27-9e04-46ae52fd527b');\n",
       "          const dataTable =\n",
       "            await google.colab.kernel.invokeFunction('convertToInteractive',\n",
       "                                                     [key], {});\n",
       "          if (!dataTable) return;\n",
       "\n",
       "          const docLinkHtml = 'Like what you see? Visit the ' +\n",
       "            '<a target=\"_blank\" href=https://colab.research.google.com/notebooks/data_table.ipynb>data table notebook</a>'\n",
       "            + ' to learn more about interactive tables.';\n",
       "          element.innerHTML = '';\n",
       "          dataTable['output_type'] = 'display_data';\n",
       "          await google.colab.output.renderOutput(dataTable, element);\n",
       "          const docLink = document.createElement('div');\n",
       "          docLink.innerHTML = docLinkHtml;\n",
       "          element.appendChild(docLink);\n",
       "        }\n",
       "      </script>\n",
       "    </div>\n",
       "  </div>\n",
       "  "
      ],
      "text/plain": [
       "     zone_id                  zone_name        borough  \\\n",
       "0          1             Newark Airport            EWR   \n",
       "1          3    Allerton/Pelham Gardens          Bronx   \n",
       "2         18               Bedford Park          Bronx   \n",
       "3         20                    Belmont          Bronx   \n",
       "4         31                 Bronx Park          Bronx   \n",
       "..       ...                        ...            ...   \n",
       "258      206  Saint George/New Brighton  Staten Island   \n",
       "259      214   South Beach/Dongan Hills  Staten Island   \n",
       "260      221                  Stapleton  Staten Island   \n",
       "261      245              West Brighton  Staten Island   \n",
       "262      251                Westerleigh  Staten Island   \n",
       "\n",
       "                                             zone_geom  \n",
       "0    POLYGON((-74.1856319999999 40.6916479999999, -...  \n",
       "1    POLYGON((-73.848596761 40.8716707849999, -73.8...  \n",
       "2    POLYGON((-73.8844286139999 40.8668003789999, -...  \n",
       "3    POLYGON((-73.8839239579998 40.8644177609999, -...  \n",
       "4    POLYGON((-73.8710017319999 40.8572767429999, -...  \n",
       "..                                                 ...  \n",
       "258  POLYGON((-74.0825658580711 40.6483158193535, -...  \n",
       "259  POLYGON((-74.085787808 40.5958840799999, -74.0...  \n",
       "260  POLYGON((-74.076017768 40.6377481049999, -74.0...  \n",
       "261  POLYGON((-74.0992883379999 40.640204723, -74.0...  \n",
       "262  POLYGON((-74.1316183449999 40.6305836889999, -...  \n",
       "\n",
       "[263 rows x 4 columns]"
      ]
     },
     "execution_count": 20,
     "metadata": {},
     "output_type": "execute_result"
    }
   ],
   "source": [
    "df_geo.groupby('zone_name').head(10)"
   ]
  },
  {
   "cell_type": "markdown",
   "metadata": {
    "id": "Fyr82PfbJiPz"
   },
   "source": [
    "We can calculate trip duration from the dropoff and pickup time"
   ]
  },
  {
   "cell_type": "code",
   "execution_count": 24,
   "metadata": {
    "executionInfo": {
     "elapsed": 18,
     "status": "ok",
     "timestamp": 1654432044910,
     "user": {
      "displayName": "Nabhdeep Choudhary",
      "userId": "10453203815156583225"
     },
     "user_tz": -330
    },
    "id": "-jvO045glzSo"
   },
   "outputs": [],
   "source": [
    "df['trip_duration']  = (df.dropoff_datetime - df.pickup_datetime).astype('timedelta64[m]')"
   ]
  },
  {
   "cell_type": "code",
   "execution_count": 19,
   "metadata": {
    "colab": {
     "base_uri": "https://localhost:8080/",
     "height": 661
    },
    "executionInfo": {
     "elapsed": 13,
     "status": "ok",
     "timestamp": 1654430690496,
     "user": {
      "displayName": "Nabhdeep Choudhary",
      "userId": "10453203815156583225"
     },
     "user_tz": -330
    },
    "id": "DpMcIITtlzSp",
    "outputId": "499a8a0c-2b8c-4c8d-8ec9-685f42a490cc"
   },
   "outputs": [
    {
     "data": {
      "text/html": [
       "\n",
       "  <div id=\"df-32833e0a-e620-4a0a-9bbe-c10131c0033b\">\n",
       "    <div class=\"colab-df-container\">\n",
       "      <div>\n",
       "<style scoped>\n",
       "    .dataframe tbody tr th:only-of-type {\n",
       "        vertical-align: middle;\n",
       "    }\n",
       "\n",
       "    .dataframe tbody tr th {\n",
       "        vertical-align: top;\n",
       "    }\n",
       "\n",
       "    .dataframe thead th {\n",
       "        text-align: right;\n",
       "    }\n",
       "</style>\n",
       "<table border=\"1\" class=\"dataframe\">\n",
       "  <thead>\n",
       "    <tr style=\"text-align: right;\">\n",
       "      <th></th>\n",
       "      <th>vendor_id</th>\n",
       "      <th>pickup_datetime</th>\n",
       "      <th>dropoff_datetime</th>\n",
       "      <th>passenger_count</th>\n",
       "      <th>trip_distance</th>\n",
       "      <th>rate_code</th>\n",
       "      <th>store_and_fwd_flag</th>\n",
       "      <th>payment_type</th>\n",
       "      <th>fare_amount</th>\n",
       "      <th>extra</th>\n",
       "      <th>mta_tax</th>\n",
       "      <th>tip_amount</th>\n",
       "      <th>tolls_amount</th>\n",
       "      <th>imp_surcharge</th>\n",
       "      <th>total_amount</th>\n",
       "      <th>pickup_location_id</th>\n",
       "      <th>dropoff_location_id</th>\n",
       "      <th>trip_duration</th>\n",
       "    </tr>\n",
       "  </thead>\n",
       "  <tbody>\n",
       "    <tr>\n",
       "      <th>0</th>\n",
       "      <td>2</td>\n",
       "      <td>2018-03-29 13:37:13</td>\n",
       "      <td>2018-03-29 14:17:01</td>\n",
       "      <td>1</td>\n",
       "      <td>18.15</td>\n",
       "      <td>3</td>\n",
       "      <td>N</td>\n",
       "      <td>1</td>\n",
       "      <td>70.0</td>\n",
       "      <td>0.0</td>\n",
       "      <td>0.0</td>\n",
       "      <td>16.16</td>\n",
       "      <td>10.50</td>\n",
       "      <td>0.3</td>\n",
       "      <td>96.96</td>\n",
       "      <td>161</td>\n",
       "      <td>1</td>\n",
       "      <td>39.0</td>\n",
       "    </tr>\n",
       "    <tr>\n",
       "      <th>1</th>\n",
       "      <td>2</td>\n",
       "      <td>2018-03-29 13:37:18</td>\n",
       "      <td>2018-03-29 14:15:33</td>\n",
       "      <td>1</td>\n",
       "      <td>4.59</td>\n",
       "      <td>1</td>\n",
       "      <td>N</td>\n",
       "      <td>1</td>\n",
       "      <td>25.0</td>\n",
       "      <td>0.0</td>\n",
       "      <td>0.5</td>\n",
       "      <td>5.16</td>\n",
       "      <td>0.00</td>\n",
       "      <td>0.3</td>\n",
       "      <td>30.96</td>\n",
       "      <td>13</td>\n",
       "      <td>230</td>\n",
       "      <td>38.0</td>\n",
       "    </tr>\n",
       "    <tr>\n",
       "      <th>2</th>\n",
       "      <td>2</td>\n",
       "      <td>2018-03-29 13:26:57</td>\n",
       "      <td>2018-03-29 13:28:03</td>\n",
       "      <td>1</td>\n",
       "      <td>0.30</td>\n",
       "      <td>1</td>\n",
       "      <td>N</td>\n",
       "      <td>1</td>\n",
       "      <td>3.0</td>\n",
       "      <td>0.0</td>\n",
       "      <td>0.5</td>\n",
       "      <td>0.76</td>\n",
       "      <td>0.00</td>\n",
       "      <td>0.3</td>\n",
       "      <td>4.56</td>\n",
       "      <td>231</td>\n",
       "      <td>231</td>\n",
       "      <td>1.0</td>\n",
       "    </tr>\n",
       "    <tr>\n",
       "      <th>3</th>\n",
       "      <td>2</td>\n",
       "      <td>2018-03-29 13:07:48</td>\n",
       "      <td>2018-03-29 14:03:05</td>\n",
       "      <td>2</td>\n",
       "      <td>16.97</td>\n",
       "      <td>1</td>\n",
       "      <td>N</td>\n",
       "      <td>1</td>\n",
       "      <td>49.5</td>\n",
       "      <td>0.0</td>\n",
       "      <td>0.5</td>\n",
       "      <td>5.61</td>\n",
       "      <td>5.76</td>\n",
       "      <td>0.3</td>\n",
       "      <td>61.67</td>\n",
       "      <td>231</td>\n",
       "      <td>138</td>\n",
       "      <td>55.0</td>\n",
       "    </tr>\n",
       "    <tr>\n",
       "      <th>4</th>\n",
       "      <td>2</td>\n",
       "      <td>2018-03-29 14:19:11</td>\n",
       "      <td>2018-03-29 15:19:59</td>\n",
       "      <td>5</td>\n",
       "      <td>14.45</td>\n",
       "      <td>1</td>\n",
       "      <td>N</td>\n",
       "      <td>1</td>\n",
       "      <td>45.5</td>\n",
       "      <td>0.0</td>\n",
       "      <td>0.5</td>\n",
       "      <td>10.41</td>\n",
       "      <td>5.76</td>\n",
       "      <td>0.3</td>\n",
       "      <td>62.47</td>\n",
       "      <td>87</td>\n",
       "      <td>138</td>\n",
       "      <td>60.0</td>\n",
       "    </tr>\n",
       "    <tr>\n",
       "      <th>...</th>\n",
       "      <td>...</td>\n",
       "      <td>...</td>\n",
       "      <td>...</td>\n",
       "      <td>...</td>\n",
       "      <td>...</td>\n",
       "      <td>...</td>\n",
       "      <td>...</td>\n",
       "      <td>...</td>\n",
       "      <td>...</td>\n",
       "      <td>...</td>\n",
       "      <td>...</td>\n",
       "      <td>...</td>\n",
       "      <td>...</td>\n",
       "      <td>...</td>\n",
       "      <td>...</td>\n",
       "      <td>...</td>\n",
       "      <td>...</td>\n",
       "      <td>...</td>\n",
       "    </tr>\n",
       "    <tr>\n",
       "      <th>9999995</th>\n",
       "      <td>2</td>\n",
       "      <td>2018-03-29 12:16:01</td>\n",
       "      <td>2018-03-29 13:03:31</td>\n",
       "      <td>1</td>\n",
       "      <td>3.45</td>\n",
       "      <td>1</td>\n",
       "      <td>N</td>\n",
       "      <td>1</td>\n",
       "      <td>27.5</td>\n",
       "      <td>0.0</td>\n",
       "      <td>0.5</td>\n",
       "      <td>5.66</td>\n",
       "      <td>0.00</td>\n",
       "      <td>0.3</td>\n",
       "      <td>33.96</td>\n",
       "      <td>211</td>\n",
       "      <td>229</td>\n",
       "      <td>47.0</td>\n",
       "    </tr>\n",
       "    <tr>\n",
       "      <th>9999996</th>\n",
       "      <td>1</td>\n",
       "      <td>2018-03-29 12:26:25</td>\n",
       "      <td>2018-03-29 13:09:54</td>\n",
       "      <td>1</td>\n",
       "      <td>6.80</td>\n",
       "      <td>1</td>\n",
       "      <td>N</td>\n",
       "      <td>1</td>\n",
       "      <td>30.0</td>\n",
       "      <td>0.0</td>\n",
       "      <td>0.5</td>\n",
       "      <td>4.62</td>\n",
       "      <td>0.00</td>\n",
       "      <td>0.3</td>\n",
       "      <td>35.42</td>\n",
       "      <td>79</td>\n",
       "      <td>238</td>\n",
       "      <td>43.0</td>\n",
       "    </tr>\n",
       "    <tr>\n",
       "      <th>9999997</th>\n",
       "      <td>2</td>\n",
       "      <td>2018-03-29 12:22:12</td>\n",
       "      <td>2018-03-29 13:01:07</td>\n",
       "      <td>2</td>\n",
       "      <td>8.46</td>\n",
       "      <td>1</td>\n",
       "      <td>N</td>\n",
       "      <td>1</td>\n",
       "      <td>35.0</td>\n",
       "      <td>0.0</td>\n",
       "      <td>0.5</td>\n",
       "      <td>8.31</td>\n",
       "      <td>5.76</td>\n",
       "      <td>0.3</td>\n",
       "      <td>49.87</td>\n",
       "      <td>138</td>\n",
       "      <td>162</td>\n",
       "      <td>38.0</td>\n",
       "    </tr>\n",
       "    <tr>\n",
       "      <th>9999998</th>\n",
       "      <td>2</td>\n",
       "      <td>2018-03-29 13:57:40</td>\n",
       "      <td>2018-03-29 15:07:42</td>\n",
       "      <td>1</td>\n",
       "      <td>14.43</td>\n",
       "      <td>1</td>\n",
       "      <td>N</td>\n",
       "      <td>1</td>\n",
       "      <td>52.5</td>\n",
       "      <td>0.0</td>\n",
       "      <td>0.5</td>\n",
       "      <td>11.81</td>\n",
       "      <td>5.76</td>\n",
       "      <td>0.3</td>\n",
       "      <td>70.87</td>\n",
       "      <td>13</td>\n",
       "      <td>138</td>\n",
       "      <td>70.0</td>\n",
       "    </tr>\n",
       "    <tr>\n",
       "      <th>9999999</th>\n",
       "      <td>2</td>\n",
       "      <td>2018-03-29 13:29:40</td>\n",
       "      <td>2018-03-29 14:02:51</td>\n",
       "      <td>1</td>\n",
       "      <td>4.42</td>\n",
       "      <td>1</td>\n",
       "      <td>N</td>\n",
       "      <td>1</td>\n",
       "      <td>21.5</td>\n",
       "      <td>0.0</td>\n",
       "      <td>0.5</td>\n",
       "      <td>5.58</td>\n",
       "      <td>0.00</td>\n",
       "      <td>0.3</td>\n",
       "      <td>27.88</td>\n",
       "      <td>236</td>\n",
       "      <td>211</td>\n",
       "      <td>33.0</td>\n",
       "    </tr>\n",
       "  </tbody>\n",
       "</table>\n",
       "<p>10000000 rows × 18 columns</p>\n",
       "</div>\n",
       "      <button class=\"colab-df-convert\" onclick=\"convertToInteractive('df-32833e0a-e620-4a0a-9bbe-c10131c0033b')\"\n",
       "              title=\"Convert this dataframe to an interactive table.\"\n",
       "              style=\"display:none;\">\n",
       "        \n",
       "  <svg xmlns=\"http://www.w3.org/2000/svg\" height=\"24px\"viewBox=\"0 0 24 24\"\n",
       "       width=\"24px\">\n",
       "    <path d=\"M0 0h24v24H0V0z\" fill=\"none\"/>\n",
       "    <path d=\"M18.56 5.44l.94 2.06.94-2.06 2.06-.94-2.06-.94-.94-2.06-.94 2.06-2.06.94zm-11 1L8.5 8.5l.94-2.06 2.06-.94-2.06-.94L8.5 2.5l-.94 2.06-2.06.94zm10 10l.94 2.06.94-2.06 2.06-.94-2.06-.94-.94-2.06-.94 2.06-2.06.94z\"/><path d=\"M17.41 7.96l-1.37-1.37c-.4-.4-.92-.59-1.43-.59-.52 0-1.04.2-1.43.59L10.3 9.45l-7.72 7.72c-.78.78-.78 2.05 0 2.83L4 21.41c.39.39.9.59 1.41.59.51 0 1.02-.2 1.41-.59l7.78-7.78 2.81-2.81c.8-.78.8-2.07 0-2.86zM5.41 20L4 18.59l7.72-7.72 1.47 1.35L5.41 20z\"/>\n",
       "  </svg>\n",
       "      </button>\n",
       "      \n",
       "  <style>\n",
       "    .colab-df-container {\n",
       "      display:flex;\n",
       "      flex-wrap:wrap;\n",
       "      gap: 12px;\n",
       "    }\n",
       "\n",
       "    .colab-df-convert {\n",
       "      background-color: #E8F0FE;\n",
       "      border: none;\n",
       "      border-radius: 50%;\n",
       "      cursor: pointer;\n",
       "      display: none;\n",
       "      fill: #1967D2;\n",
       "      height: 32px;\n",
       "      padding: 0 0 0 0;\n",
       "      width: 32px;\n",
       "    }\n",
       "\n",
       "    .colab-df-convert:hover {\n",
       "      background-color: #E2EBFA;\n",
       "      box-shadow: 0px 1px 2px rgba(60, 64, 67, 0.3), 0px 1px 3px 1px rgba(60, 64, 67, 0.15);\n",
       "      fill: #174EA6;\n",
       "    }\n",
       "\n",
       "    [theme=dark] .colab-df-convert {\n",
       "      background-color: #3B4455;\n",
       "      fill: #D2E3FC;\n",
       "    }\n",
       "\n",
       "    [theme=dark] .colab-df-convert:hover {\n",
       "      background-color: #434B5C;\n",
       "      box-shadow: 0px 1px 3px 1px rgba(0, 0, 0, 0.15);\n",
       "      filter: drop-shadow(0px 1px 2px rgba(0, 0, 0, 0.3));\n",
       "      fill: #FFFFFF;\n",
       "    }\n",
       "  </style>\n",
       "\n",
       "      <script>\n",
       "        const buttonEl =\n",
       "          document.querySelector('#df-32833e0a-e620-4a0a-9bbe-c10131c0033b button.colab-df-convert');\n",
       "        buttonEl.style.display =\n",
       "          google.colab.kernel.accessAllowed ? 'block' : 'none';\n",
       "\n",
       "        async function convertToInteractive(key) {\n",
       "          const element = document.querySelector('#df-32833e0a-e620-4a0a-9bbe-c10131c0033b');\n",
       "          const dataTable =\n",
       "            await google.colab.kernel.invokeFunction('convertToInteractive',\n",
       "                                                     [key], {});\n",
       "          if (!dataTable) return;\n",
       "\n",
       "          const docLinkHtml = 'Like what you see? Visit the ' +\n",
       "            '<a target=\"_blank\" href=https://colab.research.google.com/notebooks/data_table.ipynb>data table notebook</a>'\n",
       "            + ' to learn more about interactive tables.';\n",
       "          element.innerHTML = '';\n",
       "          dataTable['output_type'] = 'display_data';\n",
       "          await google.colab.output.renderOutput(dataTable, element);\n",
       "          const docLink = document.createElement('div');\n",
       "          docLink.innerHTML = docLinkHtml;\n",
       "          element.appendChild(docLink);\n",
       "        }\n",
       "      </script>\n",
       "    </div>\n",
       "  </div>\n",
       "  "
      ],
      "text/plain": [
       "         vendor_id     pickup_datetime    dropoff_datetime  passenger_count  \\\n",
       "0                2 2018-03-29 13:37:13 2018-03-29 14:17:01                1   \n",
       "1                2 2018-03-29 13:37:18 2018-03-29 14:15:33                1   \n",
       "2                2 2018-03-29 13:26:57 2018-03-29 13:28:03                1   \n",
       "3                2 2018-03-29 13:07:48 2018-03-29 14:03:05                2   \n",
       "4                2 2018-03-29 14:19:11 2018-03-29 15:19:59                5   \n",
       "...            ...                 ...                 ...              ...   \n",
       "9999995          2 2018-03-29 12:16:01 2018-03-29 13:03:31                1   \n",
       "9999996          1 2018-03-29 12:26:25 2018-03-29 13:09:54                1   \n",
       "9999997          2 2018-03-29 12:22:12 2018-03-29 13:01:07                2   \n",
       "9999998          2 2018-03-29 13:57:40 2018-03-29 15:07:42                1   \n",
       "9999999          2 2018-03-29 13:29:40 2018-03-29 14:02:51                1   \n",
       "\n",
       "         trip_distance  rate_code store_and_fwd_flag  payment_type  \\\n",
       "0                18.15          3                  N             1   \n",
       "1                 4.59          1                  N             1   \n",
       "2                 0.30          1                  N             1   \n",
       "3                16.97          1                  N             1   \n",
       "4                14.45          1                  N             1   \n",
       "...                ...        ...                ...           ...   \n",
       "9999995           3.45          1                  N             1   \n",
       "9999996           6.80          1                  N             1   \n",
       "9999997           8.46          1                  N             1   \n",
       "9999998          14.43          1                  N             1   \n",
       "9999999           4.42          1                  N             1   \n",
       "\n",
       "         fare_amount  extra  mta_tax  tip_amount  tolls_amount  imp_surcharge  \\\n",
       "0               70.0    0.0      0.0       16.16         10.50            0.3   \n",
       "1               25.0    0.0      0.5        5.16          0.00            0.3   \n",
       "2                3.0    0.0      0.5        0.76          0.00            0.3   \n",
       "3               49.5    0.0      0.5        5.61          5.76            0.3   \n",
       "4               45.5    0.0      0.5       10.41          5.76            0.3   \n",
       "...              ...    ...      ...         ...           ...            ...   \n",
       "9999995         27.5    0.0      0.5        5.66          0.00            0.3   \n",
       "9999996         30.0    0.0      0.5        4.62          0.00            0.3   \n",
       "9999997         35.0    0.0      0.5        8.31          5.76            0.3   \n",
       "9999998         52.5    0.0      0.5       11.81          5.76            0.3   \n",
       "9999999         21.5    0.0      0.5        5.58          0.00            0.3   \n",
       "\n",
       "         total_amount  pickup_location_id  dropoff_location_id  trip_duration  \n",
       "0               96.96                 161                    1           39.0  \n",
       "1               30.96                  13                  230           38.0  \n",
       "2                4.56                 231                  231            1.0  \n",
       "3               61.67                 231                  138           55.0  \n",
       "4               62.47                  87                  138           60.0  \n",
       "...               ...                 ...                  ...            ...  \n",
       "9999995         33.96                 211                  229           47.0  \n",
       "9999996         35.42                  79                  238           43.0  \n",
       "9999997         49.87                 138                  162           38.0  \n",
       "9999998         70.87                  13                  138           70.0  \n",
       "9999999         27.88                 236                  211           33.0  \n",
       "\n",
       "[10000000 rows x 18 columns]"
      ]
     },
     "execution_count": 19,
     "metadata": {},
     "output_type": "execute_result"
    }
   ],
   "source": [
    "df"
   ]
  },
  {
   "cell_type": "markdown",
   "metadata": {
    "id": "mGjRPAcSJxgh"
   },
   "source": [
    "Also we can include the Area names according to the zone name in 'df_geo'"
   ]
  },
  {
   "cell_type": "code",
   "execution_count": 20,
   "metadata": {
    "executionInfo": {
     "elapsed": 8,
     "status": "ok",
     "timestamp": 1654432044018,
     "user": {
      "displayName": "Nabhdeep Choudhary",
      "userId": "10453203815156583225"
     },
     "user_tz": -330
    },
    "id": "hucDxOMdlzSy"
   },
   "outputs": [],
   "source": [
    "area_codes_df = df_geo[['zone_id','zone_name']]\n",
    " "
   ]
  },
  {
   "cell_type": "markdown",
   "metadata": {
    "id": "fVvEyjHuJ-fq"
   },
   "source": [
    "Simple way is to map the zones_name to the ids in the 'df'\n",
    "* First we want to convert the zone id and zone names into dictionary\n",
    "* Then use map() function to map each name to the respective id"
   ]
  },
  {
   "cell_type": "code",
   "execution_count": 21,
   "metadata": {
    "executionInfo": {
     "elapsed": 9,
     "status": "ok",
     "timestamp": 1654432044019,
     "user": {
      "displayName": "Nabhdeep Choudhary",
      "userId": "10453203815156583225"
     },
     "user_tz": -330
    },
    "id": "oiPDpIK85SuN"
   },
   "outputs": [],
   "source": [
    "dict_area = dict(area_codes_df.values)\n"
   ]
  },
  {
   "cell_type": "code",
   "execution_count": 22,
   "metadata": {
    "executionInfo": {
     "elapsed": 8,
     "status": "ok",
     "timestamp": 1654432044019,
     "user": {
      "displayName": "Nabhdeep Choudhary",
      "userId": "10453203815156583225"
     },
     "user_tz": -330
    },
    "id": "l22GbJyR5Srs"
   },
   "outputs": [],
   "source": [
    "df['pickup_area_name'] = df['pickup_location_id'].map(dict_area)"
   ]
  },
  {
   "cell_type": "code",
   "execution_count": 23,
   "metadata": {
    "executionInfo": {
     "elapsed": 897,
     "status": "ok",
     "timestamp": 1654432044909,
     "user": {
      "displayName": "Nabhdeep Choudhary",
      "userId": "10453203815156583225"
     },
     "user_tz": -330
    },
    "id": "idw1j0Y45SpC"
   },
   "outputs": [],
   "source": [
    "df['dropoff_area_name'] = df['dropoff_location_id'].map(dict_area)"
   ]
  },
  {
   "cell_type": "code",
   "execution_count": 20,
   "metadata": {
    "executionInfo": {
     "elapsed": 11,
     "status": "ok",
     "timestamp": 1654430690497,
     "user": {
      "displayName": "Nabhdeep Choudhary",
      "userId": "10453203815156583225"
     },
     "user_tz": -330
    },
    "id": "Yq6C5w5BlzSp"
   },
   "outputs": [],
   "source": [
    "import jovian"
   ]
  },
  {
   "cell_type": "code",
   "execution_count": 21,
   "metadata": {
    "colab": {
     "base_uri": "https://localhost:8080/",
     "height": 87
    },
    "executionInfo": {
     "elapsed": 2852,
     "status": "ok",
     "timestamp": 1654430693339,
     "user": {
      "displayName": "Nabhdeep Choudhary",
      "userId": "10453203815156583225"
     },
     "user_tz": -330
    },
    "id": "GjwksoAblzSp",
    "outputId": "d08cdc4e-5f23-4a8a-ae75-ae69205482c5"
   },
   "outputs": [
    {
     "name": "stdout",
     "output_type": "stream",
     "text": [
      "[jovian] Detected Colab notebook...\u001b[0m\n",
      "[jovian] Uploading colab notebook to Jovian...\u001b[0m\n",
      "Committed successfully! https://jovian.ai/deep3700/course-project-nyc-taxi\n"
     ]
    },
    {
     "data": {
      "application/vnd.google.colaboratory.intrinsic+json": {
       "type": "string"
      },
      "text/plain": [
       "'https://jovian.ai/deep3700/course-project-nyc-taxi'"
      ]
     },
     "execution_count": 21,
     "metadata": {},
     "output_type": "execute_result"
    }
   ],
   "source": [
    "jovian.commit()"
   ]
  },
  {
   "cell_type": "markdown",
   "metadata": {
    "id": "zW3qFoYklzSq"
   },
   "source": [
    "## Exploratory Analysis and Visualization\n",
    "Here we'll begain with the Explotatory analysis and Visualization\n",
    "\n"
   ]
  },
  {
   "cell_type": "markdown",
   "metadata": {
    "id": "PTjQqpoUlzSr"
   },
   "source": [
    "Let's begin by importing`matplotlib.pyplot` and `seaborn`."
   ]
  },
  {
   "cell_type": "code",
   "execution_count": 25,
   "metadata": {
    "executionInfo": {
     "elapsed": 17,
     "status": "ok",
     "timestamp": 1654432044911,
     "user": {
      "displayName": "Nabhdeep Choudhary",
      "userId": "10453203815156583225"
     },
     "user_tz": -330
    },
    "id": "D0akHyM7lzSr"
   },
   "outputs": [],
   "source": [
    "import seaborn as sns\n",
    "import matplotlib\n",
    "import matplotlib.pyplot as plt\n",
    "%matplotlib inline\n",
    "\n",
    "sns.set_style('darkgrid')\n",
    "matplotlib.rcParams['font.size'] = 14\n",
    "matplotlib.rcParams['figure.figsize'] = (12, 6)\n",
    "matplotlib.rcParams['figure.facecolor'] = '#00000000'"
   ]
  },
  {
   "cell_type": "markdown",
   "metadata": {
    "id": "_NlQ1TwxtLz5"
   },
   "source": [
    "### Vendor Id"
   ]
  },
  {
   "cell_type": "markdown",
   "metadata": {
    "id": "4j4AyqEYlzSs"
   },
   "source": [
    " \n",
    "\n",
    "*   Vendor_id\n",
    "*  passenger_count\n",
    "\n",
    "We'll analyse how manys trips each vendor did and how many passenger each had through NYC"
   ]
  },
  {
   "cell_type": "code",
   "execution_count": null,
   "metadata": {
    "colab": {
     "base_uri": "https://localhost:8080/",
     "height": 378
    },
    "executionInfo": {
     "elapsed": 711,
     "status": "ok",
     "timestamp": 1654188608134,
     "user": {
      "displayName": "Nabhdeep Choudhary",
      "userId": "10453203815156583225"
     },
     "user_tz": -330
    },
    "id": "3DLaN7WJlzSs",
    "outputId": "58a3c145-9bf9-4622-97a0-c9c83de7d594"
   },
   "outputs": [
    {
     "data": {
      "image/png": "[encoded data removed]",
      "text/plain": [
       "<Figure size 864x432 with 1 Axes>"
      ]
     },
     "metadata": {
      "needs_background": "light"
     },
     "output_type": "display_data"
    }
   ],
   "source": [
    "vendor_count= df.groupby('vendor_id')[['passenger_count']].sum()\n",
    "vendor_count.index\n",
    "plt.barh( vendor_count.index.astype(str) , vendor_count.passenger_count  )\n",
    "plt.ticklabel_format(axis= 'x' , style = 'plain')"
   ]
  },
  {
   "cell_type": "code",
   "execution_count": null,
   "metadata": {
    "id": "n4tiYEyKOeiZ"
   },
   "outputs": [],
   "source": []
  },
  {
   "cell_type": "markdown",
   "metadata": {
    "id": "qwrdZsQkLs5B"
   },
   "source": [
    "The most of the passengers travel with vendor 2 then followed by vendor 1.\n",
    "This could be due to more number of Taxis with vendor 2 "
   ]
  },
  {
   "cell_type": "markdown",
   "metadata": {
    "id": "bv_exVg7m-xp"
   },
   "source": [
    "### Pickup time and Dropoff time"
   ]
  },
  {
   "cell_type": "markdown",
   "metadata": {
    "id": "CuXrKvDjMPYo"
   },
   "source": [
    "We can analyse the percentage to travel during the hour of the day\n"
   ]
  },
  {
   "cell_type": "code",
   "execution_count": null,
   "metadata": {
    "colab": {
     "base_uri": "https://localhost:8080/",
     "height": 488
    },
    "executionInfo": {
     "elapsed": 2167,
     "status": "ok",
     "timestamp": 1654278869456,
     "user": {
      "displayName": "Nabhdeep Choudhary",
      "userId": "10453203815156583225"
     },
     "user_tz": -330
    },
    "id": "HaqEGkvanDgs",
    "outputId": "b377d5db-01a8-47e9-abc1-d2f9eba1fc16"
   },
   "outputs": [
    {
     "name": "stderr",
     "output_type": "stream",
     "text": [
      "/usr/local/lib/python3.7/dist-packages/seaborn/distributions.py:2619: FutureWarning: `distplot` is a deprecated function and will be removed in a future version. Please adapt your code to use either `displot` (a figure-level function with similar flexibility) or `histplot` (an axes-level function for histograms).\n",
      "  warnings.warn(msg, FutureWarning)\n"
     ]
    },
    {
     "data": {
      "text/plain": [
       "[Text(0.5, 1.0, 'Pickup by Hour')]"
      ]
     },
     "execution_count": 96,
     "metadata": {},
     "output_type": "execute_result"
    },
    {
     "data": {
      "image/png": "[encoded data removed]",
      "text/plain": [
       "<Figure size 864x432 with 1 Axes>"
      ]
     },
     "metadata": {
      "needs_background": "light"
     },
     "output_type": "display_data"
    }
   ],
   "source": [
    "sns.distplot(df.pickup_datetime.dt.hour , bins = 24 , kde = False , norm_hist = True).set(title = 'Pickup by Hour')"
   ]
  },
  {
   "cell_type": "markdown",
   "metadata": {
    "id": "K176GfnRoEgp"
   },
   "source": [
    " - There is greater number of people starts to travel from 7AM and it goes to 12AM for that respective day."
   ]
  },
  {
   "cell_type": "code",
   "execution_count": null,
   "metadata": {
    "colab": {
     "base_uri": "https://localhost:8080/",
     "height": 488
    },
    "executionInfo": {
     "elapsed": 2003,
     "status": "ok",
     "timestamp": 1654190294685,
     "user": {
      "displayName": "Nabhdeep Choudhary",
      "userId": "10453203815156583225"
     },
     "user_tz": -330
    },
    "id": "hWOFLwh5bFsp",
    "outputId": "d7380390-ffc7-4711-9430-c88eb0050d25"
   },
   "outputs": [
    {
     "name": "stderr",
     "output_type": "stream",
     "text": [
      "/usr/local/lib/python3.7/dist-packages/seaborn/distributions.py:2619: FutureWarning: `distplot` is a deprecated function and will be removed in a future version. Please adapt your code to use either `displot` (a figure-level function with similar flexibility) or `histplot` (an axes-level function for histograms).\n",
      "  warnings.warn(msg, FutureWarning)\n"
     ]
    },
    {
     "data": {
      "text/plain": [
       "[Text(0.5, 1.0, 'Dropoff by Hour')]"
      ]
     },
     "execution_count": 75,
     "metadata": {},
     "output_type": "execute_result"
    },
    {
     "data": {
      "image/png": "[encoded data removed]",
      "text/plain": [
       "<Figure size 864x432 with 1 Axes>"
      ]
     },
     "metadata": {
      "needs_background": "light"
     },
     "output_type": "display_data"
    }
   ],
   "source": [
    "sns.distplot(df.dropoff_datetime.dt.hour , bins = 24 , kde = False , norm_hist = True).set(title = 'Dropoff by Hour')"
   ]
  },
  {
   "cell_type": "markdown",
   "metadata": {
    "id": "luXKUcEwMg_X"
   },
   "source": [
    "The percentage of travel increase from 9AM to increases even more till 10PM"
   ]
  },
  {
   "cell_type": "markdown",
   "metadata": {
    "id": "RyfvGVUfMfA5"
   },
   "source": [
    "We can check durin which time of the day more amount of passengers travel"
   ]
  },
  {
   "cell_type": "code",
   "execution_count": null,
   "metadata": {
    "colab": {
     "base_uri": "https://localhost:8080/",
     "height": 451
    },
    "executionInfo": {
     "elapsed": 5795,
     "status": "ok",
     "timestamp": 1654192924945,
     "user": {
      "displayName": "Nabhdeep Choudhary",
      "userId": "10453203815156583225"
     },
     "user_tz": -330
    },
    "id": "OQLegXutiL6v",
    "outputId": "aee0018a-ad8a-4afb-dd7e-6b8580745247"
   },
   "outputs": [
    {
     "name": "stderr",
     "output_type": "stream",
     "text": [
      "/usr/local/lib/python3.7/dist-packages/seaborn/_decorators.py:43: FutureWarning: Pass the following variable as a keyword arg: x. From version 0.12, the only valid positional argument will be `data`, and passing other arguments without an explicit keyword will result in an error or misinterpretation.\n",
      "  FutureWarning\n"
     ]
    },
    {
     "data": {
      "image/png": "[encoded data removed]",
      "text/plain": [
       "<Figure size 864x432 with 1 Axes>"
      ]
     },
     "metadata": {},
     "output_type": "display_data"
    }
   ],
   "source": [
    "pickup_plot = sns.countplot(df.pickup_time_of_day , order = df['pickup_time_of_day'].value_counts().index)\n",
    "pickup_plot.ticklabel_format(axis = 'y' , style = 'plain')"
   ]
  },
  {
   "cell_type": "code",
   "execution_count": null,
   "metadata": {
    "colab": {
     "base_uri": "https://localhost:8080/",
     "height": 453
    },
    "executionInfo": {
     "elapsed": 5349,
     "status": "ok",
     "timestamp": 1654192955878,
     "user": {
      "displayName": "Nabhdeep Choudhary",
      "userId": "10453203815156583225"
     },
     "user_tz": -330
    },
    "id": "SbKSYlX8jRWe",
    "outputId": "6ce62a89-c8d3-404b-a073-6163e17a4167"
   },
   "outputs": [
    {
     "name": "stderr",
     "output_type": "stream",
     "text": [
      "/usr/local/lib/python3.7/dist-packages/seaborn/_decorators.py:43: FutureWarning: Pass the following variable as a keyword arg: x. From version 0.12, the only valid positional argument will be `data`, and passing other arguments without an explicit keyword will result in an error or misinterpretation.\n",
      "  FutureWarning\n"
     ]
    },
    {
     "data": {
      "image/png": "[encoded data removed]",
      "text/plain": [
       "<Figure size 864x432 with 1 Axes>"
      ]
     },
     "metadata": {},
     "output_type": "display_data"
    }
   ],
   "source": [
    "dropoff_plot = sns.countplot(df.dropoff_time_of_day , order = df['dropoff_time_of_day'].value_counts().index)\n",
    "dropoff_plot.ticklabel_format(axis = 'y' , style = 'plain')"
   ]
  },
  {
   "cell_type": "markdown",
   "metadata": {
    "id": "uR5A4RHkNgvJ"
   },
   "source": [
    "Evening time sees the most amount of people travelling from Taxis"
   ]
  },
  {
   "cell_type": "markdown",
   "metadata": {
    "id": "0AmAhGe_lzSs"
   },
   "source": [
    "\n",
    "Let's analyse pickup datetime and check in which days of the week people like to take taxi"
   ]
  },
  {
   "cell_type": "code",
   "execution_count": 44,
   "metadata": {
    "executionInfo": {
     "elapsed": 2811,
     "status": "ok",
     "timestamp": 1654435351033,
     "user": {
      "displayName": "Nabhdeep Choudhary",
      "userId": "10453203815156583225"
     },
     "user_tz": -330
    },
    "id": "SrsY5VHAlzSt"
   },
   "outputs": [],
   "source": [
    "days = df.pickup_datetime.dt.day_name()"
   ]
  },
  {
   "cell_type": "code",
   "execution_count": 45,
   "metadata": {
    "executionInfo": {
     "elapsed": 8,
     "status": "ok",
     "timestamp": 1654435351034,
     "user": {
      "displayName": "Nabhdeep Choudhary",
      "userId": "10453203815156583225"
     },
     "user_tz": -330
    },
    "id": "WQz9xqWalzSt"
   },
   "outputs": [],
   "source": [
    "df['pickup_days']  = days"
   ]
  },
  {
   "cell_type": "code",
   "execution_count": 46,
   "metadata": {
    "colab": {
     "base_uri": "https://localhost:8080/",
     "height": 300
    },
    "executionInfo": {
     "elapsed": 1569,
     "status": "ok",
     "timestamp": 1654435352597,
     "user": {
      "displayName": "Nabhdeep Choudhary",
      "userId": "10453203815156583225"
     },
     "user_tz": -330
    },
    "id": "Uv48fEWstWcf",
    "outputId": "7756bd6a-fce9-4206-81ac-00707aa0c33f"
   },
   "outputs": [
    {
     "data": {
      "text/html": [
       "\n",
       "  <div id=\"df-6725a04a-7425-48de-a398-576ca2e72725\">\n",
       "    <div class=\"colab-df-container\">\n",
       "      <div>\n",
       "<style scoped>\n",
       "    .dataframe tbody tr th:only-of-type {\n",
       "        vertical-align: middle;\n",
       "    }\n",
       "\n",
       "    .dataframe tbody tr th {\n",
       "        vertical-align: top;\n",
       "    }\n",
       "\n",
       "    .dataframe thead th {\n",
       "        text-align: right;\n",
       "    }\n",
       "</style>\n",
       "<table border=\"1\" class=\"dataframe\">\n",
       "  <thead>\n",
       "    <tr style=\"text-align: right;\">\n",
       "      <th></th>\n",
       "      <th>passenger_count</th>\n",
       "    </tr>\n",
       "    <tr>\n",
       "      <th>pickup_days</th>\n",
       "      <th></th>\n",
       "    </tr>\n",
       "  </thead>\n",
       "  <tbody>\n",
       "    <tr>\n",
       "      <th>Monday</th>\n",
       "      <td>2145284</td>\n",
       "    </tr>\n",
       "    <tr>\n",
       "      <th>Tuesday</th>\n",
       "      <td>2254621</td>\n",
       "    </tr>\n",
       "    <tr>\n",
       "      <th>Wednesday</th>\n",
       "      <td>2296277</td>\n",
       "    </tr>\n",
       "    <tr>\n",
       "      <th>Thursday</th>\n",
       "      <td>2635600</td>\n",
       "    </tr>\n",
       "    <tr>\n",
       "      <th>Friday</th>\n",
       "      <td>2540096</td>\n",
       "    </tr>\n",
       "    <tr>\n",
       "      <th>Saturday</th>\n",
       "      <td>2055844</td>\n",
       "    </tr>\n",
       "    <tr>\n",
       "      <th>Sunday</th>\n",
       "      <td>2101772</td>\n",
       "    </tr>\n",
       "  </tbody>\n",
       "</table>\n",
       "</div>\n",
       "      <button class=\"colab-df-convert\" onclick=\"convertToInteractive('df-6725a04a-7425-48de-a398-576ca2e72725')\"\n",
       "              title=\"Convert this dataframe to an interactive table.\"\n",
       "              style=\"display:none;\">\n",
       "        \n",
       "  <svg xmlns=\"http://www.w3.org/2000/svg\" height=\"24px\"viewBox=\"0 0 24 24\"\n",
       "       width=\"24px\">\n",
       "    <path d=\"M0 0h24v24H0V0z\" fill=\"none\"/>\n",
       "    <path d=\"M18.56 5.44l.94 2.06.94-2.06 2.06-.94-2.06-.94-.94-2.06-.94 2.06-2.06.94zm-11 1L8.5 8.5l.94-2.06 2.06-.94-2.06-.94L8.5 2.5l-.94 2.06-2.06.94zm10 10l.94 2.06.94-2.06 2.06-.94-2.06-.94-.94-2.06-.94 2.06-2.06.94z\"/><path d=\"M17.41 7.96l-1.37-1.37c-.4-.4-.92-.59-1.43-.59-.52 0-1.04.2-1.43.59L10.3 9.45l-7.72 7.72c-.78.78-.78 2.05 0 2.83L4 21.41c.39.39.9.59 1.41.59.51 0 1.02-.2 1.41-.59l7.78-7.78 2.81-2.81c.8-.78.8-2.07 0-2.86zM5.41 20L4 18.59l7.72-7.72 1.47 1.35L5.41 20z\"/>\n",
       "  </svg>\n",
       "      </button>\n",
       "      \n",
       "  <style>\n",
       "    .colab-df-container {\n",
       "      display:flex;\n",
       "      flex-wrap:wrap;\n",
       "      gap: 12px;\n",
       "    }\n",
       "\n",
       "    .colab-df-convert {\n",
       "      background-color: #E8F0FE;\n",
       "      border: none;\n",
       "      border-radius: 50%;\n",
       "      cursor: pointer;\n",
       "      display: none;\n",
       "      fill: #1967D2;\n",
       "      height: 32px;\n",
       "      padding: 0 0 0 0;\n",
       "      width: 32px;\n",
       "    }\n",
       "\n",
       "    .colab-df-convert:hover {\n",
       "      background-color: #E2EBFA;\n",
       "      box-shadow: 0px 1px 2px rgba(60, 64, 67, 0.3), 0px 1px 3px 1px rgba(60, 64, 67, 0.15);\n",
       "      fill: #174EA6;\n",
       "    }\n",
       "\n",
       "    [theme=dark] .colab-df-convert {\n",
       "      background-color: #3B4455;\n",
       "      fill: #D2E3FC;\n",
       "    }\n",
       "\n",
       "    [theme=dark] .colab-df-convert:hover {\n",
       "      background-color: #434B5C;\n",
       "      box-shadow: 0px 1px 3px 1px rgba(0, 0, 0, 0.15);\n",
       "      filter: drop-shadow(0px 1px 2px rgba(0, 0, 0, 0.3));\n",
       "      fill: #FFFFFF;\n",
       "    }\n",
       "  </style>\n",
       "\n",
       "      <script>\n",
       "        const buttonEl =\n",
       "          document.querySelector('#df-6725a04a-7425-48de-a398-576ca2e72725 button.colab-df-convert');\n",
       "        buttonEl.style.display =\n",
       "          google.colab.kernel.accessAllowed ? 'block' : 'none';\n",
       "\n",
       "        async function convertToInteractive(key) {\n",
       "          const element = document.querySelector('#df-6725a04a-7425-48de-a398-576ca2e72725');\n",
       "          const dataTable =\n",
       "            await google.colab.kernel.invokeFunction('convertToInteractive',\n",
       "                                                     [key], {});\n",
       "          if (!dataTable) return;\n",
       "\n",
       "          const docLinkHtml = 'Like what you see? Visit the ' +\n",
       "            '<a target=\"_blank\" href=https://colab.research.google.com/notebooks/data_table.ipynb>data table notebook</a>'\n",
       "            + ' to learn more about interactive tables.';\n",
       "          element.innerHTML = '';\n",
       "          dataTable['output_type'] = 'display_data';\n",
       "          await google.colab.output.renderOutput(dataTable, element);\n",
       "          const docLink = document.createElement('div');\n",
       "          docLink.innerHTML = docLinkHtml;\n",
       "          element.appendChild(docLink);\n",
       "        }\n",
       "      </script>\n",
       "    </div>\n",
       "  </div>\n",
       "  "
      ],
      "text/plain": [
       "             passenger_count\n",
       "pickup_days                 \n",
       "Monday               2145284\n",
       "Tuesday              2254621\n",
       "Wednesday            2296277\n",
       "Thursday             2635600\n",
       "Friday               2540096\n",
       "Saturday             2055844\n",
       "Sunday               2101772"
      ]
     },
     "execution_count": 46,
     "metadata": {},
     "output_type": "execute_result"
    }
   ],
   "source": [
    "weekdays =  [ 'Monday', 'Tuesday', 'Wednesday', 'Thursday', 'Friday', 'Saturday', 'Sunday']\n",
    "passenger_count_per_day = df.groupby('pickup_days')[['passenger_count']].sum().reindex(weekdays)\n",
    "passenger_count_per_day"
   ]
  },
  {
   "cell_type": "code",
   "execution_count": 48,
   "metadata": {
    "executionInfo": {
     "elapsed": 2757,
     "status": "ok",
     "timestamp": 1654435421456,
     "user": {
      "displayName": "Nabhdeep Choudhary",
      "userId": "10453203815156583225"
     },
     "user_tz": -330
    },
    "id": "Uq37gilwbmXU"
   },
   "outputs": [],
   "source": [
    "drop_days = df.dropoff_datetime.dt.day_name()"
   ]
  },
  {
   "cell_type": "code",
   "execution_count": 49,
   "metadata": {
    "executionInfo": {
     "elapsed": 7,
     "status": "ok",
     "timestamp": 1654435421456,
     "user": {
      "displayName": "Nabhdeep Choudhary",
      "userId": "10453203815156583225"
     },
     "user_tz": -330
    },
    "id": "TitvdAA5bzIp"
   },
   "outputs": [],
   "source": [
    "df['Dropoff_days'] = drop_days"
   ]
  },
  {
   "cell_type": "code",
   "execution_count": 50,
   "metadata": {
    "colab": {
     "base_uri": "https://localhost:8080/",
     "height": 300
    },
    "executionInfo": {
     "elapsed": 1741,
     "status": "ok",
     "timestamp": 1654435423191,
     "user": {
      "displayName": "Nabhdeep Choudhary",
      "userId": "10453203815156583225"
     },
     "user_tz": -330
    },
    "id": "iYcdGfMYcB2x",
    "outputId": "b93f6e2c-1633-40d2-bc30-3b75d103bbf0"
   },
   "outputs": [
    {
     "data": {
      "text/html": [
       "\n",
       "  <div id=\"df-7497cfb5-6cc1-40e5-83eb-7add8795d5ab\">\n",
       "    <div class=\"colab-df-container\">\n",
       "      <div>\n",
       "<style scoped>\n",
       "    .dataframe tbody tr th:only-of-type {\n",
       "        vertical-align: middle;\n",
       "    }\n",
       "\n",
       "    .dataframe tbody tr th {\n",
       "        vertical-align: top;\n",
       "    }\n",
       "\n",
       "    .dataframe thead th {\n",
       "        text-align: right;\n",
       "    }\n",
       "</style>\n",
       "<table border=\"1\" class=\"dataframe\">\n",
       "  <thead>\n",
       "    <tr style=\"text-align: right;\">\n",
       "      <th></th>\n",
       "      <th>passenger_count</th>\n",
       "    </tr>\n",
       "    <tr>\n",
       "      <th>Dropoff_days</th>\n",
       "      <th></th>\n",
       "    </tr>\n",
       "  </thead>\n",
       "  <tbody>\n",
       "    <tr>\n",
       "      <th>Monday</th>\n",
       "      <td>2144659</td>\n",
       "    </tr>\n",
       "    <tr>\n",
       "      <th>Tuesday</th>\n",
       "      <td>2248434</td>\n",
       "    </tr>\n",
       "    <tr>\n",
       "      <th>Wednesday</th>\n",
       "      <td>2287873</td>\n",
       "    </tr>\n",
       "    <tr>\n",
       "      <th>Thursday</th>\n",
       "      <td>2613836</td>\n",
       "    </tr>\n",
       "    <tr>\n",
       "      <th>Friday</th>\n",
       "      <td>2532619</td>\n",
       "    </tr>\n",
       "    <tr>\n",
       "      <th>Saturday</th>\n",
       "      <td>2069983</td>\n",
       "    </tr>\n",
       "    <tr>\n",
       "      <th>Sunday</th>\n",
       "      <td>2132090</td>\n",
       "    </tr>\n",
       "  </tbody>\n",
       "</table>\n",
       "</div>\n",
       "      <button class=\"colab-df-convert\" onclick=\"convertToInteractive('df-7497cfb5-6cc1-40e5-83eb-7add8795d5ab')\"\n",
       "              title=\"Convert this dataframe to an interactive table.\"\n",
       "              style=\"display:none;\">\n",
       "        \n",
       "  <svg xmlns=\"http://www.w3.org/2000/svg\" height=\"24px\"viewBox=\"0 0 24 24\"\n",
       "       width=\"24px\">\n",
       "    <path d=\"M0 0h24v24H0V0z\" fill=\"none\"/>\n",
       "    <path d=\"M18.56 5.44l.94 2.06.94-2.06 2.06-.94-2.06-.94-.94-2.06-.94 2.06-2.06.94zm-11 1L8.5 8.5l.94-2.06 2.06-.94-2.06-.94L8.5 2.5l-.94 2.06-2.06.94zm10 10l.94 2.06.94-2.06 2.06-.94-2.06-.94-.94-2.06-.94 2.06-2.06.94z\"/><path d=\"M17.41 7.96l-1.37-1.37c-.4-.4-.92-.59-1.43-.59-.52 0-1.04.2-1.43.59L10.3 9.45l-7.72 7.72c-.78.78-.78 2.05 0 2.83L4 21.41c.39.39.9.59 1.41.59.51 0 1.02-.2 1.41-.59l7.78-7.78 2.81-2.81c.8-.78.8-2.07 0-2.86zM5.41 20L4 18.59l7.72-7.72 1.47 1.35L5.41 20z\"/>\n",
       "  </svg>\n",
       "      </button>\n",
       "      \n",
       "  <style>\n",
       "    .colab-df-container {\n",
       "      display:flex;\n",
       "      flex-wrap:wrap;\n",
       "      gap: 12px;\n",
       "    }\n",
       "\n",
       "    .colab-df-convert {\n",
       "      background-color: #E8F0FE;\n",
       "      border: none;\n",
       "      border-radius: 50%;\n",
       "      cursor: pointer;\n",
       "      display: none;\n",
       "      fill: #1967D2;\n",
       "      height: 32px;\n",
       "      padding: 0 0 0 0;\n",
       "      width: 32px;\n",
       "    }\n",
       "\n",
       "    .colab-df-convert:hover {\n",
       "      background-color: #E2EBFA;\n",
       "      box-shadow: 0px 1px 2px rgba(60, 64, 67, 0.3), 0px 1px 3px 1px rgba(60, 64, 67, 0.15);\n",
       "      fill: #174EA6;\n",
       "    }\n",
       "\n",
       "    [theme=dark] .colab-df-convert {\n",
       "      background-color: #3B4455;\n",
       "      fill: #D2E3FC;\n",
       "    }\n",
       "\n",
       "    [theme=dark] .colab-df-convert:hover {\n",
       "      background-color: #434B5C;\n",
       "      box-shadow: 0px 1px 3px 1px rgba(0, 0, 0, 0.15);\n",
       "      filter: drop-shadow(0px 1px 2px rgba(0, 0, 0, 0.3));\n",
       "      fill: #FFFFFF;\n",
       "    }\n",
       "  </style>\n",
       "\n",
       "      <script>\n",
       "        const buttonEl =\n",
       "          document.querySelector('#df-7497cfb5-6cc1-40e5-83eb-7add8795d5ab button.colab-df-convert');\n",
       "        buttonEl.style.display =\n",
       "          google.colab.kernel.accessAllowed ? 'block' : 'none';\n",
       "\n",
       "        async function convertToInteractive(key) {\n",
       "          const element = document.querySelector('#df-7497cfb5-6cc1-40e5-83eb-7add8795d5ab');\n",
       "          const dataTable =\n",
       "            await google.colab.kernel.invokeFunction('convertToInteractive',\n",
       "                                                     [key], {});\n",
       "          if (!dataTable) return;\n",
       "\n",
       "          const docLinkHtml = 'Like what you see? Visit the ' +\n",
       "            '<a target=\"_blank\" href=https://colab.research.google.com/notebooks/data_table.ipynb>data table notebook</a>'\n",
       "            + ' to learn more about interactive tables.';\n",
       "          element.innerHTML = '';\n",
       "          dataTable['output_type'] = 'display_data';\n",
       "          await google.colab.output.renderOutput(dataTable, element);\n",
       "          const docLink = document.createElement('div');\n",
       "          docLink.innerHTML = docLinkHtml;\n",
       "          element.appendChild(docLink);\n",
       "        }\n",
       "      </script>\n",
       "    </div>\n",
       "  </div>\n",
       "  "
      ],
      "text/plain": [
       "              passenger_count\n",
       "Dropoff_days                 \n",
       "Monday                2144659\n",
       "Tuesday               2248434\n",
       "Wednesday             2287873\n",
       "Thursday              2613836\n",
       "Friday                2532619\n",
       "Saturday              2069983\n",
       "Sunday                2132090"
      ]
     },
     "execution_count": 50,
     "metadata": {},
     "output_type": "execute_result"
    }
   ],
   "source": [
    "weekdays =  [ 'Monday', 'Tuesday', 'Wednesday', 'Thursday', 'Friday', 'Saturday', 'Sunday']\n",
    "passenger_dropoff_count_per_day = df.groupby('Dropoff_days')[['passenger_count']].sum().reindex(weekdays)\n",
    "passenger_dropoff_count_per_day"
   ]
  },
  {
   "cell_type": "code",
   "execution_count": null,
   "metadata": {
    "id": "OptNLsn5tdi3"
   },
   "outputs": [],
   "source": [
    "passenger_count_day_night = df.groupby('pickup_datetime')[['passenger_count']].sum()\n"
   ]
  },
  {
   "cell_type": "code",
   "execution_count": null,
   "metadata": {
    "id": "jYIPmtvktYzr"
   },
   "outputs": [],
   "source": [
    "passenger_count_day = passenger_count_day_night.between_time('04:00:00' , '19:00:00')\n"
   ]
  },
  {
   "cell_type": "code",
   "execution_count": null,
   "metadata": {
    "colab": {
     "base_uri": "https://localhost:8080/"
    },
    "executionInfo": {
     "elapsed": 3,
     "status": "ok",
     "timestamp": 1654012744375,
     "user": {
      "displayName": "Nabhdeep Choudhary",
      "userId": "10453203815156583225"
     },
     "user_tz": -330
    },
    "id": "I6Q4P4d3tYnz",
    "outputId": "359d8efd-103b-4d36-d701-f1c68895f3fa"
   },
   "outputs": [
    {
     "data": {
      "text/plain": [
       "64.37493909664272"
      ]
     },
     "execution_count": 106,
     "metadata": {},
     "output_type": "execute_result"
    }
   ],
   "source": [
    "percent_of_passengers_day = (passenger_count_day.passenger_count.sum() / passenger_count_day_night.passenger_count.sum()) * 100\n",
    "percent_of_passengers_day"
   ]
  },
  {
   "cell_type": "markdown",
   "metadata": {
    "id": "KuTD-fyi1oH9"
   },
   "source": [
    "We can see that aroud 64 % of passenges are tarvelling during the day"
   ]
  },
  {
   "cell_type": "markdown",
   "metadata": {
    "id": "2uzHrUX_14bd"
   },
   "source": [
    "Now, we can check passenger count for the whole year"
   ]
  },
  {
   "cell_type": "code",
   "execution_count": null,
   "metadata": {
    "id": "gPXrNZmrZFVk"
   },
   "outputs": [],
   "source": [
    "months_pickup = df.pickup_datetime.dt.month_name()\n",
    "months_dropoff = df.dropoff_datetime.dt.month_name()"
   ]
  },
  {
   "cell_type": "code",
   "execution_count": null,
   "metadata": {
    "id": "xhbaqJd4Z2sS"
   },
   "outputs": [],
   "source": [
    "df['pickup_months']  = months_pickup\n",
    "df['dropoff_months'] = months_dropoff"
   ]
  },
  {
   "cell_type": "code",
   "execution_count": null,
   "metadata": {
    "colab": {
     "base_uri": "https://localhost:8080/",
     "height": 457
    },
    "executionInfo": {
     "elapsed": 1998,
     "status": "ok",
     "timestamp": 1654190911057,
     "user": {
      "displayName": "Nabhdeep Choudhary",
      "userId": "10453203815156583225"
     },
     "user_tz": -330
    },
    "id": "J7hKVF6IZ2o1",
    "outputId": "7b861db3-4da2-4468-eeb9-8f11a72194f1"
   },
   "outputs": [
    {
     "data": {
      "text/html": [
       "\n",
       "  <div id=\"df-e6f3b260-e90e-43db-bd4b-b19e18c83cf8\">\n",
       "    <div class=\"colab-df-container\">\n",
       "      <div>\n",
       "<style scoped>\n",
       "    .dataframe tbody tr th:only-of-type {\n",
       "        vertical-align: middle;\n",
       "    }\n",
       "\n",
       "    .dataframe tbody tr th {\n",
       "        vertical-align: top;\n",
       "    }\n",
       "\n",
       "    .dataframe thead th {\n",
       "        text-align: right;\n",
       "    }\n",
       "</style>\n",
       "<table border=\"1\" class=\"dataframe\">\n",
       "  <thead>\n",
       "    <tr style=\"text-align: right;\">\n",
       "      <th></th>\n",
       "      <th>passenger_count</th>\n",
       "    </tr>\n",
       "    <tr>\n",
       "      <th>pickup_months</th>\n",
       "      <th></th>\n",
       "    </tr>\n",
       "  </thead>\n",
       "  <tbody>\n",
       "    <tr>\n",
       "      <th>January</th>\n",
       "      <td>1125261</td>\n",
       "    </tr>\n",
       "    <tr>\n",
       "      <th>February</th>\n",
       "      <td>1112937</td>\n",
       "    </tr>\n",
       "    <tr>\n",
       "      <th>March</th>\n",
       "      <td>2534215</td>\n",
       "    </tr>\n",
       "    <tr>\n",
       "      <th>April</th>\n",
       "      <td>1314805</td>\n",
       "    </tr>\n",
       "    <tr>\n",
       "      <th>May</th>\n",
       "      <td>1386561</td>\n",
       "    </tr>\n",
       "    <tr>\n",
       "      <th>June</th>\n",
       "      <td>1319670</td>\n",
       "    </tr>\n",
       "    <tr>\n",
       "      <th>July</th>\n",
       "      <td>1161265</td>\n",
       "    </tr>\n",
       "    <tr>\n",
       "      <th>August</th>\n",
       "      <td>1094778</td>\n",
       "    </tr>\n",
       "    <tr>\n",
       "      <th>September</th>\n",
       "      <td>1187063</td>\n",
       "    </tr>\n",
       "    <tr>\n",
       "      <th>October</th>\n",
       "      <td>1332708</td>\n",
       "    </tr>\n",
       "    <tr>\n",
       "      <th>November</th>\n",
       "      <td>1201421</td>\n",
       "    </tr>\n",
       "    <tr>\n",
       "      <th>December</th>\n",
       "      <td>1258810</td>\n",
       "    </tr>\n",
       "  </tbody>\n",
       "</table>\n",
       "</div>\n",
       "      <button class=\"colab-df-convert\" onclick=\"convertToInteractive('df-e6f3b260-e90e-43db-bd4b-b19e18c83cf8')\"\n",
       "              title=\"Convert this dataframe to an interactive table.\"\n",
       "              style=\"display:none;\">\n",
       "        \n",
       "  <svg xmlns=\"http://www.w3.org/2000/svg\" height=\"24px\"viewBox=\"0 0 24 24\"\n",
       "       width=\"24px\">\n",
       "    <path d=\"M0 0h24v24H0V0z\" fill=\"none\"/>\n",
       "    <path d=\"M18.56 5.44l.94 2.06.94-2.06 2.06-.94-2.06-.94-.94-2.06-.94 2.06-2.06.94zm-11 1L8.5 8.5l.94-2.06 2.06-.94-2.06-.94L8.5 2.5l-.94 2.06-2.06.94zm10 10l.94 2.06.94-2.06 2.06-.94-2.06-.94-.94-2.06-.94 2.06-2.06.94z\"/><path d=\"M17.41 7.96l-1.37-1.37c-.4-.4-.92-.59-1.43-.59-.52 0-1.04.2-1.43.59L10.3 9.45l-7.72 7.72c-.78.78-.78 2.05 0 2.83L4 21.41c.39.39.9.59 1.41.59.51 0 1.02-.2 1.41-.59l7.78-7.78 2.81-2.81c.8-.78.8-2.07 0-2.86zM5.41 20L4 18.59l7.72-7.72 1.47 1.35L5.41 20z\"/>\n",
       "  </svg>\n",
       "      </button>\n",
       "      \n",
       "  <style>\n",
       "    .colab-df-container {\n",
       "      display:flex;\n",
       "      flex-wrap:wrap;\n",
       "      gap: 12px;\n",
       "    }\n",
       "\n",
       "    .colab-df-convert {\n",
       "      background-color: #E8F0FE;\n",
       "      border: none;\n",
       "      border-radius: 50%;\n",
       "      cursor: pointer;\n",
       "      display: none;\n",
       "      fill: #1967D2;\n",
       "      height: 32px;\n",
       "      padding: 0 0 0 0;\n",
       "      width: 32px;\n",
       "    }\n",
       "\n",
       "    .colab-df-convert:hover {\n",
       "      background-color: #E2EBFA;\n",
       "      box-shadow: 0px 1px 2px rgba(60, 64, 67, 0.3), 0px 1px 3px 1px rgba(60, 64, 67, 0.15);\n",
       "      fill: #174EA6;\n",
       "    }\n",
       "\n",
       "    [theme=dark] .colab-df-convert {\n",
       "      background-color: #3B4455;\n",
       "      fill: #D2E3FC;\n",
       "    }\n",
       "\n",
       "    [theme=dark] .colab-df-convert:hover {\n",
       "      background-color: #434B5C;\n",
       "      box-shadow: 0px 1px 3px 1px rgba(0, 0, 0, 0.15);\n",
       "      filter: drop-shadow(0px 1px 2px rgba(0, 0, 0, 0.3));\n",
       "      fill: #FFFFFF;\n",
       "    }\n",
       "  </style>\n",
       "\n",
       "      <script>\n",
       "        const buttonEl =\n",
       "          document.querySelector('#df-e6f3b260-e90e-43db-bd4b-b19e18c83cf8 button.colab-df-convert');\n",
       "        buttonEl.style.display =\n",
       "          google.colab.kernel.accessAllowed ? 'block' : 'none';\n",
       "\n",
       "        async function convertToInteractive(key) {\n",
       "          const element = document.querySelector('#df-e6f3b260-e90e-43db-bd4b-b19e18c83cf8');\n",
       "          const dataTable =\n",
       "            await google.colab.kernel.invokeFunction('convertToInteractive',\n",
       "                                                     [key], {});\n",
       "          if (!dataTable) return;\n",
       "\n",
       "          const docLinkHtml = 'Like what you see? Visit the ' +\n",
       "            '<a target=\"_blank\" href=https://colab.research.google.com/notebooks/data_table.ipynb>data table notebook</a>'\n",
       "            + ' to learn more about interactive tables.';\n",
       "          element.innerHTML = '';\n",
       "          dataTable['output_type'] = 'display_data';\n",
       "          await google.colab.output.renderOutput(dataTable, element);\n",
       "          const docLink = document.createElement('div');\n",
       "          docLink.innerHTML = docLinkHtml;\n",
       "          element.appendChild(docLink);\n",
       "        }\n",
       "      </script>\n",
       "    </div>\n",
       "  </div>\n",
       "  "
      ],
      "text/plain": [
       "               passenger_count\n",
       "pickup_months                 \n",
       "January                1125261\n",
       "February               1112937\n",
       "March                  2534215\n",
       "April                  1314805\n",
       "May                    1386561\n",
       "June                   1319670\n",
       "July                   1161265\n",
       "August                 1094778\n",
       "September              1187063\n",
       "October                1332708\n",
       "November               1201421\n",
       "December               1258810"
      ]
     },
     "execution_count": 17,
     "metadata": {},
     "output_type": "execute_result"
    }
   ],
   "source": [
    "arr_months = ['January','February' ,'March','April' ,'May','June' ,'July' ,'August',\n",
    "         'September', 'October' , 'November', 'December']\n",
    "passenger_count_month = df.groupby('pickup_months')[['passenger_count']].sum().reindex(arr_months)\n",
    "\n",
    "passenger_count_month"
   ]
  },
  {
   "cell_type": "markdown",
   "metadata": {
    "id": "kn6f6-lzclPK"
   },
   "source": [
    "* Similarly for Dropoff "
   ]
  },
  {
   "cell_type": "code",
   "execution_count": null,
   "metadata": {
    "colab": {
     "base_uri": "https://localhost:8080/",
     "height": 457
    },
    "executionInfo": {
     "elapsed": 1105,
     "status": "ok",
     "timestamp": 1654190960441,
     "user": {
      "displayName": "Nabhdeep Choudhary",
      "userId": "10453203815156583225"
     },
     "user_tz": -330
    },
    "id": "a2URNbyKdjxS",
    "outputId": "d22a3531-4048-4e41-ce8e-2b522a79a257"
   },
   "outputs": [
    {
     "data": {
      "text/html": [
       "\n",
       "  <div id=\"df-ce3729e0-33f6-41a0-8f80-7146dabe0e79\">\n",
       "    <div class=\"colab-df-container\">\n",
       "      <div>\n",
       "<style scoped>\n",
       "    .dataframe tbody tr th:only-of-type {\n",
       "        vertical-align: middle;\n",
       "    }\n",
       "\n",
       "    .dataframe tbody tr th {\n",
       "        vertical-align: top;\n",
       "    }\n",
       "\n",
       "    .dataframe thead th {\n",
       "        text-align: right;\n",
       "    }\n",
       "</style>\n",
       "<table border=\"1\" class=\"dataframe\">\n",
       "  <thead>\n",
       "    <tr style=\"text-align: right;\">\n",
       "      <th></th>\n",
       "      <th>passenger_count</th>\n",
       "    </tr>\n",
       "    <tr>\n",
       "      <th>dropoff_months</th>\n",
       "      <th></th>\n",
       "    </tr>\n",
       "  </thead>\n",
       "  <tbody>\n",
       "    <tr>\n",
       "      <th>January</th>\n",
       "      <td>1124910</td>\n",
       "    </tr>\n",
       "    <tr>\n",
       "      <th>February</th>\n",
       "      <td>1112799</td>\n",
       "    </tr>\n",
       "    <tr>\n",
       "      <th>March</th>\n",
       "      <td>2533503</td>\n",
       "    </tr>\n",
       "    <tr>\n",
       "      <th>April</th>\n",
       "      <td>1315783</td>\n",
       "    </tr>\n",
       "    <tr>\n",
       "      <th>May</th>\n",
       "      <td>1385913</td>\n",
       "    </tr>\n",
       "    <tr>\n",
       "      <th>June</th>\n",
       "      <td>1320131</td>\n",
       "    </tr>\n",
       "    <tr>\n",
       "      <th>July</th>\n",
       "      <td>1161058</td>\n",
       "    </tr>\n",
       "    <tr>\n",
       "      <th>August</th>\n",
       "      <td>1094981</td>\n",
       "    </tr>\n",
       "    <tr>\n",
       "      <th>September</th>\n",
       "      <td>1187313</td>\n",
       "    </tr>\n",
       "    <tr>\n",
       "      <th>October</th>\n",
       "      <td>1331957</td>\n",
       "    </tr>\n",
       "    <tr>\n",
       "      <th>November</th>\n",
       "      <td>1200845</td>\n",
       "    </tr>\n",
       "    <tr>\n",
       "      <th>December</th>\n",
       "      <td>1260301</td>\n",
       "    </tr>\n",
       "  </tbody>\n",
       "</table>\n",
       "</div>\n",
       "      <button class=\"colab-df-convert\" onclick=\"convertToInteractive('df-ce3729e0-33f6-41a0-8f80-7146dabe0e79')\"\n",
       "              title=\"Convert this dataframe to an interactive table.\"\n",
       "              style=\"display:none;\">\n",
       "        \n",
       "  <svg xmlns=\"http://www.w3.org/2000/svg\" height=\"24px\"viewBox=\"0 0 24 24\"\n",
       "       width=\"24px\">\n",
       "    <path d=\"M0 0h24v24H0V0z\" fill=\"none\"/>\n",
       "    <path d=\"M18.56 5.44l.94 2.06.94-2.06 2.06-.94-2.06-.94-.94-2.06-.94 2.06-2.06.94zm-11 1L8.5 8.5l.94-2.06 2.06-.94-2.06-.94L8.5 2.5l-.94 2.06-2.06.94zm10 10l.94 2.06.94-2.06 2.06-.94-2.06-.94-.94-2.06-.94 2.06-2.06.94z\"/><path d=\"M17.41 7.96l-1.37-1.37c-.4-.4-.92-.59-1.43-.59-.52 0-1.04.2-1.43.59L10.3 9.45l-7.72 7.72c-.78.78-.78 2.05 0 2.83L4 21.41c.39.39.9.59 1.41.59.51 0 1.02-.2 1.41-.59l7.78-7.78 2.81-2.81c.8-.78.8-2.07 0-2.86zM5.41 20L4 18.59l7.72-7.72 1.47 1.35L5.41 20z\"/>\n",
       "  </svg>\n",
       "      </button>\n",
       "      \n",
       "  <style>\n",
       "    .colab-df-container {\n",
       "      display:flex;\n",
       "      flex-wrap:wrap;\n",
       "      gap: 12px;\n",
       "    }\n",
       "\n",
       "    .colab-df-convert {\n",
       "      background-color: #E8F0FE;\n",
       "      border: none;\n",
       "      border-radius: 50%;\n",
       "      cursor: pointer;\n",
       "      display: none;\n",
       "      fill: #1967D2;\n",
       "      height: 32px;\n",
       "      padding: 0 0 0 0;\n",
       "      width: 32px;\n",
       "    }\n",
       "\n",
       "    .colab-df-convert:hover {\n",
       "      background-color: #E2EBFA;\n",
       "      box-shadow: 0px 1px 2px rgba(60, 64, 67, 0.3), 0px 1px 3px 1px rgba(60, 64, 67, 0.15);\n",
       "      fill: #174EA6;\n",
       "    }\n",
       "\n",
       "    [theme=dark] .colab-df-convert {\n",
       "      background-color: #3B4455;\n",
       "      fill: #D2E3FC;\n",
       "    }\n",
       "\n",
       "    [theme=dark] .colab-df-convert:hover {\n",
       "      background-color: #434B5C;\n",
       "      box-shadow: 0px 1px 3px 1px rgba(0, 0, 0, 0.15);\n",
       "      filter: drop-shadow(0px 1px 2px rgba(0, 0, 0, 0.3));\n",
       "      fill: #FFFFFF;\n",
       "    }\n",
       "  </style>\n",
       "\n",
       "      <script>\n",
       "        const buttonEl =\n",
       "          document.querySelector('#df-ce3729e0-33f6-41a0-8f80-7146dabe0e79 button.colab-df-convert');\n",
       "        buttonEl.style.display =\n",
       "          google.colab.kernel.accessAllowed ? 'block' : 'none';\n",
       "\n",
       "        async function convertToInteractive(key) {\n",
       "          const element = document.querySelector('#df-ce3729e0-33f6-41a0-8f80-7146dabe0e79');\n",
       "          const dataTable =\n",
       "            await google.colab.kernel.invokeFunction('convertToInteractive',\n",
       "                                                     [key], {});\n",
       "          if (!dataTable) return;\n",
       "\n",
       "          const docLinkHtml = 'Like what you see? Visit the ' +\n",
       "            '<a target=\"_blank\" href=https://colab.research.google.com/notebooks/data_table.ipynb>data table notebook</a>'\n",
       "            + ' to learn more about interactive tables.';\n",
       "          element.innerHTML = '';\n",
       "          dataTable['output_type'] = 'display_data';\n",
       "          await google.colab.output.renderOutput(dataTable, element);\n",
       "          const docLink = document.createElement('div');\n",
       "          docLink.innerHTML = docLinkHtml;\n",
       "          element.appendChild(docLink);\n",
       "        }\n",
       "      </script>\n",
       "    </div>\n",
       "  </div>\n",
       "  "
      ],
      "text/plain": [
       "                passenger_count\n",
       "dropoff_months                 \n",
       "January                 1124910\n",
       "February                1112799\n",
       "March                   2533503\n",
       "April                   1315783\n",
       "May                     1385913\n",
       "June                    1320131\n",
       "July                    1161058\n",
       "August                  1094981\n",
       "September               1187313\n",
       "October                 1331957\n",
       "November                1200845\n",
       "December                1260301"
      ]
     },
     "execution_count": 18,
     "metadata": {},
     "output_type": "execute_result"
    }
   ],
   "source": [
    "passenger_dropoff_count_month = df.groupby('dropoff_months')[['passenger_count']].sum().reindex(arr_months)\n",
    "\n",
    "passenger_dropoff_count_month"
   ]
  },
  {
   "cell_type": "code",
   "execution_count": null,
   "metadata": {
    "id": "UiiNf6iQcqB5"
   },
   "outputs": [],
   "source": []
  },
  {
   "cell_type": "code",
   "execution_count": null,
   "metadata": {
    "colab": {
     "base_uri": "https://localhost:8080/",
     "height": 464
    },
    "executionInfo": {
     "elapsed": 1729,
     "status": "ok",
     "timestamp": 1654191045301,
     "user": {
      "displayName": "Nabhdeep Choudhary",
      "userId": "10453203815156583225"
     },
     "user_tz": -330
    },
    "id": "UI2-hu4qZ2mG",
    "outputId": "a8d56629-73f0-43ea-ec2e-46c80b91c0a1"
   },
   "outputs": [
    {
     "data": {
      "text/plain": [
       "<matplotlib.axes._subplots.AxesSubplot at 0x7f32153eda50>"
      ]
     },
     "execution_count": 22,
     "metadata": {},
     "output_type": "execute_result"
    },
    {
     "data": {
      "image/png": "[encoded data removed]",
      "text/plain": [
       "<Figure size 864x432 with 1 Axes>"
      ]
     },
     "metadata": {},
     "output_type": "display_data"
    }
   ],
   "source": [
    "sns.set_style('ticks')\n",
    "line = sns.lineplot(  data = passenger_count_month , markers= True )\n",
    "line.ticklabel_format( axis = 'y' , style = 'plain'  )\n",
    "line.set_xticklabels(passenger_count_month.index, rotation = 40 , ha = 'right')\n",
    "line\n"
   ]
  },
  {
   "cell_type": "code",
   "execution_count": null,
   "metadata": {
    "colab": {
     "base_uri": "https://localhost:8080/",
     "height": 464
    },
    "executionInfo": {
     "elapsed": 1746,
     "status": "ok",
     "timestamp": 1654191092484,
     "user": {
      "displayName": "Nabhdeep Choudhary",
      "userId": "10453203815156583225"
     },
     "user_tz": -330
    },
    "id": "nHqGwKQCeHvk",
    "outputId": "34edd1c2-80b7-48b0-c33b-6aef0569d554"
   },
   "outputs": [
    {
     "data": {
      "text/plain": [
       "<matplotlib.axes._subplots.AxesSubplot at 0x7f32153c5c50>"
      ]
     },
     "execution_count": 23,
     "metadata": {},
     "output_type": "execute_result"
    },
    {
     "data": {
      "image/png": "[encoded data removed]",
      "text/plain": [
       "<Figure size 864x432 with 1 Axes>"
      ]
     },
     "metadata": {},
     "output_type": "display_data"
    }
   ],
   "source": [
    "sns.set_style('ticks')\n",
    "line = sns.lineplot(  data = passenger_dropoff_count_month , markers= True )\n",
    "line.ticklabel_format( axis = 'y' , style = 'plain'  )\n",
    "line.set_xticklabels(passenger_dropoff_count_month.index, rotation = 40 , ha = 'right')\n",
    "line"
   ]
  },
  {
   "cell_type": "markdown",
   "metadata": {
    "id": "-DJf0mbsjWyl"
   },
   "source": [
    "* From this we can see that there was a rise in travel in **March** \n",
    "This is due to more tourist like to travel to NYC in march \n"
   ]
  },
  {
   "cell_type": "markdown",
   "metadata": {
    "id": "9BLP4XM_lzSt"
   },
   "source": [
    "### Trip distance"
   ]
  },
  {
   "cell_type": "code",
   "execution_count": null,
   "metadata": {
    "colab": {
     "base_uri": "https://localhost:8080/"
    },
    "executionInfo": {
     "elapsed": 390,
     "status": "ok",
     "timestamp": 1654189825212,
     "user": {
      "displayName": "Nabhdeep Choudhary",
      "userId": "10453203815156583225"
     },
     "user_tz": -330
    },
    "id": "8BwPDzYmlzSu",
    "outputId": "d85a95f2-a885-4312-f6c9-935381b9d9ad"
   },
   "outputs": [
    {
     "data": {
      "text/plain": [
       "0.00     278836\n",
       "0.20      55942\n",
       "8.90      49255\n",
       "9.20      48740\n",
       "9.10      48675\n",
       "          ...  \n",
       "81.03         1\n",
       "44.53         1\n",
       "45.41         1\n",
       "43.12         1\n",
       "50.83         1\n",
       "Name: trip_distance, Length: 6502, dtype: int64"
      ]
     },
     "execution_count": 70,
     "metadata": {},
     "output_type": "execute_result"
    }
   ],
   "source": [
    "df.trip_distance.value_counts()"
   ]
  },
  {
   "cell_type": "markdown",
   "metadata": {
    "id": "91NltEpvVGNO"
   },
   "source": [
    "As we can see that there 278836 are 0 distance travelled trips \n",
    "There can be many reasons for this\n",
    "* If the trip was canceld \n",
    "* The dropoff location couldn’t be tracked"
   ]
  },
  {
   "cell_type": "markdown",
   "metadata": {
    "id": "IhQnhR7ln466"
   },
   "source": [
    "### Payment Type"
   ]
  },
  {
   "cell_type": "code",
   "execution_count": null,
   "metadata": {
    "colab": {
     "base_uri": "https://localhost:8080/"
    },
    "executionInfo": {
     "elapsed": 4,
     "status": "ok",
     "timestamp": 1654194636231,
     "user": {
      "displayName": "Nabhdeep Choudhary",
      "userId": "10453203815156583225"
     },
     "user_tz": -330
    },
    "id": "Je4XqoCersRT",
    "outputId": "edeae33c-cee0-4a4a-e7d7-d36387583cda"
   },
   "outputs": [
    {
     "data": {
      "text/plain": [
       "1    8255092\n",
       "2    1623133\n",
       "3      95464\n",
       "4      26310\n",
       "5          1\n",
       "Name: payment_type, dtype: int64"
      ]
     },
     "execution_count": 80,
     "metadata": {},
     "output_type": "execute_result"
    }
   ],
   "source": [
    "df.payment_type.value_counts()"
   ]
  },
  {
   "cell_type": "code",
   "execution_count": null,
   "metadata": {
    "colab": {
     "base_uri": "https://localhost:8080/",
     "height": 238
    },
    "executionInfo": {
     "elapsed": 381,
     "status": "ok",
     "timestamp": 1654194646552,
     "user": {
      "displayName": "Nabhdeep Choudhary",
      "userId": "10453203815156583225"
     },
     "user_tz": -330
    },
    "id": "bpVfANrin4IL",
    "outputId": "d4e994ab-d5d2-4b41-8f17-3a3f290bf934"
   },
   "outputs": [
    {
     "data": {
      "text/html": [
       "\n",
       "  <div id=\"df-89679225-d645-4ec8-b0a2-0e5fd504ce41\">\n",
       "    <div class=\"colab-df-container\">\n",
       "      <div>\n",
       "<style scoped>\n",
       "    .dataframe tbody tr th:only-of-type {\n",
       "        vertical-align: middle;\n",
       "    }\n",
       "\n",
       "    .dataframe tbody tr th {\n",
       "        vertical-align: top;\n",
       "    }\n",
       "\n",
       "    .dataframe thead th {\n",
       "        text-align: right;\n",
       "    }\n",
       "</style>\n",
       "<table border=\"1\" class=\"dataframe\">\n",
       "  <thead>\n",
       "    <tr style=\"text-align: right;\">\n",
       "      <th></th>\n",
       "      <th>passenger_count</th>\n",
       "    </tr>\n",
       "    <tr>\n",
       "      <th>payment_type</th>\n",
       "      <th></th>\n",
       "    </tr>\n",
       "  </thead>\n",
       "  <tbody>\n",
       "    <tr>\n",
       "      <th>1</th>\n",
       "      <td>8255092</td>\n",
       "    </tr>\n",
       "    <tr>\n",
       "      <th>2</th>\n",
       "      <td>1623133</td>\n",
       "    </tr>\n",
       "    <tr>\n",
       "      <th>3</th>\n",
       "      <td>95464</td>\n",
       "    </tr>\n",
       "    <tr>\n",
       "      <th>4</th>\n",
       "      <td>26310</td>\n",
       "    </tr>\n",
       "    <tr>\n",
       "      <th>5</th>\n",
       "      <td>1</td>\n",
       "    </tr>\n",
       "  </tbody>\n",
       "</table>\n",
       "</div>\n",
       "      <button class=\"colab-df-convert\" onclick=\"convertToInteractive('df-89679225-d645-4ec8-b0a2-0e5fd504ce41')\"\n",
       "              title=\"Convert this dataframe to an interactive table.\"\n",
       "              style=\"display:none;\">\n",
       "        \n",
       "  <svg xmlns=\"http://www.w3.org/2000/svg\" height=\"24px\"viewBox=\"0 0 24 24\"\n",
       "       width=\"24px\">\n",
       "    <path d=\"M0 0h24v24H0V0z\" fill=\"none\"/>\n",
       "    <path d=\"M18.56 5.44l.94 2.06.94-2.06 2.06-.94-2.06-.94-.94-2.06-.94 2.06-2.06.94zm-11 1L8.5 8.5l.94-2.06 2.06-.94-2.06-.94L8.5 2.5l-.94 2.06-2.06.94zm10 10l.94 2.06.94-2.06 2.06-.94-2.06-.94-.94-2.06-.94 2.06-2.06.94z\"/><path d=\"M17.41 7.96l-1.37-1.37c-.4-.4-.92-.59-1.43-.59-.52 0-1.04.2-1.43.59L10.3 9.45l-7.72 7.72c-.78.78-.78 2.05 0 2.83L4 21.41c.39.39.9.59 1.41.59.51 0 1.02-.2 1.41-.59l7.78-7.78 2.81-2.81c.8-.78.8-2.07 0-2.86zM5.41 20L4 18.59l7.72-7.72 1.47 1.35L5.41 20z\"/>\n",
       "  </svg>\n",
       "      </button>\n",
       "      \n",
       "  <style>\n",
       "    .colab-df-container {\n",
       "      display:flex;\n",
       "      flex-wrap:wrap;\n",
       "      gap: 12px;\n",
       "    }\n",
       "\n",
       "    .colab-df-convert {\n",
       "      background-color: #E8F0FE;\n",
       "      border: none;\n",
       "      border-radius: 50%;\n",
       "      cursor: pointer;\n",
       "      display: none;\n",
       "      fill: #1967D2;\n",
       "      height: 32px;\n",
       "      padding: 0 0 0 0;\n",
       "      width: 32px;\n",
       "    }\n",
       "\n",
       "    .colab-df-convert:hover {\n",
       "      background-color: #E2EBFA;\n",
       "      box-shadow: 0px 1px 2px rgba(60, 64, 67, 0.3), 0px 1px 3px 1px rgba(60, 64, 67, 0.15);\n",
       "      fill: #174EA6;\n",
       "    }\n",
       "\n",
       "    [theme=dark] .colab-df-convert {\n",
       "      background-color: #3B4455;\n",
       "      fill: #D2E3FC;\n",
       "    }\n",
       "\n",
       "    [theme=dark] .colab-df-convert:hover {\n",
       "      background-color: #434B5C;\n",
       "      box-shadow: 0px 1px 3px 1px rgba(0, 0, 0, 0.15);\n",
       "      filter: drop-shadow(0px 1px 2px rgba(0, 0, 0, 0.3));\n",
       "      fill: #FFFFFF;\n",
       "    }\n",
       "  </style>\n",
       "\n",
       "      <script>\n",
       "        const buttonEl =\n",
       "          document.querySelector('#df-89679225-d645-4ec8-b0a2-0e5fd504ce41 button.colab-df-convert');\n",
       "        buttonEl.style.display =\n",
       "          google.colab.kernel.accessAllowed ? 'block' : 'none';\n",
       "\n",
       "        async function convertToInteractive(key) {\n",
       "          const element = document.querySelector('#df-89679225-d645-4ec8-b0a2-0e5fd504ce41');\n",
       "          const dataTable =\n",
       "            await google.colab.kernel.invokeFunction('convertToInteractive',\n",
       "                                                     [key], {});\n",
       "          if (!dataTable) return;\n",
       "\n",
       "          const docLinkHtml = 'Like what you see? Visit the ' +\n",
       "            '<a target=\"_blank\" href=https://colab.research.google.com/notebooks/data_table.ipynb>data table notebook</a>'\n",
       "            + ' to learn more about interactive tables.';\n",
       "          element.innerHTML = '';\n",
       "          dataTable['output_type'] = 'display_data';\n",
       "          await google.colab.output.renderOutput(dataTable, element);\n",
       "          const docLink = document.createElement('div');\n",
       "          docLink.innerHTML = docLinkHtml;\n",
       "          element.appendChild(docLink);\n",
       "        }\n",
       "      </script>\n",
       "    </div>\n",
       "  </div>\n",
       "  "
      ],
      "text/plain": [
       "              passenger_count\n",
       "payment_type                 \n",
       "1                     8255092\n",
       "2                     1623133\n",
       "3                       95464\n",
       "4                       26310\n",
       "5                           1"
      ]
     },
     "execution_count": 81,
     "metadata": {},
     "output_type": "execute_result"
    }
   ],
   "source": [
    "payment_count= df.groupby('payment_type')[['passenger_count']].count()\n",
    "payment_count"
   ]
  },
  {
   "cell_type": "markdown",
   "metadata": {
    "id": "W6SV_7owoJw1"
   },
   "source": [
    "Most of the payment was done form Credit Card and then followed by Cash and No Charge.\n",
    "\n",
    "No Charge payment type can be due to number of things\n",
    "* Passenger would have used any coupon \n",
    "* There would have been an kind of discount\n",
    "\n"
   ]
  },
  {
   "cell_type": "code",
   "execution_count": null,
   "metadata": {
    "colab": {
     "base_uri": "https://localhost:8080/",
     "height": 451
    },
    "executionInfo": {
     "elapsed": 1365,
     "status": "ok",
     "timestamp": 1654194896601,
     "user": {
      "displayName": "Nabhdeep Choudhary",
      "userId": "10453203815156583225"
     },
     "user_tz": -330
    },
    "id": "4UcAjXP8pu2w",
    "outputId": "9cee04a0-ff28-42d4-9afc-4a468a72e3bc"
   },
   "outputs": [
    {
     "name": "stderr",
     "output_type": "stream",
     "text": [
      "/usr/local/lib/python3.7/dist-packages/seaborn/_decorators.py:43: FutureWarning: Pass the following variable as a keyword arg: x. From version 0.12, the only valid positional argument will be `data`, and passing other arguments without an explicit keyword will result in an error or misinterpretation.\n",
      "  FutureWarning\n"
     ]
    },
    {
     "data": {
      "image/png": "[encoded data removed]",
      "text/plain": [
       "<Figure size 864x432 with 1 Axes>"
      ]
     },
     "metadata": {},
     "output_type": "display_data"
    }
   ],
   "source": [
    "payment_plot = sns.countplot(df.payment_type)\n",
    "payment_plot.ticklabel_format(axis = 'y' ,style = 'plain')\n"
   ]
  },
  {
   "cell_type": "markdown",
   "metadata": {
    "id": "9W8I6c4LukKN"
   },
   "source": [
    "### store and fwd_flag"
   ]
  },
  {
   "cell_type": "markdown",
   "metadata": {
    "id": "CGUT5BL3xpPB"
   },
   "source": [
    "This flag indicates whether the trip record was held in vehicle memory before sending to the vendor, aka “store and forward,” because the vehicle did not have a connection to the server. Y= store and forward trip N= not a store and forward trip"
   ]
  },
  {
   "cell_type": "code",
   "execution_count": null,
   "metadata": {
    "colab": {
     "base_uri": "https://localhost:8080/",
     "height": 451
    },
    "executionInfo": {
     "elapsed": 10218,
     "status": "ok",
     "timestamp": 1654260096641,
     "user": {
      "displayName": "Nabhdeep Choudhary",
      "userId": "10453203815156583225"
     },
     "user_tz": -330
    },
    "id": "5EWl02Yyxov7",
    "outputId": "542850d0-8b60-4b84-f64d-8d47ee74c46c"
   },
   "outputs": [
    {
     "name": "stderr",
     "output_type": "stream",
     "text": [
      "/usr/local/lib/python3.7/dist-packages/seaborn/_decorators.py:43: FutureWarning: Pass the following variable as a keyword arg: x. From version 0.12, the only valid positional argument will be `data`, and passing other arguments without an explicit keyword will result in an error or misinterpretation.\n",
      "  FutureWarning\n"
     ]
    },
    {
     "data": {
      "image/png": "[encoded data removed]",
      "text/plain": [
       "<Figure size 864x432 with 1 Axes>"
      ]
     },
     "metadata": {
      "needs_background": "light"
     },
     "output_type": "display_data"
    }
   ],
   "source": [
    "store_and_fwd_plot = sns.countplot(df.store_and_fwd_flag)\n",
    "store_and_fwd_plot.ticklabel_format(axis = 'y' , style = 'plain')\n"
   ]
  },
  {
   "cell_type": "code",
   "execution_count": null,
   "metadata": {
    "colab": {
     "base_uri": "https://localhost:8080/"
    },
    "executionInfo": {
     "elapsed": 706,
     "status": "ok",
     "timestamp": 1654259925719,
     "user": {
      "displayName": "Nabhdeep Choudhary",
      "userId": "10453203815156583225"
     },
     "user_tz": -330
    },
    "id": "xb4bIeo_kvBz",
    "outputId": "123fd82f-ab41-4fc4-aaa5-bc1eccdf19de"
   },
   "outputs": [
    {
     "data": {
      "text/plain": [
       "N    9946277\n",
       "Y      53723\n",
       "Name: store_and_fwd_flag, dtype: int64"
      ]
     },
     "execution_count": 18,
     "metadata": {},
     "output_type": "execute_result"
    }
   ],
   "source": [
    "df.store_and_fwd_flag.value_counts()"
   ]
  },
  {
   "cell_type": "markdown",
   "metadata": {
    "id": "u1HFh_ugknq1"
   },
   "source": [
    "Only .5% of total trips are Store and Forward Trips"
   ]
  },
  {
   "cell_type": "markdown",
   "metadata": {
    "id": "qqHRwU7ylq-2"
   },
   "source": [
    "### Extra"
   ]
  },
  {
   "cell_type": "markdown",
   "metadata": {
    "id": "1p6Dn7ymmdHD"
   },
   "source": [
    "Miscellaneous extras and surcharges. Currently, this only includes the \\$0.50 and \\$1 rush hour and overnight charges."
   ]
  },
  {
   "cell_type": "code",
   "execution_count": null,
   "metadata": {
    "colab": {
     "base_uri": "https://localhost:8080/"
    },
    "executionInfo": {
     "elapsed": 1061,
     "status": "ok",
     "timestamp": 1654261634471,
     "user": {
      "displayName": "Nabhdeep Choudhary",
      "userId": "10453203815156583225"
     },
     "user_tz": -330
    },
    "id": "Jjz1_ppplqo7",
    "outputId": "9ab568fb-cdf3-4600-b641-d955156ccd8d"
   },
   "outputs": [
    {
     "data": {
      "text/plain": [
       "0.50     3078251\n",
       "1.00     1458870\n",
       "4.50       85565\n",
       "17.50        462\n",
       "0.80         188\n",
       "0.30         129\n",
       "1.30          85\n",
       "18.50         72\n",
       "18.00         65\n",
       "1.80          42\n",
       "0.11          41\n",
       "0.22          31\n",
       "1.50          21\n",
       "0.70           6\n",
       "2.74           5\n",
       "4.54           5\n",
       "0.20           5\n",
       "4.00           4\n",
       "2.00           3\n",
       "0.60           3\n",
       "0.02           3\n",
       "4.80           3\n",
       "0.25           2\n",
       "3.00           2\n",
       "1.23           2\n",
       "0.55           2\n",
       "3.50           2\n",
       "0.45           2\n",
       "20.20          2\n",
       "1.10           2\n",
       "0.95           1\n",
       "5.30           1\n",
       "61.61          1\n",
       "15.55          1\n",
       "84.00          1\n",
       "0.21           1\n",
       "19.00          1\n",
       "25.00          1\n",
       "1.20           1\n",
       "12.05          1\n",
       "0.23           1\n",
       "5.76           1\n",
       "9.46           1\n",
       "3.30           1\n",
       "10.60          1\n",
       "0.90           1\n",
       "1.70           1\n",
       "1.01           1\n",
       "Name: extra, dtype: int64"
      ]
     },
     "execution_count": 38,
     "metadata": {},
     "output_type": "execute_result"
    }
   ],
   "source": [
    "df.extra[df.extra  > 0 ] .value_counts()"
   ]
  },
  {
   "cell_type": "markdown",
   "metadata": {
    "id": "nWIObMS4rX72"
   },
   "source": [
    "Now we can plot the barplot for  \n",
    "* 50 cents Standard State Surcharge Plus \n",
    "\n",
    "* $1.00 rush hour surcharge from 4pm to 8pm on weekdays \n",
    "\n",
    "* $4.50 for rush Hour surcharge for traips between manhattan and Jhon F Kennedy Airport.\n",
    "\n",
    "* $17.50 Newark Surcharge for trips to Newark Airport\n",
    "\n",
    "\n",
    "These are the standard charges, the rest are the same charges including some other charges like 30 cents for imporvement surcharge \n",
    "\n",
    "https://www1.nyc.gov/site/tlc/passengers/taxi-fare.page"
   ]
  },
  {
   "cell_type": "code",
   "execution_count": null,
   "metadata": {
    "colab": {
     "base_uri": "https://localhost:8080/",
     "height": 175
    },
    "executionInfo": {
     "elapsed": 433,
     "status": "ok",
     "timestamp": 1654263991497,
     "user": {
      "displayName": "Nabhdeep Choudhary",
      "userId": "10453203815156583225"
     },
     "user_tz": -330
    },
    "id": "K-hMQ_xhzdO9",
    "outputId": "ff998c50-438f-46b5-b221-6a51668265a3"
   },
   "outputs": [
    {
     "data": {
      "text/html": [
       "\n",
       "  <div id=\"df-a5a59f44-fd29-4328-a44a-94e877e4a60a\">\n",
       "    <div class=\"colab-df-container\">\n",
       "      <div>\n",
       "<style scoped>\n",
       "    .dataframe tbody tr th:only-of-type {\n",
       "        vertical-align: middle;\n",
       "    }\n",
       "\n",
       "    .dataframe tbody tr th {\n",
       "        vertical-align: top;\n",
       "    }\n",
       "\n",
       "    .dataframe thead th {\n",
       "        text-align: right;\n",
       "    }\n",
       "</style>\n",
       "<table border=\"1\" class=\"dataframe\">\n",
       "  <thead>\n",
       "    <tr style=\"text-align: right;\">\n",
       "      <th></th>\n",
       "      <th>extra</th>\n",
       "    </tr>\n",
       "  </thead>\n",
       "  <tbody>\n",
       "    <tr>\n",
       "      <th>0.5</th>\n",
       "      <td>3078251</td>\n",
       "    </tr>\n",
       "    <tr>\n",
       "      <th>1.0</th>\n",
       "      <td>1458870</td>\n",
       "    </tr>\n",
       "    <tr>\n",
       "      <th>4.5</th>\n",
       "      <td>85565</td>\n",
       "    </tr>\n",
       "    <tr>\n",
       "      <th>17.5</th>\n",
       "      <td>462</td>\n",
       "    </tr>\n",
       "  </tbody>\n",
       "</table>\n",
       "</div>\n",
       "      <button class=\"colab-df-convert\" onclick=\"convertToInteractive('df-a5a59f44-fd29-4328-a44a-94e877e4a60a')\"\n",
       "              title=\"Convert this dataframe to an interactive table.\"\n",
       "              style=\"display:none;\">\n",
       "        \n",
       "  <svg xmlns=\"http://www.w3.org/2000/svg\" height=\"24px\"viewBox=\"0 0 24 24\"\n",
       "       width=\"24px\">\n",
       "    <path d=\"M0 0h24v24H0V0z\" fill=\"none\"/>\n",
       "    <path d=\"M18.56 5.44l.94 2.06.94-2.06 2.06-.94-2.06-.94-.94-2.06-.94 2.06-2.06.94zm-11 1L8.5 8.5l.94-2.06 2.06-.94-2.06-.94L8.5 2.5l-.94 2.06-2.06.94zm10 10l.94 2.06.94-2.06 2.06-.94-2.06-.94-.94-2.06-.94 2.06-2.06.94z\"/><path d=\"M17.41 7.96l-1.37-1.37c-.4-.4-.92-.59-1.43-.59-.52 0-1.04.2-1.43.59L10.3 9.45l-7.72 7.72c-.78.78-.78 2.05 0 2.83L4 21.41c.39.39.9.59 1.41.59.51 0 1.02-.2 1.41-.59l7.78-7.78 2.81-2.81c.8-.78.8-2.07 0-2.86zM5.41 20L4 18.59l7.72-7.72 1.47 1.35L5.41 20z\"/>\n",
       "  </svg>\n",
       "      </button>\n",
       "      \n",
       "  <style>\n",
       "    .colab-df-container {\n",
       "      display:flex;\n",
       "      flex-wrap:wrap;\n",
       "      gap: 12px;\n",
       "    }\n",
       "\n",
       "    .colab-df-convert {\n",
       "      background-color: #E8F0FE;\n",
       "      border: none;\n",
       "      border-radius: 50%;\n",
       "      cursor: pointer;\n",
       "      display: none;\n",
       "      fill: #1967D2;\n",
       "      height: 32px;\n",
       "      padding: 0 0 0 0;\n",
       "      width: 32px;\n",
       "    }\n",
       "\n",
       "    .colab-df-convert:hover {\n",
       "      background-color: #E2EBFA;\n",
       "      box-shadow: 0px 1px 2px rgba(60, 64, 67, 0.3), 0px 1px 3px 1px rgba(60, 64, 67, 0.15);\n",
       "      fill: #174EA6;\n",
       "    }\n",
       "\n",
       "    [theme=dark] .colab-df-convert {\n",
       "      background-color: #3B4455;\n",
       "      fill: #D2E3FC;\n",
       "    }\n",
       "\n",
       "    [theme=dark] .colab-df-convert:hover {\n",
       "      background-color: #434B5C;\n",
       "      box-shadow: 0px 1px 3px 1px rgba(0, 0, 0, 0.15);\n",
       "      filter: drop-shadow(0px 1px 2px rgba(0, 0, 0, 0.3));\n",
       "      fill: #FFFFFF;\n",
       "    }\n",
       "  </style>\n",
       "\n",
       "      <script>\n",
       "        const buttonEl =\n",
       "          document.querySelector('#df-a5a59f44-fd29-4328-a44a-94e877e4a60a button.colab-df-convert');\n",
       "        buttonEl.style.display =\n",
       "          google.colab.kernel.accessAllowed ? 'block' : 'none';\n",
       "\n",
       "        async function convertToInteractive(key) {\n",
       "          const element = document.querySelector('#df-a5a59f44-fd29-4328-a44a-94e877e4a60a');\n",
       "          const dataTable =\n",
       "            await google.colab.kernel.invokeFunction('convertToInteractive',\n",
       "                                                     [key], {});\n",
       "          if (!dataTable) return;\n",
       "\n",
       "          const docLinkHtml = 'Like what you see? Visit the ' +\n",
       "            '<a target=\"_blank\" href=https://colab.research.google.com/notebooks/data_table.ipynb>data table notebook</a>'\n",
       "            + ' to learn more about interactive tables.';\n",
       "          element.innerHTML = '';\n",
       "          dataTable['output_type'] = 'display_data';\n",
       "          await google.colab.output.renderOutput(dataTable, element);\n",
       "          const docLink = document.createElement('div');\n",
       "          docLink.innerHTML = docLinkHtml;\n",
       "          element.appendChild(docLink);\n",
       "        }\n",
       "      </script>\n",
       "    </div>\n",
       "  </div>\n",
       "  "
      ],
      "text/plain": [
       "        extra\n",
       "0.5   3078251\n",
       "1.0   1458870\n",
       "4.5     85565\n",
       "17.5      462"
      ]
     },
     "execution_count": 99,
     "metadata": {},
     "output_type": "execute_result"
    }
   ],
   "source": [
    "surcharges = df.extra[df.extra > 0].value_counts().to_frame().head(4)\n",
    "surcharges"
   ]
  },
  {
   "cell_type": "code",
   "execution_count": null,
   "metadata": {
    "colab": {
     "base_uri": "https://localhost:8080/",
     "height": 433
    },
    "executionInfo": {
     "elapsed": 452,
     "status": "ok",
     "timestamp": 1654263720815,
     "user": {
      "displayName": "Nabhdeep Choudhary",
      "userId": "10453203815156583225"
     },
     "user_tz": -330
    },
    "id": "1uj7XlUOlqi5",
    "outputId": "aa98c73f-72ea-41f3-9696-bac0b20a5e4b"
   },
   "outputs": [
    {
     "name": "stderr",
     "output_type": "stream",
     "text": [
      "/usr/local/lib/python3.7/dist-packages/seaborn/_decorators.py:43: FutureWarning: Pass the following variables as keyword args: x, y. From version 0.12, the only valid positional argument will be `data`, and passing other arguments without an explicit keyword will result in an error or misinterpretation.\n",
      "  FutureWarning\n"
     ]
    },
    {
     "data": {
      "image/png": "[encoded data removed]",
      "text/plain": [
       "<Figure size 864x432 with 1 Axes>"
      ]
     },
     "metadata": {
      "needs_background": "light"
     },
     "output_type": "display_data"
    }
   ],
   "source": [
    "barplot_extra = sns.barplot(surcharges.index , surcharges.extra)\n",
    "barplot_extra.ticklabel_format(axis = 'y' , style = 'plain')\n"
   ]
  },
  {
   "cell_type": "markdown",
   "metadata": {
    "id": "pXYjDhcr0e_2"
   },
   "source": [
    "### Rate Code"
   ]
  },
  {
   "cell_type": "code",
   "execution_count": null,
   "metadata": {
    "colab": {
     "base_uri": "https://localhost:8080/"
    },
    "executionInfo": {
     "elapsed": 4,
     "status": "ok",
     "timestamp": 1654195501974,
     "user": {
      "displayName": "Nabhdeep Choudhary",
      "userId": "10453203815156583225"
     },
     "user_tz": -330
    },
    "id": "y6AR5WFtu_In",
    "outputId": "f8ae39d5-b0c6-4fff-9104-0918fa5d9bbb"
   },
   "outputs": [
    {
     "data": {
      "text/plain": [
       "array([ 3,  1,  5,  4,  2, 99,  6])"
      ]
     },
     "execution_count": 92,
     "metadata": {},
     "output_type": "execute_result"
    }
   ],
   "source": [
    "df.rate_code.unique()"
   ]
  },
  {
   "cell_type": "markdown",
   "metadata": {
    "id": "imwltDQG1SSx"
   },
   "source": [
    "Rate Codes are \n",
    "* 1 = Standard rate\n",
    "* 2 = JFK trips\n",
    "* 3 = Newark trips\n",
    "* 4 = Nassau or Westchester trips\n",
    "* 5 = Negotiated fare\n",
    "* 6 = Group ride\n",
    "\n",
    "Rate code 99 could be some error in the data collection \n"
   ]
  },
  {
   "cell_type": "code",
   "execution_count": null,
   "metadata": {
    "colab": {
     "base_uri": "https://localhost:8080/",
     "height": 464
    },
    "executionInfo": {
     "elapsed": 948,
     "status": "ok",
     "timestamp": 1654264650579,
     "user": {
      "displayName": "Nabhdeep Choudhary",
      "userId": "10453203815156583225"
     },
     "user_tz": -330
    },
    "id": "zuuo4ZcQvHQx",
    "outputId": "ed694711-ddd4-4ec0-d91e-ef2891229eb4"
   },
   "outputs": [
    {
     "name": "stderr",
     "output_type": "stream",
     "text": [
      "/usr/local/lib/python3.7/dist-packages/seaborn/_decorators.py:43: FutureWarning: Pass the following variables as keyword args: x, y. From version 0.12, the only valid positional argument will be `data`, and passing other arguments without an explicit keyword will result in an error or misinterpretation.\n",
      "  FutureWarning\n"
     ]
    },
    {
     "data": {
      "text/plain": [
       "<matplotlib.axes._subplots.AxesSubplot at 0x7fa39c2353d0>"
      ]
     },
     "execution_count": 105,
     "metadata": {},
     "output_type": "execute_result"
    },
    {
     "data": {
      "image/png": "[encoded data removed]",
      "text/plain": [
       "<Figure size 864x432 with 1 Axes>"
      ]
     },
     "metadata": {
      "needs_background": "light"
     },
     "output_type": "display_data"
    }
   ],
   "source": [
    "rate_code_plot = df.rate_code[df.rate_code != 99 ].value_counts().to_frame()\n",
    "sns.barplot(rate_code_plot.index , rate_code_plot.rate_code)\n"
   ]
  },
  {
   "cell_type": "code",
   "execution_count": null,
   "metadata": {
    "id": "wdvCHxe_lzSw"
   },
   "outputs": [],
   "source": [
    "import jovian"
   ]
  },
  {
   "cell_type": "code",
   "execution_count": null,
   "metadata": {
    "colab": {
     "base_uri": "https://localhost:8080/",
     "height": 87
    },
    "executionInfo": {
     "elapsed": 2374,
     "status": "ok",
     "timestamp": 1654264703896,
     "user": {
      "displayName": "Nabhdeep Choudhary",
      "userId": "10453203815156583225"
     },
     "user_tz": -330
    },
    "id": "3X6iPHtulzSw",
    "outputId": "9e3df8a7-bc71-42c9-ee55-3cda910f1ae7"
   },
   "outputs": [
    {
     "name": "stdout",
     "output_type": "stream",
     "text": [
      "[jovian] Detected Colab notebook...\u001b[0m\n",
      "[jovian] Uploading colab notebook to Jovian...\u001b[0m\n",
      "Committed successfully! https://jovian.ai/deep3700/course-project-nyc-taxi\n"
     ]
    },
    {
     "data": {
      "application/vnd.google.colaboratory.intrinsic+json": {
       "type": "string"
      },
      "text/plain": [
       "'https://jovian.ai/deep3700/course-project-nyc-taxi'"
      ]
     },
     "execution_count": 107,
     "metadata": {},
     "output_type": "execute_result"
    }
   ],
   "source": [
    "jovian.commit()"
   ]
  },
  {
   "cell_type": "markdown",
   "metadata": {
    "id": "VK9vWkqulzSx"
   },
   "source": [
    "## Asking and Answering Questions\n",
    "\n",
    "\n",
    "\n"
   ]
  },
  {
   "cell_type": "markdown",
   "metadata": {
    "id": "5_eIrp0FlzSx"
   },
   "source": [
    "#### Q1: From which area there are most number of pickups and drops "
   ]
  },
  {
   "cell_type": "markdown",
   "metadata": {
    "id": "VN4seqHfjEVg"
   },
   "source": [
    "As we have mapped each pickup location/drop location to the respective area.\n",
    "Let's continue to plot. "
   ]
  },
  {
   "cell_type": "markdown",
   "metadata": {
    "id": "fpbubBNzPpAI"
   },
   "source": [
    "We can group by the area name and then sum the passenger count for that area"
   ]
  },
  {
   "cell_type": "code",
   "execution_count": null,
   "metadata": {
    "colab": {
     "base_uri": "https://localhost:8080/",
     "height": 585
    },
    "executionInfo": {
     "elapsed": 1947,
     "status": "ok",
     "timestamp": 1654346666704,
     "user": {
      "displayName": "Nabhdeep Choudhary",
      "userId": "10453203815156583225"
     },
     "user_tz": -330
    },
    "id": "9wvpeK025Sjs",
    "outputId": "868bab52-e87c-4f9e-ccd1-fac33e609378"
   },
   "outputs": [
    {
     "name": "stderr",
     "output_type": "stream",
     "text": [
      "/usr/local/lib/python3.7/dist-packages/seaborn/_decorators.py:43: FutureWarning: Pass the following variables as keyword args: x, y. From version 0.12, the only valid positional argument will be `data`, and passing other arguments without an explicit keyword will result in an error or misinterpretation.\n",
      "  FutureWarning\n"
     ]
    },
    {
     "data": {
      "image/png": "[encoded data removed]",
      "text/plain": [
       "<Figure size 864x432 with 1 Axes>"
      ]
     },
     "metadata": {
      "needs_background": "light"
     },
     "output_type": "display_data"
    }
   ],
   "source": [
    "pickup_area = df.groupby('pickup_area_name')[['passenger_count']].sum().sort_values('passenger_count' , ascending=False).head(15)\n",
    "#pickup_area \n",
    "pickup_plot = sns.barplot(pickup_area.index , pickup_area.passenger_count)\n",
    "pickup_plot.ticklabel_format(axis = 'y' , style= 'plain')\n",
    "pickup_plot.set_xticklabels(pickup_area.index, rotation = 40 , ha = 'right');\n"
   ]
  },
  {
   "cell_type": "markdown",
   "metadata": {
    "id": "_iCDSBlSP0FS"
   },
   "source": [
    "Similarly can be done with the dropoff area"
   ]
  },
  {
   "cell_type": "code",
   "execution_count": null,
   "metadata": {
    "colab": {
     "base_uri": "https://localhost:8080/",
     "height": 563
    },
    "executionInfo": {
     "elapsed": 2120,
     "status": "ok",
     "timestamp": 1654278143202,
     "user": {
      "displayName": "Nabhdeep Choudhary",
      "userId": "10453203815156583225"
     },
     "user_tz": -330
    },
    "id": "olW17N4Ziys4",
    "outputId": "b0f88fad-19b7-44c3-d718-91b18ae055ab"
   },
   "outputs": [
    {
     "name": "stderr",
     "output_type": "stream",
     "text": [
      "/usr/local/lib/python3.7/dist-packages/seaborn/_decorators.py:43: FutureWarning: Pass the following variables as keyword args: x, y. From version 0.12, the only valid positional argument will be `data`, and passing other arguments without an explicit keyword will result in an error or misinterpretation.\n",
      "  FutureWarning\n"
     ]
    },
    {
     "data": {
      "image/png": "[encoded data removed]",
      "text/plain": [
       "<Figure size 864x432 with 1 Axes>"
      ]
     },
     "metadata": {
      "needs_background": "light"
     },
     "output_type": "display_data"
    }
   ],
   "source": [
    "dropoff_area = df.groupby('dropoff_area_name')[['passenger_count']].sum().sort_values('passenger_count' , ascending=False).head(15)\n",
    "#pickup_area \n",
    "dropoff_plot = sns.barplot(dropoff_area.index , dropoff_area.passenger_count)\n",
    "dropoff_plot.ticklabel_format(axis = 'y' , style= 'plain')\n",
    "dropoff_plot.set_xticklabels(dropoff_area.index, rotation = 40 , ha = 'right');"
   ]
  },
  {
   "cell_type": "markdown",
   "metadata": {
    "id": "53XJXWcNP650"
   },
   "source": [
    "LaGuardia sees the most amount of people"
   ]
  },
  {
   "cell_type": "markdown",
   "metadata": {
    "id": "Toy7R_nGq4a3"
   },
   "source": [
    "***As LaGuardia Airport seems be with most pickups and dropoffs.***\n",
    "**Let's check What is the 24 hour taxi traffic pattern like.** "
   ]
  },
  {
   "cell_type": "code",
   "execution_count": null,
   "metadata": {
    "colab": {
     "base_uri": "https://localhost:8080/",
     "height": 488
    },
    "executionInfo": {
     "elapsed": 2564,
     "status": "ok",
     "timestamp": 1654278903487,
     "user": {
      "displayName": "Nabhdeep Choudhary",
      "userId": "10453203815156583225"
     },
     "user_tz": -330
    },
    "id": "rqdRf1XHiyqz",
    "outputId": "8c414718-3080-4070-aaec-0119637d9744"
   },
   "outputs": [
    {
     "name": "stderr",
     "output_type": "stream",
     "text": [
      "/usr/local/lib/python3.7/dist-packages/seaborn/distributions.py:2619: FutureWarning: `distplot` is a deprecated function and will be removed in a future version. Please adapt your code to use either `displot` (a figure-level function with similar flexibility) or `histplot` (an axes-level function for histograms).\n",
      "  warnings.warn(msg, FutureWarning)\n"
     ]
    },
    {
     "data": {
      "text/plain": [
       "[Text(0.5, 1.0, 'Pickup by Hour')]"
      ]
     },
     "execution_count": 98,
     "metadata": {},
     "output_type": "execute_result"
    },
    {
     "data": {
      "image/png": "[encoded data removed]",
      "text/plain": [
       "<Figure size 864x432 with 1 Axes>"
      ]
     },
     "metadata": {
      "needs_background": "light"
     },
     "output_type": "display_data"
    }
   ],
   "source": [
    "time_LaGuardia = df.pickup_datetime[df.pickup_area_name == 'LaGuardia Airport'].to_frame()\n",
    "sns.distplot(time_LaGuardia.pickup_datetime.dt.hour , bins = 24 , kde = False , norm_hist = True).set(title = 'Pickup by Hour')"
   ]
  },
  {
   "cell_type": "code",
   "execution_count": null,
   "metadata": {
    "colab": {
     "base_uri": "https://localhost:8080/",
     "height": 488
    },
    "executionInfo": {
     "elapsed": 1553,
     "status": "ok",
     "timestamp": 1654279362013,
     "user": {
      "displayName": "Nabhdeep Choudhary",
      "userId": "10453203815156583225"
     },
     "user_tz": -330
    },
    "id": "iztUbBqEiyoM",
    "outputId": "848fc31b-0efc-4c65-e47e-d173d2345440"
   },
   "outputs": [
    {
     "name": "stderr",
     "output_type": "stream",
     "text": [
      "/usr/local/lib/python3.7/dist-packages/seaborn/distributions.py:2619: FutureWarning: `distplot` is a deprecated function and will be removed in a future version. Please adapt your code to use either `displot` (a figure-level function with similar flexibility) or `histplot` (an axes-level function for histograms).\n",
      "  warnings.warn(msg, FutureWarning)\n"
     ]
    },
    {
     "data": {
      "text/plain": [
       "[Text(0.5, 1.0, 'Dropoff by Hour')]"
      ]
     },
     "execution_count": 110,
     "metadata": {},
     "output_type": "execute_result"
    },
    {
     "data": {
      "image/png": "[encoded data removed]",
      "text/plain": [
       "<Figure size 864x432 with 1 Axes>"
      ]
     },
     "metadata": {
      "needs_background": "light"
     },
     "output_type": "display_data"
    }
   ],
   "source": [
    "dropoff_time_LaGuardia = df.dropoff_datetime[df.dropoff_area_name == 'LaGuardia Airport'].to_frame()\n",
    "sns.distplot(dropoff_time_LaGuardia.dropoff_datetime.dt.hour , bins = 24 , kde = False , norm_hist = True).set(title = 'Dropoff by Hour')"
   ]
  },
  {
   "cell_type": "markdown",
   "metadata": {
    "id": "VHITwF_yQIbd"
   },
   "source": [
    "* Pickup from LaGuardia goes round the clock and sees only a drop for 5 Hours\n",
    "* Dropoff are sees it's first peak during 8AM then then next peak at 3PM\n",
    "\n",
    "\n"
   ]
  },
  {
   "cell_type": "markdown",
   "metadata": {
    "id": "aXqhr84flzSy"
   },
   "source": [
    "#### Q2: Top 15 areas from which the most ammount of revenue was earned.\n",
    "\n",
    "\n",
    "\n"
   ]
  },
  {
   "cell_type": "markdown",
   "metadata": {
    "id": "xRdB7A2rRHhF"
   },
   "source": [
    "Now, we can check the most amount of revenue earned from which of the areas"
   ]
  },
  {
   "cell_type": "code",
   "execution_count": null,
   "metadata": {
    "id": "jHHPNSYslzSy"
   },
   "outputs": [],
   "source": [
    "pickup_earn_area = df.groupby('pickup_area_name')[['total_amount']].sum()"
   ]
  },
  {
   "cell_type": "code",
   "execution_count": null,
   "metadata": {
    "colab": {
     "base_uri": "https://localhost:8080/",
     "height": 551
    },
    "executionInfo": {
     "elapsed": 11,
     "status": "ok",
     "timestamp": 1654348154031,
     "user": {
      "displayName": "Nabhdeep Choudhary",
      "userId": "10453203815156583225"
     },
     "user_tz": -330
    },
    "id": "Dve8OZoRlzSz",
    "outputId": "eb45aa6d-0775-43b1-e409-2e9e35a127e0"
   },
   "outputs": [
    {
     "data": {
      "text/html": [
       "\n",
       "  <div id=\"df-1b013feb-3760-4f2f-a47c-4dae2cccbcca\">\n",
       "    <div class=\"colab-df-container\">\n",
       "      <div>\n",
       "<style scoped>\n",
       "    .dataframe tbody tr th:only-of-type {\n",
       "        vertical-align: middle;\n",
       "    }\n",
       "\n",
       "    .dataframe tbody tr th {\n",
       "        vertical-align: top;\n",
       "    }\n",
       "\n",
       "    .dataframe thead th {\n",
       "        text-align: right;\n",
       "    }\n",
       "</style>\n",
       "<table border=\"1\" class=\"dataframe\">\n",
       "  <thead>\n",
       "    <tr style=\"text-align: right;\">\n",
       "      <th></th>\n",
       "      <th>total_amount</th>\n",
       "    </tr>\n",
       "    <tr>\n",
       "      <th>pickup_area_name</th>\n",
       "      <th></th>\n",
       "    </tr>\n",
       "  </thead>\n",
       "  <tbody>\n",
       "    <tr>\n",
       "      <th>LaGuardia Airport</th>\n",
       "      <td>99880238.79</td>\n",
       "    </tr>\n",
       "    <tr>\n",
       "      <th>JFK Airport</th>\n",
       "      <td>53948990.24</td>\n",
       "    </tr>\n",
       "    <tr>\n",
       "      <th>Times Sq/Theatre District</th>\n",
       "      <td>13856629.35</td>\n",
       "    </tr>\n",
       "    <tr>\n",
       "      <th>Midtown Center</th>\n",
       "      <td>11536590.74</td>\n",
       "    </tr>\n",
       "    <tr>\n",
       "      <th>Midtown East</th>\n",
       "      <td>10054280.33</td>\n",
       "    </tr>\n",
       "    <tr>\n",
       "      <th>Clinton East</th>\n",
       "      <td>8491787.98</td>\n",
       "    </tr>\n",
       "    <tr>\n",
       "      <th>Penn Station/Madison Sq West</th>\n",
       "      <td>8382110.76</td>\n",
       "    </tr>\n",
       "    <tr>\n",
       "      <th>Midtown North</th>\n",
       "      <td>8161649.04</td>\n",
       "    </tr>\n",
       "    <tr>\n",
       "      <th>Murray Hill</th>\n",
       "      <td>7787963.27</td>\n",
       "    </tr>\n",
       "    <tr>\n",
       "      <th>TriBeCa/Civic Center</th>\n",
       "      <td>6655575.44</td>\n",
       "    </tr>\n",
       "    <tr>\n",
       "      <th>Midtown South</th>\n",
       "      <td>6584472.21</td>\n",
       "    </tr>\n",
       "    <tr>\n",
       "      <th>Union Sq</th>\n",
       "      <td>6183662.16</td>\n",
       "    </tr>\n",
       "    <tr>\n",
       "      <th>Garment District</th>\n",
       "      <td>6130645.76</td>\n",
       "    </tr>\n",
       "    <tr>\n",
       "      <th>Upper East Side North</th>\n",
       "      <td>5941494.27</td>\n",
       "    </tr>\n",
       "    <tr>\n",
       "      <th>East Chelsea</th>\n",
       "      <td>5772515.41</td>\n",
       "    </tr>\n",
       "  </tbody>\n",
       "</table>\n",
       "</div>\n",
       "      <button class=\"colab-df-convert\" onclick=\"convertToInteractive('df-1b013feb-3760-4f2f-a47c-4dae2cccbcca')\"\n",
       "              title=\"Convert this dataframe to an interactive table.\"\n",
       "              style=\"display:none;\">\n",
       "        \n",
       "  <svg xmlns=\"http://www.w3.org/2000/svg\" height=\"24px\"viewBox=\"0 0 24 24\"\n",
       "       width=\"24px\">\n",
       "    <path d=\"M0 0h24v24H0V0z\" fill=\"none\"/>\n",
       "    <path d=\"M18.56 5.44l.94 2.06.94-2.06 2.06-.94-2.06-.94-.94-2.06-.94 2.06-2.06.94zm-11 1L8.5 8.5l.94-2.06 2.06-.94-2.06-.94L8.5 2.5l-.94 2.06-2.06.94zm10 10l.94 2.06.94-2.06 2.06-.94-2.06-.94-.94-2.06-.94 2.06-2.06.94z\"/><path d=\"M17.41 7.96l-1.37-1.37c-.4-.4-.92-.59-1.43-.59-.52 0-1.04.2-1.43.59L10.3 9.45l-7.72 7.72c-.78.78-.78 2.05 0 2.83L4 21.41c.39.39.9.59 1.41.59.51 0 1.02-.2 1.41-.59l7.78-7.78 2.81-2.81c.8-.78.8-2.07 0-2.86zM5.41 20L4 18.59l7.72-7.72 1.47 1.35L5.41 20z\"/>\n",
       "  </svg>\n",
       "      </button>\n",
       "      \n",
       "  <style>\n",
       "    .colab-df-container {\n",
       "      display:flex;\n",
       "      flex-wrap:wrap;\n",
       "      gap: 12px;\n",
       "    }\n",
       "\n",
       "    .colab-df-convert {\n",
       "      background-color: #E8F0FE;\n",
       "      border: none;\n",
       "      border-radius: 50%;\n",
       "      cursor: pointer;\n",
       "      display: none;\n",
       "      fill: #1967D2;\n",
       "      height: 32px;\n",
       "      padding: 0 0 0 0;\n",
       "      width: 32px;\n",
       "    }\n",
       "\n",
       "    .colab-df-convert:hover {\n",
       "      background-color: #E2EBFA;\n",
       "      box-shadow: 0px 1px 2px rgba(60, 64, 67, 0.3), 0px 1px 3px 1px rgba(60, 64, 67, 0.15);\n",
       "      fill: #174EA6;\n",
       "    }\n",
       "\n",
       "    [theme=dark] .colab-df-convert {\n",
       "      background-color: #3B4455;\n",
       "      fill: #D2E3FC;\n",
       "    }\n",
       "\n",
       "    [theme=dark] .colab-df-convert:hover {\n",
       "      background-color: #434B5C;\n",
       "      box-shadow: 0px 1px 3px 1px rgba(0, 0, 0, 0.15);\n",
       "      filter: drop-shadow(0px 1px 2px rgba(0, 0, 0, 0.3));\n",
       "      fill: #FFFFFF;\n",
       "    }\n",
       "  </style>\n",
       "\n",
       "      <script>\n",
       "        const buttonEl =\n",
       "          document.querySelector('#df-1b013feb-3760-4f2f-a47c-4dae2cccbcca button.colab-df-convert');\n",
       "        buttonEl.style.display =\n",
       "          google.colab.kernel.accessAllowed ? 'block' : 'none';\n",
       "\n",
       "        async function convertToInteractive(key) {\n",
       "          const element = document.querySelector('#df-1b013feb-3760-4f2f-a47c-4dae2cccbcca');\n",
       "          const dataTable =\n",
       "            await google.colab.kernel.invokeFunction('convertToInteractive',\n",
       "                                                     [key], {});\n",
       "          if (!dataTable) return;\n",
       "\n",
       "          const docLinkHtml = 'Like what you see? Visit the ' +\n",
       "            '<a target=\"_blank\" href=https://colab.research.google.com/notebooks/data_table.ipynb>data table notebook</a>'\n",
       "            + ' to learn more about interactive tables.';\n",
       "          element.innerHTML = '';\n",
       "          dataTable['output_type'] = 'display_data';\n",
       "          await google.colab.output.renderOutput(dataTable, element);\n",
       "          const docLink = document.createElement('div');\n",
       "          docLink.innerHTML = docLinkHtml;\n",
       "          element.appendChild(docLink);\n",
       "        }\n",
       "      </script>\n",
       "    </div>\n",
       "  </div>\n",
       "  "
      ],
      "text/plain": [
       "                              total_amount\n",
       "pickup_area_name                          \n",
       "LaGuardia Airport              99880238.79\n",
       "JFK Airport                    53948990.24\n",
       "Times Sq/Theatre District      13856629.35\n",
       "Midtown Center                 11536590.74\n",
       "Midtown East                   10054280.33\n",
       "Clinton East                    8491787.98\n",
       "Penn Station/Madison Sq West    8382110.76\n",
       "Midtown North                   8161649.04\n",
       "Murray Hill                     7787963.27\n",
       "TriBeCa/Civic Center            6655575.44\n",
       "Midtown South                   6584472.21\n",
       "Union Sq                        6183662.16\n",
       "Garment District                6130645.76\n",
       "Upper East Side North           5941494.27\n",
       "East Chelsea                    5772515.41"
      ]
     },
     "execution_count": 26,
     "metadata": {},
     "output_type": "execute_result"
    }
   ],
   "source": [
    "pickup_earn_area.sort_values(by = 'total_amount' ,ascending = False).head(15)"
   ]
  },
  {
   "cell_type": "code",
   "execution_count": null,
   "metadata": {
    "colab": {
     "base_uri": "https://localhost:8080/",
     "height": 551
    },
    "executionInfo": {
     "elapsed": 1074,
     "status": "ok",
     "timestamp": 1654348159465,
     "user": {
      "displayName": "Nabhdeep Choudhary",
      "userId": "10453203815156583225"
     },
     "user_tz": -330
    },
    "id": "XQt4CXnVlzSz",
    "outputId": "21c59fd8-bb7c-4e77-ea81-693c41f66e43"
   },
   "outputs": [
    {
     "data": {
      "text/html": [
       "\n",
       "  <div id=\"df-b0d7ffb4-3193-4323-9bbe-010edaa3aa7c\">\n",
       "    <div class=\"colab-df-container\">\n",
       "      <div>\n",
       "<style scoped>\n",
       "    .dataframe tbody tr th:only-of-type {\n",
       "        vertical-align: middle;\n",
       "    }\n",
       "\n",
       "    .dataframe tbody tr th {\n",
       "        vertical-align: top;\n",
       "    }\n",
       "\n",
       "    .dataframe thead th {\n",
       "        text-align: right;\n",
       "    }\n",
       "</style>\n",
       "<table border=\"1\" class=\"dataframe\">\n",
       "  <thead>\n",
       "    <tr style=\"text-align: right;\">\n",
       "      <th></th>\n",
       "      <th>total_amount</th>\n",
       "    </tr>\n",
       "    <tr>\n",
       "      <th>dropoff_area_name</th>\n",
       "      <th></th>\n",
       "    </tr>\n",
       "  </thead>\n",
       "  <tbody>\n",
       "    <tr>\n",
       "      <th>LaGuardia Airport</th>\n",
       "      <td>42839952.52</td>\n",
       "    </tr>\n",
       "    <tr>\n",
       "      <th>Newark Airport</th>\n",
       "      <td>16227276.71</td>\n",
       "    </tr>\n",
       "    <tr>\n",
       "      <th>JFK Airport</th>\n",
       "      <td>12949772.26</td>\n",
       "    </tr>\n",
       "    <tr>\n",
       "      <th>Times Sq/Theatre District</th>\n",
       "      <td>11287499.15</td>\n",
       "    </tr>\n",
       "    <tr>\n",
       "      <th>Midtown Center</th>\n",
       "      <td>9285351.48</td>\n",
       "    </tr>\n",
       "    <tr>\n",
       "      <th>Midtown East</th>\n",
       "      <td>8151801.47</td>\n",
       "    </tr>\n",
       "    <tr>\n",
       "      <th>Park Slope</th>\n",
       "      <td>6962206.75</td>\n",
       "    </tr>\n",
       "    <tr>\n",
       "      <th>TriBeCa/Civic Center</th>\n",
       "      <td>6029965.02</td>\n",
       "    </tr>\n",
       "    <tr>\n",
       "      <th>Battery Park City</th>\n",
       "      <td>5948176.53</td>\n",
       "    </tr>\n",
       "    <tr>\n",
       "      <th>Midtown North</th>\n",
       "      <td>5943520.21</td>\n",
       "    </tr>\n",
       "    <tr>\n",
       "      <th>Clinton East</th>\n",
       "      <td>5766089.51</td>\n",
       "    </tr>\n",
       "    <tr>\n",
       "      <th>Murray Hill</th>\n",
       "      <td>5647838.81</td>\n",
       "    </tr>\n",
       "    <tr>\n",
       "      <th>Midtown South</th>\n",
       "      <td>5523323.12</td>\n",
       "    </tr>\n",
       "    <tr>\n",
       "      <th>Financial District North</th>\n",
       "      <td>5231075.96</td>\n",
       "    </tr>\n",
       "    <tr>\n",
       "      <th>Upper East Side North</th>\n",
       "      <td>4924382.10</td>\n",
       "    </tr>\n",
       "  </tbody>\n",
       "</table>\n",
       "</div>\n",
       "      <button class=\"colab-df-convert\" onclick=\"convertToInteractive('df-b0d7ffb4-3193-4323-9bbe-010edaa3aa7c')\"\n",
       "              title=\"Convert this dataframe to an interactive table.\"\n",
       "              style=\"display:none;\">\n",
       "        \n",
       "  <svg xmlns=\"http://www.w3.org/2000/svg\" height=\"24px\"viewBox=\"0 0 24 24\"\n",
       "       width=\"24px\">\n",
       "    <path d=\"M0 0h24v24H0V0z\" fill=\"none\"/>\n",
       "    <path d=\"M18.56 5.44l.94 2.06.94-2.06 2.06-.94-2.06-.94-.94-2.06-.94 2.06-2.06.94zm-11 1L8.5 8.5l.94-2.06 2.06-.94-2.06-.94L8.5 2.5l-.94 2.06-2.06.94zm10 10l.94 2.06.94-2.06 2.06-.94-2.06-.94-.94-2.06-.94 2.06-2.06.94z\"/><path d=\"M17.41 7.96l-1.37-1.37c-.4-.4-.92-.59-1.43-.59-.52 0-1.04.2-1.43.59L10.3 9.45l-7.72 7.72c-.78.78-.78 2.05 0 2.83L4 21.41c.39.39.9.59 1.41.59.51 0 1.02-.2 1.41-.59l7.78-7.78 2.81-2.81c.8-.78.8-2.07 0-2.86zM5.41 20L4 18.59l7.72-7.72 1.47 1.35L5.41 20z\"/>\n",
       "  </svg>\n",
       "      </button>\n",
       "      \n",
       "  <style>\n",
       "    .colab-df-container {\n",
       "      display:flex;\n",
       "      flex-wrap:wrap;\n",
       "      gap: 12px;\n",
       "    }\n",
       "\n",
       "    .colab-df-convert {\n",
       "      background-color: #E8F0FE;\n",
       "      border: none;\n",
       "      border-radius: 50%;\n",
       "      cursor: pointer;\n",
       "      display: none;\n",
       "      fill: #1967D2;\n",
       "      height: 32px;\n",
       "      padding: 0 0 0 0;\n",
       "      width: 32px;\n",
       "    }\n",
       "\n",
       "    .colab-df-convert:hover {\n",
       "      background-color: #E2EBFA;\n",
       "      box-shadow: 0px 1px 2px rgba(60, 64, 67, 0.3), 0px 1px 3px 1px rgba(60, 64, 67, 0.15);\n",
       "      fill: #174EA6;\n",
       "    }\n",
       "\n",
       "    [theme=dark] .colab-df-convert {\n",
       "      background-color: #3B4455;\n",
       "      fill: #D2E3FC;\n",
       "    }\n",
       "\n",
       "    [theme=dark] .colab-df-convert:hover {\n",
       "      background-color: #434B5C;\n",
       "      box-shadow: 0px 1px 3px 1px rgba(0, 0, 0, 0.15);\n",
       "      filter: drop-shadow(0px 1px 2px rgba(0, 0, 0, 0.3));\n",
       "      fill: #FFFFFF;\n",
       "    }\n",
       "  </style>\n",
       "\n",
       "      <script>\n",
       "        const buttonEl =\n",
       "          document.querySelector('#df-b0d7ffb4-3193-4323-9bbe-010edaa3aa7c button.colab-df-convert');\n",
       "        buttonEl.style.display =\n",
       "          google.colab.kernel.accessAllowed ? 'block' : 'none';\n",
       "\n",
       "        async function convertToInteractive(key) {\n",
       "          const element = document.querySelector('#df-b0d7ffb4-3193-4323-9bbe-010edaa3aa7c');\n",
       "          const dataTable =\n",
       "            await google.colab.kernel.invokeFunction('convertToInteractive',\n",
       "                                                     [key], {});\n",
       "          if (!dataTable) return;\n",
       "\n",
       "          const docLinkHtml = 'Like what you see? Visit the ' +\n",
       "            '<a target=\"_blank\" href=https://colab.research.google.com/notebooks/data_table.ipynb>data table notebook</a>'\n",
       "            + ' to learn more about interactive tables.';\n",
       "          element.innerHTML = '';\n",
       "          dataTable['output_type'] = 'display_data';\n",
       "          await google.colab.output.renderOutput(dataTable, element);\n",
       "          const docLink = document.createElement('div');\n",
       "          docLink.innerHTML = docLinkHtml;\n",
       "          element.appendChild(docLink);\n",
       "        }\n",
       "      </script>\n",
       "    </div>\n",
       "  </div>\n",
       "  "
      ],
      "text/plain": [
       "                           total_amount\n",
       "dropoff_area_name                      \n",
       "LaGuardia Airport           42839952.52\n",
       "Newark Airport              16227276.71\n",
       "JFK Airport                 12949772.26\n",
       "Times Sq/Theatre District   11287499.15\n",
       "Midtown Center               9285351.48\n",
       "Midtown East                 8151801.47\n",
       "Park Slope                   6962206.75\n",
       "TriBeCa/Civic Center         6029965.02\n",
       "Battery Park City            5948176.53\n",
       "Midtown North                5943520.21\n",
       "Clinton East                 5766089.51\n",
       "Murray Hill                  5647838.81\n",
       "Midtown South                5523323.12\n",
       "Financial District North     5231075.96\n",
       "Upper East Side North        4924382.10"
      ]
     },
     "execution_count": 27,
     "metadata": {},
     "output_type": "execute_result"
    }
   ],
   "source": [
    "dropoff_earn_area = df.groupby('dropoff_area_name')[['total_amount']].sum()\n",
    "dropoff_earn_area.sort_values(by = 'total_amount' , ascending = False).head(15)"
   ]
  },
  {
   "cell_type": "code",
   "execution_count": null,
   "metadata": {
    "id": "d34m7pz2aVG5"
   },
   "outputs": [],
   "source": [
    "df_add = pickup_earn_area.add(dropoff_earn_area , fill_value= 0 )\n",
    "net_total= df_add.sort_values( by = 'total_amount' , ascending = False).head(15)"
   ]
  },
  {
   "cell_type": "code",
   "execution_count": null,
   "metadata": {
    "colab": {
     "base_uri": "https://localhost:8080/",
     "height": 567
    },
    "executionInfo": {
     "elapsed": 1243,
     "status": "ok",
     "timestamp": 1654348161347,
     "user": {
      "displayName": "Nabhdeep Choudhary",
      "userId": "10453203815156583225"
     },
     "user_tz": -330
    },
    "id": "cOaYDxxTaVEZ",
    "outputId": "1f9bbf94-4a65-4094-b7d4-d5b78aeb3469"
   },
   "outputs": [
    {
     "name": "stderr",
     "output_type": "stream",
     "text": [
      "/usr/local/lib/python3.7/dist-packages/seaborn/_decorators.py:43: FutureWarning: Pass the following variables as keyword args: x, y. From version 0.12, the only valid positional argument will be `data`, and passing other arguments without an explicit keyword will result in an error or misinterpretation.\n",
      "  FutureWarning\n"
     ]
    },
    {
     "data": {
      "image/png": "[encoded data removed]",
      "text/plain": [
       "<Figure size 864x432 with 1 Axes>"
      ]
     },
     "metadata": {
      "needs_background": "light"
     },
     "output_type": "display_data"
    }
   ],
   "source": [
    "ax = sns.barplot(net_total.index , net_total.total_amount)\n",
    "ax.ticklabel_format(axis = 'y' , style= 'plain')\n",
    "ax.set_xticklabels(net_total.index, rotation = 40 , ha = 'right');"
   ]
  },
  {
   "cell_type": "markdown",
   "metadata": {
    "id": "frPXTZEDRT3Q"
   },
   "source": [
    "As the most picksups and dropoff area form LaGuardia Airport the most amount of revenue is also Earned from LaGuardia and followed by JFK Airport"
   ]
  },
  {
   "cell_type": "markdown",
   "metadata": {
    "id": "S6iKs2aUb7jZ"
   },
   "source": [
    "Now  have a look that how much each vendor earned in total\n",
    "* From start we know there are 3 vendor "
   ]
  },
  {
   "cell_type": "code",
   "execution_count": null,
   "metadata": {
    "id": "3qWfIbM9huIu"
   },
   "outputs": [],
   "source": [
    "new_df = df.groupby(['vendor_id' , 'pickup_area_name'] ,  as_index = False)[['total_amount']].sum()\n",
    "\n"
   ]
  },
  {
   "cell_type": "markdown",
   "metadata": {
    "id": "ZywlKh0tRtu-"
   },
   "source": [
    "* Seperate each vendor to each dataframe \n",
    "* Then take first 10 for each vendor \n",
    "* And display the revenue earned for each vendor on a catplot "
   ]
  },
  {
   "cell_type": "code",
   "execution_count": null,
   "metadata": {
    "id": "Wahe9T7RhuFz"
   },
   "outputs": [],
   "source": [
    "vendor1 = new_df[new_df['vendor_id']==1].sort_values(by = 'total_amount', ascending = False).head(10)\n",
    "vendor2 = new_df[new_df['vendor_id']==2].sort_values(by = 'total_amount', ascending = False).head(10)\n",
    "vendor4 = new_df[new_df['vendor_id']==4].sort_values(by = 'total_amount', ascending = False).head(10)"
   ]
  },
  {
   "cell_type": "code",
   "execution_count": null,
   "metadata": {
    "id": "YB32uApkk3tK"
   },
   "outputs": [],
   "source": [
    "vendor_plot = pd.concat([vendor1 , vendor2 , vendor4] , ignore_index = True)"
   ]
  },
  {
   "cell_type": "code",
   "execution_count": null,
   "metadata": {
    "colab": {
     "base_uri": "https://localhost:8080/",
     "height": 466
    },
    "executionInfo": {
     "elapsed": 3673,
     "status": "ok",
     "timestamp": 1654350820523,
     "user": {
      "displayName": "Nabhdeep Choudhary",
      "userId": "10453203815156583225"
     },
     "user_tz": -330
    },
    "id": "JfV9Fyqxk3qm",
    "outputId": "5fc6d19b-f0b9-4ca7-f0c4-4cb947a4fe11"
   },
   "outputs": [
    {
     "data": {
      "image/png": "[encoded data removed]",
      "text/plain": [
       "<Figure size 1080x360 with 3 Axes>"
      ]
     },
     "metadata": {
      "needs_background": "light"
     },
     "output_type": "display_data"
    }
   ],
   "source": [
    "vendor_plot\n",
    "ax = sns.catplot( data = vendor_plot , x='pickup_area_name' , y = 'total_amount' , col = 'vendor_id' , kind = 'bar' )\n",
    "ax.set_xticklabels(net_total.index, rotation = 40 , ha = 'right');\n",
    "\n"
   ]
  },
  {
   "cell_type": "markdown",
   "metadata": {
    "id": "73Jwtjb3_1F6"
   },
   "source": [
    "The majority taxi are of Vendor 1 and 2.\n",
    "* And the most amout of Fare collected for both is from LaGuardia Airport and JFK Airport\n",
    "\n",
    "---\n",
    "\n"
   ]
  },
  {
   "cell_type": "markdown",
   "metadata": {
    "id": "2CbWHiNWlzSz"
   },
   "source": [
    "#### Q3: Checking ralation of people tarvelling in the taxi and the amount of tips given."
   ]
  },
  {
   "cell_type": "markdown",
   "metadata": {
    "id": "rtAkYHU0SXaH"
   },
   "source": [
    "We can group each passenger and the maen tips given"
   ]
  },
  {
   "cell_type": "code",
   "execution_count": null,
   "metadata": {
    "id": "SKmBR4OalzSz"
   },
   "outputs": [],
   "source": [
    "pickup_tips = df.groupby('passenger_count', as_index = False  )[['tip_amount']].mean()"
   ]
  },
  {
   "cell_type": "code",
   "execution_count": null,
   "metadata": {
    "colab": {
     "base_uri": "https://localhost:8080/",
     "height": 378
    },
    "executionInfo": {
     "elapsed": 794,
     "status": "ok",
     "timestamp": 1654357726207,
     "user": {
      "displayName": "Nabhdeep Choudhary",
      "userId": "10453203815156583225"
     },
     "user_tz": -330
    },
    "id": "6xdzsbu7lzS0",
    "outputId": "7463d8f9-9917-4c8d-fb52-a9152dea8499"
   },
   "outputs": [
    {
     "data": {
      "text/plain": [
       "<seaborn.axisgrid.FacetGrid at 0x7ff7eeba4510>"
      ]
     },
     "execution_count": 190,
     "metadata": {},
     "output_type": "execute_result"
    },
    {
     "data": {
      "image/png": "[encoded data removed]",
      "text/plain": [
       "<Figure size 360x360 with 1 Axes>"
      ]
     },
     "metadata": {
      "needs_background": "light"
     },
     "output_type": "display_data"
    }
   ],
   "source": [
    "sns.catplot ( data= pickup_tips , x = 'passenger_count' , y = 'tip_amount' , kind = 'bar' )"
   ]
  },
  {
   "cell_type": "markdown",
   "metadata": {
    "id": "-FqCL18cZLUY"
   },
   "source": [
    "Mean tip amount was higher for passengers greater than 6 about 8.1 to 9.7.\n",
    "And rest of the number passenger tip amount are in the same range \n",
    " "
   ]
  },
  {
   "cell_type": "markdown",
   "metadata": {
    "id": "UuZ98J7-lzS0"
   },
   "source": [
    "#### Q4: The Rate code applied on a trip and the mean distance covered "
   ]
  },
  {
   "cell_type": "code",
   "execution_count": 90,
   "metadata": {
    "executionInfo": {
     "elapsed": 12,
     "status": "ok",
     "timestamp": 1654439963377,
     "user": {
      "displayName": "Nabhdeep Choudhary",
      "userId": "10453203815156583225"
     },
     "user_tz": -330
    },
    "id": "X-mAMnxJlzS0"
   },
   "outputs": [],
   "source": [
    "mean_distance = df.groupby('rate_code', as_index = False  )[['trip_distance']].mean()"
   ]
  },
  {
   "cell_type": "code",
   "execution_count": 91,
   "metadata": {
    "colab": {
     "base_uri": "https://localhost:8080/",
     "height": 269
    },
    "executionInfo": {
     "elapsed": 11,
     "status": "ok",
     "timestamp": 1654439963378,
     "user": {
      "displayName": "Nabhdeep Choudhary",
      "userId": "10453203815156583225"
     },
     "user_tz": -330
    },
    "id": "LIsm4UCXlzS1",
    "outputId": "4d20a949-9c5a-4447-f21c-e0d74998cef8"
   },
   "outputs": [
    {
     "data": {
      "text/html": [
       "\n",
       "  <div id=\"df-c1f64dd9-18f1-4937-8467-9d6e73fcb0d1\">\n",
       "    <div class=\"colab-df-container\">\n",
       "      <div>\n",
       "<style scoped>\n",
       "    .dataframe tbody tr th:only-of-type {\n",
       "        vertical-align: middle;\n",
       "    }\n",
       "\n",
       "    .dataframe tbody tr th {\n",
       "        vertical-align: top;\n",
       "    }\n",
       "\n",
       "    .dataframe thead th {\n",
       "        text-align: right;\n",
       "    }\n",
       "</style>\n",
       "<table border=\"1\" class=\"dataframe\">\n",
       "  <thead>\n",
       "    <tr style=\"text-align: right;\">\n",
       "      <th></th>\n",
       "      <th>rate_code</th>\n",
       "      <th>trip_distance</th>\n",
       "    </tr>\n",
       "  </thead>\n",
       "  <tbody>\n",
       "    <tr>\n",
       "      <th>0</th>\n",
       "      <td>1</td>\n",
       "      <td>8.271851</td>\n",
       "    </tr>\n",
       "    <tr>\n",
       "      <th>1</th>\n",
       "      <td>2</td>\n",
       "      <td>16.915471</td>\n",
       "    </tr>\n",
       "    <tr>\n",
       "      <th>2</th>\n",
       "      <td>3</td>\n",
       "      <td>17.701575</td>\n",
       "    </tr>\n",
       "    <tr>\n",
       "      <th>3</th>\n",
       "      <td>4</td>\n",
       "      <td>19.955646</td>\n",
       "    </tr>\n",
       "    <tr>\n",
       "      <th>4</th>\n",
       "      <td>5</td>\n",
       "      <td>7.058511</td>\n",
       "    </tr>\n",
       "    <tr>\n",
       "      <th>5</th>\n",
       "      <td>6</td>\n",
       "      <td>1.312251</td>\n",
       "    </tr>\n",
       "    <tr>\n",
       "      <th>6</th>\n",
       "      <td>99</td>\n",
       "      <td>0.146407</td>\n",
       "    </tr>\n",
       "  </tbody>\n",
       "</table>\n",
       "</div>\n",
       "      <button class=\"colab-df-convert\" onclick=\"convertToInteractive('df-c1f64dd9-18f1-4937-8467-9d6e73fcb0d1')\"\n",
       "              title=\"Convert this dataframe to an interactive table.\"\n",
       "              style=\"display:none;\">\n",
       "        \n",
       "  <svg xmlns=\"http://www.w3.org/2000/svg\" height=\"24px\"viewBox=\"0 0 24 24\"\n",
       "       width=\"24px\">\n",
       "    <path d=\"M0 0h24v24H0V0z\" fill=\"none\"/>\n",
       "    <path d=\"M18.56 5.44l.94 2.06.94-2.06 2.06-.94-2.06-.94-.94-2.06-.94 2.06-2.06.94zm-11 1L8.5 8.5l.94-2.06 2.06-.94-2.06-.94L8.5 2.5l-.94 2.06-2.06.94zm10 10l.94 2.06.94-2.06 2.06-.94-2.06-.94-.94-2.06-.94 2.06-2.06.94z\"/><path d=\"M17.41 7.96l-1.37-1.37c-.4-.4-.92-.59-1.43-.59-.52 0-1.04.2-1.43.59L10.3 9.45l-7.72 7.72c-.78.78-.78 2.05 0 2.83L4 21.41c.39.39.9.59 1.41.59.51 0 1.02-.2 1.41-.59l7.78-7.78 2.81-2.81c.8-.78.8-2.07 0-2.86zM5.41 20L4 18.59l7.72-7.72 1.47 1.35L5.41 20z\"/>\n",
       "  </svg>\n",
       "      </button>\n",
       "      \n",
       "  <style>\n",
       "    .colab-df-container {\n",
       "      display:flex;\n",
       "      flex-wrap:wrap;\n",
       "      gap: 12px;\n",
       "    }\n",
       "\n",
       "    .colab-df-convert {\n",
       "      background-color: #E8F0FE;\n",
       "      border: none;\n",
       "      border-radius: 50%;\n",
       "      cursor: pointer;\n",
       "      display: none;\n",
       "      fill: #1967D2;\n",
       "      height: 32px;\n",
       "      padding: 0 0 0 0;\n",
       "      width: 32px;\n",
       "    }\n",
       "\n",
       "    .colab-df-convert:hover {\n",
       "      background-color: #E2EBFA;\n",
       "      box-shadow: 0px 1px 2px rgba(60, 64, 67, 0.3), 0px 1px 3px 1px rgba(60, 64, 67, 0.15);\n",
       "      fill: #174EA6;\n",
       "    }\n",
       "\n",
       "    [theme=dark] .colab-df-convert {\n",
       "      background-color: #3B4455;\n",
       "      fill: #D2E3FC;\n",
       "    }\n",
       "\n",
       "    [theme=dark] .colab-df-convert:hover {\n",
       "      background-color: #434B5C;\n",
       "      box-shadow: 0px 1px 3px 1px rgba(0, 0, 0, 0.15);\n",
       "      filter: drop-shadow(0px 1px 2px rgba(0, 0, 0, 0.3));\n",
       "      fill: #FFFFFF;\n",
       "    }\n",
       "  </style>\n",
       "\n",
       "      <script>\n",
       "        const buttonEl =\n",
       "          document.querySelector('#df-c1f64dd9-18f1-4937-8467-9d6e73fcb0d1 button.colab-df-convert');\n",
       "        buttonEl.style.display =\n",
       "          google.colab.kernel.accessAllowed ? 'block' : 'none';\n",
       "\n",
       "        async function convertToInteractive(key) {\n",
       "          const element = document.querySelector('#df-c1f64dd9-18f1-4937-8467-9d6e73fcb0d1');\n",
       "          const dataTable =\n",
       "            await google.colab.kernel.invokeFunction('convertToInteractive',\n",
       "                                                     [key], {});\n",
       "          if (!dataTable) return;\n",
       "\n",
       "          const docLinkHtml = 'Like what you see? Visit the ' +\n",
       "            '<a target=\"_blank\" href=https://colab.research.google.com/notebooks/data_table.ipynb>data table notebook</a>'\n",
       "            + ' to learn more about interactive tables.';\n",
       "          element.innerHTML = '';\n",
       "          dataTable['output_type'] = 'display_data';\n",
       "          await google.colab.output.renderOutput(dataTable, element);\n",
       "          const docLink = document.createElement('div');\n",
       "          docLink.innerHTML = docLinkHtml;\n",
       "          element.appendChild(docLink);\n",
       "        }\n",
       "      </script>\n",
       "    </div>\n",
       "  </div>\n",
       "  "
      ],
      "text/plain": [
       "   rate_code  trip_distance\n",
       "0          1       8.271851\n",
       "1          2      16.915471\n",
       "2          3      17.701575\n",
       "3          4      19.955646\n",
       "4          5       7.058511\n",
       "5          6       1.312251\n",
       "6         99       0.146407"
      ]
     },
     "execution_count": 91,
     "metadata": {},
     "output_type": "execute_result"
    }
   ],
   "source": [
    "mean_distance"
   ]
  },
  {
   "cell_type": "code",
   "execution_count": 93,
   "metadata": {
    "colab": {
     "base_uri": "https://localhost:8080/",
     "height": 468
    },
    "executionInfo": {
     "elapsed": 11,
     "status": "ok",
     "timestamp": 1654439979917,
     "user": {
      "displayName": "Nabhdeep Choudhary",
      "userId": "10453203815156583225"
     },
     "user_tz": -330
    },
    "id": "JI6PLnh_lzS1",
    "outputId": "9355d605-12d1-4ae7-b737-373e4173e07d"
   },
   "outputs": [
    {
     "name": "stderr",
     "output_type": "stream",
     "text": [
      "/usr/local/lib/python3.7/dist-packages/seaborn/_decorators.py:43: FutureWarning: Pass the following variables as keyword args: x, y. From version 0.12, the only valid positional argument will be `data`, and passing other arguments without an explicit keyword will result in an error or misinterpretation.\n",
      "  FutureWarning\n"
     ]
    },
    {
     "data": {
      "text/plain": [
       "<matplotlib.axes._subplots.AxesSubplot at 0x7f0b8bab7790>"
      ]
     },
     "execution_count": 93,
     "metadata": {},
     "output_type": "execute_result"
    },
    {
     "data": {
      "image/png": "[encoded data removed]",
      "text/plain": [
       "<Figure size 864x432 with 1 Axes>"
      ]
     },
     "metadata": {
      "needs_background": "light"
     },
     "output_type": "display_data"
    }
   ],
   "source": [
    "sns.barplot(mean_distance.rate_code, mean_distance.trip_distance)"
   ]
  },
  {
   "cell_type": "markdown",
   "metadata": {
    "id": "3awL1qsE7wIw"
   },
   "source": [
    "2 = JFK 3 = Newark 4 = Nassau \n",
    "\n",
    "\n",
    "*   Sees greater amount mean of trip distance covered \n",
    "\n",
    "\n"
   ]
  },
  {
   "cell_type": "markdown",
   "metadata": {
    "id": "AueBKhuqlzS1"
   },
   "source": [
    "#### Q5: Let's check the Trip duration during the day "
   ]
  },
  {
   "cell_type": "markdown",
   "metadata": {
    "id": "yJpRBjhR-tw5"
   },
   "source": [
    "\n",
    "\n",
    "*   Let's check duration during  24 hour \n",
    "\n"
   ]
  },
  {
   "cell_type": "code",
   "execution_count": 42,
   "metadata": {
    "colab": {
     "base_uri": "https://localhost:8080/",
     "height": 413
    },
    "executionInfo": {
     "elapsed": 126103,
     "status": "ok",
     "timestamp": 1654434715016,
     "user": {
      "displayName": "Nabhdeep Choudhary",
      "userId": "10453203815156583225"
     },
     "user_tz": -330
    },
    "id": "WaT9uH7NlzS1",
    "outputId": "be7b263b-520d-436f-98da-a75f483f214b"
   },
   "outputs": [
    {
     "data": {
      "text/plain": [
       "<matplotlib.axes._subplots.AxesSubplot at 0x7f0be687a1d0>"
      ]
     },
     "execution_count": 42,
     "metadata": {},
     "output_type": "execute_result"
    },
    {
     "data": {
      "image/png": "[encoded data removed]",
      "text/plain": [
       "<Figure size 864x432 with 1 Axes>"
      ]
     },
     "metadata": {
      "needs_background": "light"
     },
     "output_type": "display_data"
    }
   ],
   "source": [
    "sns.lineplot(x='pickup_hour',y='trip_duration',data=df)\n"
   ]
  },
  {
   "cell_type": "markdown",
   "metadata": {
    "id": "8q5F_kBWAqi6"
   },
   "source": [
    "We see that the trip duration is max aroung 1500 hours may be because of the traffic on the city.\n",
    "And then then duration comes down to around 1800."
   ]
  },
  {
   "cell_type": "markdown",
   "metadata": {
    "id": "mDqTO72mBROv"
   },
   "source": [
    "\n",
    "\n",
    "*   Let's check what is the trip duration during the day of the week  \n",
    "\n",
    "\n"
   ]
  },
  {
   "cell_type": "code",
   "execution_count": 66,
   "metadata": {
    "executionInfo": {
     "elapsed": 974,
     "status": "ok",
     "timestamp": 1654436266513,
     "user": {
      "displayName": "Nabhdeep Choudhary",
      "userId": "10453203815156583225"
     },
     "user_tz": -330
    },
    "id": "ggwueymOlzS2"
   },
   "outputs": [],
   "source": [
    "weekday_mean = df.groupby(['pickup_days'])[['trip_duration']].mean().reindex(weekdays)\n"
   ]
  },
  {
   "cell_type": "code",
   "execution_count": 65,
   "metadata": {
    "colab": {
     "base_uri": "https://localhost:8080/",
     "height": 413
    },
    "executionInfo": {
     "elapsed": 871,
     "status": "ok",
     "timestamp": 1654436246029,
     "user": {
      "displayName": "Nabhdeep Choudhary",
      "userId": "10453203815156583225"
     },
     "user_tz": -330
    },
    "id": "4w7-jGQIFJM_",
    "outputId": "c5af725b-a29e-49fb-8d44-a0b703b67dde"
   },
   "outputs": [
    {
     "data": {
      "text/plain": [
       "<matplotlib.axes._subplots.AxesSubplot at 0x7f0b8bcdf690>"
      ]
     },
     "execution_count": 65,
     "metadata": {},
     "output_type": "execute_result"
    },
    {
     "data": {
      "image/png": "[encoded data removed]",
      "text/plain": [
       "<Figure size 864x432 with 1 Axes>"
      ]
     },
     "metadata": {
      "needs_background": "light"
     },
     "output_type": "display_data"
    }
   ],
   "source": [
    "sns.lineplot(x='pickup_days',y='trip_duration',data=weekday_mean)\n"
   ]
  },
  {
   "cell_type": "markdown",
   "metadata": {
    "id": "8OEocH3AFr8P"
   },
   "source": [
    "Trip duration during Thursday is max followed by Firdays.\n",
    "Maybe more people travelling out as weekend gets closer"
   ]
  },
  {
   "cell_type": "markdown",
   "metadata": {
    "id": "doYl6_9ilzS2"
   },
   "source": [
    "Let us save and upload our work to Jovian before continuing."
   ]
  },
  {
   "cell_type": "code",
   "execution_count": 84,
   "metadata": {
    "executionInfo": {
     "elapsed": 1052,
     "status": "ok",
     "timestamp": 1654439587519,
     "user": {
      "displayName": "Nabhdeep Choudhary",
      "userId": "10453203815156583225"
     },
     "user_tz": -330
    },
    "id": "-Lu5Ou0qlzS2"
   },
   "outputs": [],
   "source": [
    "import jovian"
   ]
  },
  {
   "cell_type": "code",
   "execution_count": 85,
   "metadata": {
    "colab": {
     "base_uri": "https://localhost:8080/",
     "height": 87
    },
    "executionInfo": {
     "elapsed": 3497,
     "status": "ok",
     "timestamp": 1654439591642,
     "user": {
      "displayName": "Nabhdeep Choudhary",
      "userId": "10453203815156583225"
     },
     "user_tz": -330
    },
    "id": "dc2IhML-lzS2",
    "outputId": "7d969a25-8c8d-4d02-ba3c-be1154a61d6f"
   },
   "outputs": [
    {
     "name": "stdout",
     "output_type": "stream",
     "text": [
      "[jovian] Detected Colab notebook...\u001b[0m\n",
      "[jovian] Uploading colab notebook to Jovian...\u001b[0m\n",
      "Committed successfully! https://jovian.ai/deep3700/course-project-nyc-taxi\n"
     ]
    },
    {
     "data": {
      "application/vnd.google.colaboratory.intrinsic+json": {
       "type": "string"
      },
      "text/plain": [
       "'https://jovian.ai/deep3700/course-project-nyc-taxi'"
      ]
     },
     "execution_count": 85,
     "metadata": {},
     "output_type": "execute_result"
    }
   ],
   "source": [
    "jovian.commit()"
   ]
  },
  {
   "cell_type": "markdown",
   "metadata": {
    "id": "jp65bC1JlzS3"
   },
   "source": [
    "## Inferences and Conclusion\n",
    "\n",
    "* Only 64% of travel in NYC happens during the day\n",
    "* There is rise in travell in ***MARCH*** due to more people travelling to NYC to see the St Patricks parade in the City\n",
    "* While analysing Trip distance, there are some trips made by Taxies with 0 Passengers. There are about 90K trips of the total of 10 million trips about 0.9 %\n",
    "* Out of 10 million Trips there have been 0.2% of disputes in payment types\n",
    "*  LaGuardia Airport the most amount of revenue is also Earned from LaGuardia and followed by JFK Airport\n",
    "* The most of the passengers travel with vendor 2 then followed by vendor 1\n",
    "* Most of the payment was done form Credit Card and then followed by Cash.\n",
    "* Most amount of extra charges are 50 cents Standard State Surcharge Plus and $1.00 rush hour surcharge \n",
    "* Mean tip amount was higher for passengers greater than 6 about 8.1 to 9.7\n"
   ]
  },
  {
   "cell_type": "code",
   "execution_count": 94,
   "metadata": {
    "executionInfo": {
     "elapsed": 558,
     "status": "ok",
     "timestamp": 1654440720135,
     "user": {
      "displayName": "Nabhdeep Choudhary",
      "userId": "10453203815156583225"
     },
     "user_tz": -330
    },
    "id": "H8oWNpj3lzS3"
   },
   "outputs": [],
   "source": [
    "import jovian"
   ]
  },
  {
   "cell_type": "code",
   "execution_count": 95,
   "metadata": {
    "colab": {
     "base_uri": "https://localhost:8080/",
     "height": 87
    },
    "executionInfo": {
     "elapsed": 4007,
     "status": "ok",
     "timestamp": 1654440724800,
     "user": {
      "displayName": "Nabhdeep Choudhary",
      "userId": "10453203815156583225"
     },
     "user_tz": -330
    },
    "id": "rYHXJUpUlzS3",
    "outputId": "e2d14929-4a67-48d1-9a1d-becb3c692ea8"
   },
   "outputs": [
    {
     "name": "stdout",
     "output_type": "stream",
     "text": [
      "[jovian] Detected Colab notebook...\u001b[0m\n",
      "[jovian] Uploading colab notebook to Jovian...\u001b[0m\n",
      "Committed successfully! https://jovian.ai/deep3700/course-project-nyc-taxi\n"
     ]
    },
    {
     "data": {
      "application/vnd.google.colaboratory.intrinsic+json": {
       "type": "string"
      },
      "text/plain": [
       "'https://jovian.ai/deep3700/course-project-nyc-taxi'"
      ]
     },
     "execution_count": 95,
     "metadata": {},
     "output_type": "execute_result"
    }
   ],
   "source": [
    "jovian.commit()"
   ]
  },
  {
   "cell_type": "markdown",
   "metadata": {
    "id": "Yut98IH_lzS4"
   },
   "source": [
    "## References and Future Work\n",
    "\n",
    "This was the past data we can also consider the current and the all of the pervious year data. \n",
    "To predict the people taking taxis and planing more efficiet path so that taxis so that there is a reduce in mean trip distace time.\n",
    "We also can map the path that each taxi took to complete the trip. This data will also be usefull in many ways like the we can check the relation of trip distace and the distance travelled for each trip.Also, a column mentioning which type of cab there is the trip So, that we can figure out the preference of the passenger.\n",
    "\n",
    "\n",
    "\n",
    "\n",
    "### Links to resources you found useful.\n",
    "\n",
    "* https://en.wikipedia.org/wiki/Tourism_in_New_York_City\n",
    "* https://www1.nyc.gov/site/tlc/about/tlc-initiatives.page\n",
    "* https://www1.nyc.gov/site/tlc/about/tlc-trip-record-data.page\n",
    "* https://www.introducingnewyork.com/taxis"
   ]
  },
  {
   "cell_type": "code",
   "execution_count": 96,
   "metadata": {
    "executionInfo": {
     "elapsed": 1068,
     "status": "ok",
     "timestamp": 1654441815606,
     "user": {
      "displayName": "Nabhdeep Choudhary",
      "userId": "10453203815156583225"
     },
     "user_tz": -330
    },
    "id": "x3CYLhOQlzS6"
   },
   "outputs": [],
   "source": [
    "import jovian"
   ]
  },
  {
   "cell_type": "code",
   "execution_count": 97,
   "metadata": {
    "colab": {
     "base_uri": "https://localhost:8080/",
     "height": 87
    },
    "executionInfo": {
     "elapsed": 2318,
     "status": "ok",
     "timestamp": 1654441819581,
     "user": {
      "displayName": "Nabhdeep Choudhary",
      "userId": "10453203815156583225"
     },
     "user_tz": -330
    },
    "id": "9opLBjiulzS7",
    "outputId": "14b392a6-1707-44d1-e600-dbe9511d51b4",
    "scrolled": true
   },
   "outputs": [
    {
     "name": "stdout",
     "output_type": "stream",
     "text": [
      "[jovian] Detected Colab notebook...\u001b[0m\n",
      "[jovian] Uploading colab notebook to Jovian...\u001b[0m\n",
      "Committed successfully! https://jovian.ai/deep3700/course-project-nyc-taxi\n"
     ]
    },
    {
     "data": {
      "application/vnd.google.colaboratory.intrinsic+json": {
       "type": "string"
      },
      "text/plain": [
       "'https://jovian.ai/deep3700/course-project-nyc-taxi'"
      ]
     },
     "execution_count": 97,
     "metadata": {},
     "output_type": "execute_result"
    }
   ],
   "source": [
    "jovian.commit()"
   ]
  },
  {
   "cell_type": "code",
   "execution_count": null,
   "metadata": {
    "id": "bV2gURZmlzS7"
   },
   "outputs": [],
   "source": []
  }
 ],
 "metadata": {
  "accelerator": "GPU",
  "colab": {
   "name": "zerotopandas-course-project.ipynb",
   "provenance": []
  },
  "language_info": {
   "codemirror_mode": {
    "name": "ipython",
    "version": 3
   },
   "file_extension": ".py",
   "mimetype": "text/x-python",
   "name": "python",
   "nbconvert_exporter": "python",
   "pygments_lexer": "ipython3",
   "version": "3.8.5"
  }
 },
 "nbformat": 4,
 "nbformat_minor": 0
}